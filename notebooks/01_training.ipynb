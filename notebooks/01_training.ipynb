{
 "cells": [
  {
   "cell_type": "markdown",
   "id": "4f3499f7-df99-45c2-a566-1e1a4f5c0432",
   "metadata": {},
   "source": [
    "# Email Phishing Detection\n",
    "\n",
    "This notebook uses the `phishing_email.csv` [dataset](https://www.kaggle.com/datasets/naserabdullahalam/phishing-email-dataset?resource=download&select=phishing_email.csv), which combines six real-world email datasets into a single, unified format. Each record includes a `text_combined` column that merges the sender, subject, date, and email body into one text field, and a binary `label` where `1` indicates a phishing email and `0` a legitimate one.\n",
    "\n",
    "The goal of this notebook is to explore the data, preprocess the text using NLP techniques, and train multiple machine learning models to classify phishing emails with high accuracy. Our target is to build a reliable model that achieves at least **95% accuracy** on the test set, making it suitable for deployment in a real-world detection system."
   ]
  },
  {
   "cell_type": "markdown",
   "id": "0595d9c3-0635-4de2-ba59-0982c2db815c",
   "metadata": {},
   "source": [
    "**Imports**"
   ]
  },
  {
   "cell_type": "code",
   "execution_count": 1,
   "id": "16aed33a-276c-4ff0-b1ef-a4ff88fea69d",
   "metadata": {},
   "outputs": [
    {
     "name": "stderr",
     "output_type": "stream",
     "text": [
      "[nltk_data] Downloading package punkt to\n",
      "[nltk_data]     C:\\Users\\emrev\\AppData\\Roaming\\nltk_data...\n",
      "[nltk_data]   Package punkt is already up-to-date!\n",
      "[nltk_data] Downloading package stopwords to\n",
      "[nltk_data]     C:\\Users\\emrev\\AppData\\Roaming\\nltk_data...\n",
      "[nltk_data]   Package stopwords is already up-to-date!\n",
      "[nltk_data] Downloading package wordnet to\n",
      "[nltk_data]     C:\\Users\\emrev\\AppData\\Roaming\\nltk_data...\n",
      "[nltk_data]   Package wordnet is already up-to-date!\n",
      "[nltk_data] Downloading package omw-1.4 to\n",
      "[nltk_data]     C:\\Users\\emrev\\AppData\\Roaming\\nltk_data...\n",
      "[nltk_data]   Package omw-1.4 is already up-to-date!\n"
     ]
    }
   ],
   "source": [
    "import pandas as pd\n",
    "import numpy as np\n",
    "import matplotlib.pyplot as plt\n",
    "import seaborn as sns\n",
    "import nltk\n",
    "import re\n",
    "import string\n",
    "import joblib\n",
    "\n",
    "from nltk.corpus import stopwords\n",
    "from nltk.stem import WordNetLemmatizer\n",
    "from sklearn.model_selection import train_test_split\n",
    "from sklearn.feature_extraction.text import CountVectorizer, TfidfVectorizer\n",
    "from sklearn.naive_bayes import MultinomialNB\n",
    "from sklearn.linear_model import LogisticRegression\n",
    "from sklearn.svm import LinearSVC\n",
    "from sklearn.metrics import classification_report, confusion_matrix, accuracy_score\n",
    "\n",
    "# Setup\n",
    "nltk.download('punkt')\n",
    "nltk.download('stopwords')\n",
    "nltk.download('wordnet')\n",
    "nltk.download('omw-1.4')\n",
    "\n",
    "# Plot Style\n",
    "sns.set_style('dark')"
   ]
  },
  {
   "cell_type": "markdown",
   "id": "8c629ed4-2ccd-4f2b-bf31-ae3e27d17b69",
   "metadata": {},
   "source": [
    "## Exploratory Data Analysis (EDA)\n",
    "\n",
    "In this section, we will load the `phishing_email.csv` dataset and perform initial exploration to understand its structure, check for missing values, and analyze the class distribution. This step helps us identify any potential issues in the data and ensures that we are working with a clean and balanced dataset before moving on to text preprocessing and model training."
   ]
  },
  {
   "cell_type": "markdown",
   "id": "142ccd3b-3cc9-4545-b2d8-677d03805e5f",
   "metadata": {},
   "source": [
    "**Load the Dataset**"
   ]
  },
  {
   "cell_type": "code",
   "execution_count": 2,
   "id": "5cfb9bc9-d558-4d9b-b31d-5836bce2cf1e",
   "metadata": {},
   "outputs": [
    {
     "data": {
      "text/html": [
       "<div>\n",
       "<style scoped>\n",
       "    .dataframe tbody tr th:only-of-type {\n",
       "        vertical-align: middle;\n",
       "    }\n",
       "\n",
       "    .dataframe tbody tr th {\n",
       "        vertical-align: top;\n",
       "    }\n",
       "\n",
       "    .dataframe thead th {\n",
       "        text-align: right;\n",
       "    }\n",
       "</style>\n",
       "<table border=\"1\" class=\"dataframe\">\n",
       "  <thead>\n",
       "    <tr style=\"text-align: right;\">\n",
       "      <th></th>\n",
       "      <th>text_combined</th>\n",
       "      <th>label</th>\n",
       "    </tr>\n",
       "  </thead>\n",
       "  <tbody>\n",
       "    <tr>\n",
       "      <th>0</th>\n",
       "      <td>hpl nom may 25 2001 see attached file hplno 52...</td>\n",
       "      <td>0</td>\n",
       "    </tr>\n",
       "    <tr>\n",
       "      <th>1</th>\n",
       "      <td>nom actual vols 24 th forwarded sabrae zajac h...</td>\n",
       "      <td>0</td>\n",
       "    </tr>\n",
       "    <tr>\n",
       "      <th>2</th>\n",
       "      <td>enron actuals march 30 april 1 201 estimated a...</td>\n",
       "      <td>0</td>\n",
       "    </tr>\n",
       "    <tr>\n",
       "      <th>3</th>\n",
       "      <td>hpl nom may 30 2001 see attached file hplno 53...</td>\n",
       "      <td>0</td>\n",
       "    </tr>\n",
       "    <tr>\n",
       "      <th>4</th>\n",
       "      <td>hpl nom june 1 2001 see attached file hplno 60...</td>\n",
       "      <td>0</td>\n",
       "    </tr>\n",
       "  </tbody>\n",
       "</table>\n",
       "</div>"
      ],
      "text/plain": [
       "                                       text_combined  label\n",
       "0  hpl nom may 25 2001 see attached file hplno 52...      0\n",
       "1  nom actual vols 24 th forwarded sabrae zajac h...      0\n",
       "2  enron actuals march 30 april 1 201 estimated a...      0\n",
       "3  hpl nom may 30 2001 see attached file hplno 53...      0\n",
       "4  hpl nom june 1 2001 see attached file hplno 60...      0"
      ]
     },
     "execution_count": 2,
     "metadata": {},
     "output_type": "execute_result"
    }
   ],
   "source": [
    "df = pd.read_csv(\"../data/phishing_email.csv\")\n",
    "df.head()"
   ]
  },
  {
   "cell_type": "code",
   "execution_count": 3,
   "id": "3b4c3905-e98c-4a02-a1f2-2f78e7e4895b",
   "metadata": {},
   "outputs": [
    {
     "data": {
      "text/html": [
       "<div>\n",
       "<style scoped>\n",
       "    .dataframe tbody tr th:only-of-type {\n",
       "        vertical-align: middle;\n",
       "    }\n",
       "\n",
       "    .dataframe tbody tr th {\n",
       "        vertical-align: top;\n",
       "    }\n",
       "\n",
       "    .dataframe thead th {\n",
       "        text-align: right;\n",
       "    }\n",
       "</style>\n",
       "<table border=\"1\" class=\"dataframe\">\n",
       "  <thead>\n",
       "    <tr style=\"text-align: right;\">\n",
       "      <th></th>\n",
       "      <th>label</th>\n",
       "    </tr>\n",
       "  </thead>\n",
       "  <tbody>\n",
       "    <tr>\n",
       "      <th>count</th>\n",
       "      <td>82486.000000</td>\n",
       "    </tr>\n",
       "    <tr>\n",
       "      <th>mean</th>\n",
       "      <td>0.519979</td>\n",
       "    </tr>\n",
       "    <tr>\n",
       "      <th>std</th>\n",
       "      <td>0.499604</td>\n",
       "    </tr>\n",
       "    <tr>\n",
       "      <th>min</th>\n",
       "      <td>0.000000</td>\n",
       "    </tr>\n",
       "    <tr>\n",
       "      <th>25%</th>\n",
       "      <td>0.000000</td>\n",
       "    </tr>\n",
       "    <tr>\n",
       "      <th>50%</th>\n",
       "      <td>1.000000</td>\n",
       "    </tr>\n",
       "    <tr>\n",
       "      <th>75%</th>\n",
       "      <td>1.000000</td>\n",
       "    </tr>\n",
       "    <tr>\n",
       "      <th>max</th>\n",
       "      <td>1.000000</td>\n",
       "    </tr>\n",
       "  </tbody>\n",
       "</table>\n",
       "</div>"
      ],
      "text/plain": [
       "              label\n",
       "count  82486.000000\n",
       "mean       0.519979\n",
       "std        0.499604\n",
       "min        0.000000\n",
       "25%        0.000000\n",
       "50%        1.000000\n",
       "75%        1.000000\n",
       "max        1.000000"
      ]
     },
     "execution_count": 3,
     "metadata": {},
     "output_type": "execute_result"
    }
   ],
   "source": [
    "df.describe()"
   ]
  },
  {
   "cell_type": "code",
   "execution_count": 4,
   "id": "1ec3a0ad-5d2f-4264-8d14-92330c41e92e",
   "metadata": {},
   "outputs": [
    {
     "name": "stdout",
     "output_type": "stream",
     "text": [
      "<class 'pandas.core.frame.DataFrame'>\n",
      "RangeIndex: 82486 entries, 0 to 82485\n",
      "Data columns (total 2 columns):\n",
      " #   Column         Non-Null Count  Dtype \n",
      "---  ------         --------------  ----- \n",
      " 0   text_combined  82486 non-null  object\n",
      " 1   label          82486 non-null  int64 \n",
      "dtypes: int64(1), object(1)\n",
      "memory usage: 1.3+ MB\n"
     ]
    }
   ],
   "source": [
    "df.info()"
   ]
  },
  {
   "cell_type": "markdown",
   "id": "4ddf184e-a769-4b55-8114-1df582ffce9b",
   "metadata": {},
   "source": [
    "The dataset has `2` columns and `82486` rows."
   ]
  },
  {
   "cell_type": "code",
   "execution_count": 5,
   "id": "58118cd5-acea-424c-949e-f6e85f928361",
   "metadata": {},
   "outputs": [
    {
     "data": {
      "text/plain": [
       "text_combined    0\n",
       "label            0\n",
       "dtype: int64"
      ]
     },
     "execution_count": 5,
     "metadata": {},
     "output_type": "execute_result"
    }
   ],
   "source": [
    "df.isna().sum()"
   ]
  },
  {
   "cell_type": "markdown",
   "id": "9c68bc58-13e6-49ed-b119-8a3f8216c603",
   "metadata": {},
   "source": [
    "There are no `null` values."
   ]
  },
  {
   "cell_type": "code",
   "execution_count": 6,
   "id": "9bfb697f-726d-4a9a-a2a0-3ef447599a91",
   "metadata": {},
   "outputs": [
    {
     "name": "stdout",
     "output_type": "stream",
     "text": [
      "label\n",
      "1    51.997915\n",
      "0    48.002085\n",
      "Name: proportion, dtype: float64\n"
     ]
    }
   ],
   "source": [
    "print(df['label'].value_counts(normalize=True) * 100)"
   ]
  },
  {
   "cell_type": "markdown",
   "id": "dfda2e66-79bf-4b3a-87a9-ba789bc96335",
   "metadata": {},
   "source": [
    "**Example of Emails**:"
   ]
  },
  {
   "cell_type": "code",
   "execution_count": 7,
   "id": "08553717-00a8-492b-b81c-e42b1de11b5f",
   "metadata": {},
   "outputs": [
    {
     "name": "stdout",
     "output_type": "stream",
     "text": [
      "Legitimate Example:\n",
      " hpl nom may 25 2001 see attached file hplno 525 xls hplno 525 xls\n"
     ]
    }
   ],
   "source": [
    "print(\"Legitimate Example:\\n\", df[df['label'] == 0]['text_combined'].iloc[0])"
   ]
  },
  {
   "cell_type": "code",
   "execution_count": 8,
   "id": "6dc3e02b-2427-4099-903c-909a5ac3a1eb",
   "metadata": {},
   "outputs": [
    {
     "name": "stdout",
     "output_type": "stream",
     "text": [
      "\n",
      "Phishing Example:\n",
      " link dwl g 510 802 11 g wireless pci lan adapter 39 85 39 85 dwl g 510 high speed 2 4 ghz 802 11 g wireless pci lan adapter ieee 802 11 g standardupto 54 mbpsoperating frequency range 2 4 ghz ideal solution enabling wireless networking capabilities desktops pcs home office dwl g 510 visit http www computron com deals link dwl g 510 802 11 g wireless pci lan adapter link g 510 wireless pci adapter featuring latest ieee 802 11 g wireless technology deliverincredibly fast data transfer 2 4 ghz frequency g 510 features 802 11 g standard backwards compatible existing 802 11 11 b products already also offers 64 128 bit wep encryption includes removable antenna driver cd get link g 510 wireless pci lan adapter today general features pci interface removable antenna 64 128 bit wep encryption link act led plug play one stop distributorjebel ali duty free zonedubai uae www computron com latest clearance sale listing contact sales department limited quantities available selected specials details please send enquiries dealers emirates net aeor contact via www computron com compaq hewlett packard 3 com dell intel iomega epson aopen creative toshiba apc cisco us robotics microsoft canon intellinet targus viewsonic ibm sony lots complaints suggestions contact customerservice computron com tel 971 4 8834464 prices u dollars ex works fax 971 4 8834454 jebel ali duty free zone www computron com prices availability subject change usa canada u e without notice receive special offers plain text format reply mail request export email considered spam long include contact information remove instructions message intended dealer resellers somehow gotten list error reason would like removed please reply remove subject line message message sent compliance federal legislation commercial e mail h r 4176 section 101 paragraph e 1 bill 1618 title iii passed 105 th u congress logos trademarks property respective owners products may exactly shown unsubscribe computron 6 follow link click link copy paste address browser\n"
     ]
    }
   ],
   "source": [
    "print(\"\\nPhishing Example:\\n\", df[df['label'] == 1]['text_combined'].iloc[0])"
   ]
  },
  {
   "cell_type": "markdown",
   "id": "179776d1-610c-44bf-8eec-977307d44cae",
   "metadata": {},
   "source": [
    "**Visualization**:"
   ]
  },
  {
   "cell_type": "code",
   "execution_count": 9,
   "id": "8e83a5fd-a0a1-470a-bdf0-36fc1d29d8c5",
   "metadata": {},
   "outputs": [
    {
     "data": {
      "image/png": "[encoded data removed]",
      "text/plain": [
       "<Figure size 640x480 with 1 Axes>"
      ]
     },
     "metadata": {},
     "output_type": "display_data"
    }
   ],
   "source": [
    "sns.countplot(data=df, x=df['label'], hue=df['label'], legend=False, palette={0: \"skyblue\", 1: \"orange\"})\n",
    "plt.title('Class Distribution (0 = Legitimate, 1 = Phishing)')\n",
    "plt.xlabel('Email Type')\n",
    "plt.ylabel('Count')\n",
    "\n",
    "# Save as Image\n",
    "plt.savefig(fname='../images/Email_Class_Distribution.png')\n",
    "\n",
    "# Show the Plot\n",
    "plt.show()"
   ]
  },
  {
   "cell_type": "markdown",
   "id": "f5fd7213-6fd5-4b3b-a3f3-7b3fec9446dd",
   "metadata": {},
   "source": [
    "We have a balanced dataset! Now, it is time to check the length of the text!"
   ]
  },
  {
   "cell_type": "code",
   "execution_count": 10,
   "id": "1b73294a-9eec-4b2b-ba0e-6592ae4ea89a",
   "metadata": {},
   "outputs": [
    {
     "data": {
      "image/png": "[encoded data removed]",
      "text/plain": [
       "<Figure size 640x480 with 1 Axes>"
      ]
     },
     "metadata": {},
     "output_type": "display_data"
    }
   ],
   "source": [
    "# Get the text length for each row\n",
    "df['text_length'] = df['text_combined'].apply(len)\n",
    "\n",
    "# Drop the data where the text length is more than 10k\n",
    "filtered_df = df[df['text_length'] < 10000]\n",
    "\n",
    "# Histogram\n",
    "sns.histplot(data=filtered_df, x='text_length', hue='label', kde=True, bins=50)\n",
    "plt.title('Text Length Distribution by Class')\n",
    "plt.xlabel('Text Length')\n",
    "plt.ylabel('Frequency')\n",
    "\n",
    "# Save as Image\n",
    "plt.savefig(fname='../images/Text_Length_Distribution_By_Class.png')\n",
    "\n",
    "# Show the Plot\n",
    "plt.show()"
   ]
  },
  {
   "cell_type": "code",
   "execution_count": 11,
   "id": "89020496-dd62-4579-bfb4-9f306b6d584e",
   "metadata": {},
   "outputs": [
    {
     "data": {
      "image/png": "[encoded data removed]",
      "text/plain": [
       "<Figure size 640x480 with 1 Axes>"
      ]
     },
     "metadata": {},
     "output_type": "display_data"
    }
   ],
   "source": [
    "# Get the mean of the text length based on the label\n",
    "mean_length = df.groupby('label')['text_length'].mean()\n",
    "\n",
    "# Plot\n",
    "mean_length.plot(kind='bar', color=['orange', 'skyblue'])\n",
    "plt.title('Mean Text Length by Class')\n",
    "plt.xlabel('Label (0 = Legitimate, 1 = Phishing)')\n",
    "plt.ylabel('Average Text Length')\n",
    "plt.xticks(rotation=0)\n",
    "\n",
    "# Save as Image\n",
    "plt.savefig(fname='../images/Mean_Text_Length_By_Class.png')\n",
    "\n",
    "# Show the Plot\n",
    "plt.show()"
   ]
  },
  {
   "cell_type": "markdown",
   "id": "8d84ada9-6827-4f6b-a78e-63eb792454bb",
   "metadata": {},
   "source": [
    "From our analysis, we observe that **legitimate emails tend to be longer on average** than phishing emails. This trend is evident in both the mean text length and the overall length distribution. Phishing emails often prioritize urgency or simplicity, resulting in shorter messages with focused, manipulative content. In contrast, legitimate emails may contain more context, formal structure, and additional content like disclaimers or formatting.\n",
    "\n",
    "These insights can be valuable for future feature engineering or anomaly detection strategies."
   ]
  },
  {
   "cell_type": "markdown",
   "id": "29d22ea1-50ce-4a07-a2f2-105c64a526d3",
   "metadata": {},
   "source": [
    "## Text Preprocessing\n",
    "\n",
    "Before training any machine learning models, we need to clean and standardize the raw email text. In this section, we will preprocess the `text_combined` column by applying common NLP techniques such as lowercasing, removing punctuation and stopwords, and lemmatizing the words. This step ensures that the text data is in a consistent and simplified format, making it easier for models to learn meaningful patterns."
   ]
  },
  {
   "cell_type": "markdown",
   "id": "147b7642-11e6-4330-862d-c851cf62c10b",
   "metadata": {},
   "source": [
    "**Make it Lower Case**:"
   ]
  },
  {
   "cell_type": "code",
   "execution_count": 12,
   "id": "e48364d2-ae02-473c-b4ff-5a0db75a3451",
   "metadata": {},
   "outputs": [
    {
     "data": {
      "text/html": [
       "<div>\n",
       "<style scoped>\n",
       "    .dataframe tbody tr th:only-of-type {\n",
       "        vertical-align: middle;\n",
       "    }\n",
       "\n",
       "    .dataframe tbody tr th {\n",
       "        vertical-align: top;\n",
       "    }\n",
       "\n",
       "    .dataframe thead th {\n",
       "        text-align: right;\n",
       "    }\n",
       "</style>\n",
       "<table border=\"1\" class=\"dataframe\">\n",
       "  <thead>\n",
       "    <tr style=\"text-align: right;\">\n",
       "      <th></th>\n",
       "      <th>text_combined</th>\n",
       "      <th>label</th>\n",
       "      <th>text_length</th>\n",
       "      <th>clean_text</th>\n",
       "    </tr>\n",
       "  </thead>\n",
       "  <tbody>\n",
       "    <tr>\n",
       "      <th>0</th>\n",
       "      <td>hpl nom may 25 2001 see attached file hplno 52...</td>\n",
       "      <td>0</td>\n",
       "      <td>65</td>\n",
       "      <td>hpl nom may 25 2001 see attached file hplno 52...</td>\n",
       "    </tr>\n",
       "    <tr>\n",
       "      <th>1</th>\n",
       "      <td>nom actual vols 24 th forwarded sabrae zajac h...</td>\n",
       "      <td>0</td>\n",
       "      <td>1071</td>\n",
       "      <td>nom actual vols 24 th forwarded sabrae zajac h...</td>\n",
       "    </tr>\n",
       "    <tr>\n",
       "      <th>2</th>\n",
       "      <td>enron actuals march 30 april 1 201 estimated a...</td>\n",
       "      <td>0</td>\n",
       "      <td>148</td>\n",
       "      <td>enron actuals march 30 april 1 201 estimated a...</td>\n",
       "    </tr>\n",
       "    <tr>\n",
       "      <th>3</th>\n",
       "      <td>hpl nom may 30 2001 see attached file hplno 53...</td>\n",
       "      <td>0</td>\n",
       "      <td>65</td>\n",
       "      <td>hpl nom may 30 2001 see attached file hplno 53...</td>\n",
       "    </tr>\n",
       "    <tr>\n",
       "      <th>4</th>\n",
       "      <td>hpl nom june 1 2001 see attached file hplno 60...</td>\n",
       "      <td>0</td>\n",
       "      <td>65</td>\n",
       "      <td>hpl nom june 1 2001 see attached file hplno 60...</td>\n",
       "    </tr>\n",
       "  </tbody>\n",
       "</table>\n",
       "</div>"
      ],
      "text/plain": [
       "                                       text_combined  label  text_length  \\\n",
       "0  hpl nom may 25 2001 see attached file hplno 52...      0           65   \n",
       "1  nom actual vols 24 th forwarded sabrae zajac h...      0         1071   \n",
       "2  enron actuals march 30 april 1 201 estimated a...      0          148   \n",
       "3  hpl nom may 30 2001 see attached file hplno 53...      0           65   \n",
       "4  hpl nom june 1 2001 see attached file hplno 60...      0           65   \n",
       "\n",
       "                                          clean_text  \n",
       "0  hpl nom may 25 2001 see attached file hplno 52...  \n",
       "1  nom actual vols 24 th forwarded sabrae zajac h...  \n",
       "2  enron actuals march 30 april 1 201 estimated a...  \n",
       "3  hpl nom may 30 2001 see attached file hplno 53...  \n",
       "4  hpl nom june 1 2001 see attached file hplno 60...  "
      ]
     },
     "execution_count": 12,
     "metadata": {},
     "output_type": "execute_result"
    }
   ],
   "source": [
    "df['clean_text'] = df['text_combined'].str.lower()\n",
    "df.head()"
   ]
  },
  {
   "cell_type": "markdown",
   "id": "9639c80c-3b3c-4b18-b04e-c6265e6e3629",
   "metadata": {},
   "source": [
    "**Numbers and Punctuation**"
   ]
  },
  {
   "cell_type": "code",
   "execution_count": 13,
   "id": "d93b6af5-0e95-457e-bb55-f9bad033ccef",
   "metadata": {},
   "outputs": [],
   "source": [
    "def remove_punctuation_numbers(txt):\n",
    "    txt = re.sub(r'\\d+', '', txt) # Numbers\n",
    "    txt = txt.translate(str.maketrans('', '', string.punctuation)) # Punctuation\n",
    "    txt = re.sub(r'\\s+', ' ', txt) # Extra Spaces\n",
    "    return txt\n",
    "\n",
    "df['clean_text'] = df['clean_text'].apply(remove_punctuation_numbers)"
   ]
  },
  {
   "cell_type": "code",
   "execution_count": 14,
   "id": "233ff8c6-1060-417f-bc74-e8a9216fb614",
   "metadata": {},
   "outputs": [
    {
     "data": {
      "text/html": [
       "<div>\n",
       "<style scoped>\n",
       "    .dataframe tbody tr th:only-of-type {\n",
       "        vertical-align: middle;\n",
       "    }\n",
       "\n",
       "    .dataframe tbody tr th {\n",
       "        vertical-align: top;\n",
       "    }\n",
       "\n",
       "    .dataframe thead th {\n",
       "        text-align: right;\n",
       "    }\n",
       "</style>\n",
       "<table border=\"1\" class=\"dataframe\">\n",
       "  <thead>\n",
       "    <tr style=\"text-align: right;\">\n",
       "      <th></th>\n",
       "      <th>text_combined</th>\n",
       "      <th>label</th>\n",
       "      <th>text_length</th>\n",
       "      <th>clean_text</th>\n",
       "    </tr>\n",
       "  </thead>\n",
       "  <tbody>\n",
       "    <tr>\n",
       "      <th>0</th>\n",
       "      <td>hpl nom may 25 2001 see attached file hplno 52...</td>\n",
       "      <td>0</td>\n",
       "      <td>65</td>\n",
       "      <td>hpl nom may see attached file hplno xls hplno xls</td>\n",
       "    </tr>\n",
       "    <tr>\n",
       "      <th>1</th>\n",
       "      <td>nom actual vols 24 th forwarded sabrae zajac h...</td>\n",
       "      <td>0</td>\n",
       "      <td>1071</td>\n",
       "      <td>nom actual vols th forwarded sabrae zajac hou ...</td>\n",
       "    </tr>\n",
       "    <tr>\n",
       "      <th>2</th>\n",
       "      <td>enron actuals march 30 april 1 201 estimated a...</td>\n",
       "      <td>0</td>\n",
       "      <td>148</td>\n",
       "      <td>enron actuals march april estimated actuals ma...</td>\n",
       "    </tr>\n",
       "    <tr>\n",
       "      <th>3</th>\n",
       "      <td>hpl nom may 30 2001 see attached file hplno 53...</td>\n",
       "      <td>0</td>\n",
       "      <td>65</td>\n",
       "      <td>hpl nom may see attached file hplno xls hplno xls</td>\n",
       "    </tr>\n",
       "    <tr>\n",
       "      <th>4</th>\n",
       "      <td>hpl nom june 1 2001 see attached file hplno 60...</td>\n",
       "      <td>0</td>\n",
       "      <td>65</td>\n",
       "      <td>hpl nom june see attached file hplno xls hplno...</td>\n",
       "    </tr>\n",
       "  </tbody>\n",
       "</table>\n",
       "</div>"
      ],
      "text/plain": [
       "                                       text_combined  label  text_length  \\\n",
       "0  hpl nom may 25 2001 see attached file hplno 52...      0           65   \n",
       "1  nom actual vols 24 th forwarded sabrae zajac h...      0         1071   \n",
       "2  enron actuals march 30 april 1 201 estimated a...      0          148   \n",
       "3  hpl nom may 30 2001 see attached file hplno 53...      0           65   \n",
       "4  hpl nom june 1 2001 see attached file hplno 60...      0           65   \n",
       "\n",
       "                                          clean_text  \n",
       "0  hpl nom may see attached file hplno xls hplno xls  \n",
       "1  nom actual vols th forwarded sabrae zajac hou ...  \n",
       "2  enron actuals march april estimated actuals ma...  \n",
       "3  hpl nom may see attached file hplno xls hplno xls  \n",
       "4  hpl nom june see attached file hplno xls hplno...  "
      ]
     },
     "execution_count": 14,
     "metadata": {},
     "output_type": "execute_result"
    }
   ],
   "source": [
    "df.head()"
   ]
  },
  {
   "cell_type": "markdown",
   "id": "b0119bf0-140d-416c-9862-0fe7728dbc87",
   "metadata": {},
   "source": [
    "**Stopwords**:"
   ]
  },
  {
   "cell_type": "code",
   "execution_count": 15,
   "id": "f5ea4237-0b70-4650-a42f-8e9dac6def62",
   "metadata": {},
   "outputs": [],
   "source": [
    "stop_words = set(stopwords.words('english'))\n",
    "\n",
    "def remove_stopwords(txt):\n",
    "    tokens = txt.split()\n",
    "    filtered = [word for word in tokens if word not in stop_words]\n",
    "    return ' '.join(filtered)\n",
    "\n",
    "df['clean_text'] = df['clean_text'].apply(remove_stopwords)"
   ]
  },
  {
   "cell_type": "code",
   "execution_count": 17,
   "id": "c131912a-cdb6-4d49-8f9e-203be9ba3fcd",
   "metadata": {},
   "outputs": [],
   "source": [
    "lemmatizer = WordNetLemmatizer()\n",
    "\n",
    "def lemmatize_text(txt):\n",
    "    tokens = txt.split()\n",
    "    lemmatized = [lemmatizer.lemmatize(word, pos='v') for word in tokens]\n",
    "    return ' '.join(lemmatized)\n",
    "\n",
    "df['clean_text'] = df['clean_text'].apply(lemmatize_text)"
   ]
  },
  {
   "cell_type": "code",
   "execution_count": 16,
   "id": "cf340266-3fb2-4c76-8230-99c14436b95c",
   "metadata": {},
   "outputs": [
    {
     "data": {
      "text/html": [
       "<div>\n",
       "<style scoped>\n",
       "    .dataframe tbody tr th:only-of-type {\n",
       "        vertical-align: middle;\n",
       "    }\n",
       "\n",
       "    .dataframe tbody tr th {\n",
       "        vertical-align: top;\n",
       "    }\n",
       "\n",
       "    .dataframe thead th {\n",
       "        text-align: right;\n",
       "    }\n",
       "</style>\n",
       "<table border=\"1\" class=\"dataframe\">\n",
       "  <thead>\n",
       "    <tr style=\"text-align: right;\">\n",
       "      <th></th>\n",
       "      <th>text_combined</th>\n",
       "      <th>label</th>\n",
       "      <th>text_length</th>\n",
       "      <th>clean_text</th>\n",
       "    </tr>\n",
       "  </thead>\n",
       "  <tbody>\n",
       "    <tr>\n",
       "      <th>0</th>\n",
       "      <td>hpl nom may 25 2001 see attached file hplno 52...</td>\n",
       "      <td>0</td>\n",
       "      <td>65</td>\n",
       "      <td>hpl nom may see attached file hplno xls hplno xls</td>\n",
       "    </tr>\n",
       "    <tr>\n",
       "      <th>1</th>\n",
       "      <td>nom actual vols 24 th forwarded sabrae zajac h...</td>\n",
       "      <td>0</td>\n",
       "      <td>1071</td>\n",
       "      <td>nom actual vols th forwarded sabrae zajac hou ...</td>\n",
       "    </tr>\n",
       "    <tr>\n",
       "      <th>2</th>\n",
       "      <td>enron actuals march 30 april 1 201 estimated a...</td>\n",
       "      <td>0</td>\n",
       "      <td>148</td>\n",
       "      <td>enron actuals march april estimated actuals ma...</td>\n",
       "    </tr>\n",
       "    <tr>\n",
       "      <th>3</th>\n",
       "      <td>hpl nom may 30 2001 see attached file hplno 53...</td>\n",
       "      <td>0</td>\n",
       "      <td>65</td>\n",
       "      <td>hpl nom may see attached file hplno xls hplno xls</td>\n",
       "    </tr>\n",
       "    <tr>\n",
       "      <th>4</th>\n",
       "      <td>hpl nom june 1 2001 see attached file hplno 60...</td>\n",
       "      <td>0</td>\n",
       "      <td>65</td>\n",
       "      <td>hpl nom june see attached file hplno xls hplno...</td>\n",
       "    </tr>\n",
       "  </tbody>\n",
       "</table>\n",
       "</div>"
      ],
      "text/plain": [
       "                                       text_combined  label  text_length  \\\n",
       "0  hpl nom may 25 2001 see attached file hplno 52...      0           65   \n",
       "1  nom actual vols 24 th forwarded sabrae zajac h...      0         1071   \n",
       "2  enron actuals march 30 april 1 201 estimated a...      0          148   \n",
       "3  hpl nom may 30 2001 see attached file hplno 53...      0           65   \n",
       "4  hpl nom june 1 2001 see attached file hplno 60...      0           65   \n",
       "\n",
       "                                          clean_text  \n",
       "0  hpl nom may see attached file hplno xls hplno xls  \n",
       "1  nom actual vols th forwarded sabrae zajac hou ...  \n",
       "2  enron actuals march april estimated actuals ma...  \n",
       "3  hpl nom may see attached file hplno xls hplno xls  \n",
       "4  hpl nom june see attached file hplno xls hplno...  "
      ]
     },
     "execution_count": 16,
     "metadata": {},
     "output_type": "execute_result"
    }
   ],
   "source": [
    "df.head()"
   ]
  },
  {
   "cell_type": "markdown",
   "id": "f111da32-8cff-4044-adb1-8eb7de479878",
   "metadata": {},
   "source": [
    "**Lemmatization**:"
   ]
  },
  {
   "cell_type": "code",
   "execution_count": 18,
   "id": "6af96a25-d13e-49fd-8b53-8c1f41b8014e",
   "metadata": {},
   "outputs": [
    {
     "data": {
      "text/html": [
       "<div>\n",
       "<style scoped>\n",
       "    .dataframe tbody tr th:only-of-type {\n",
       "        vertical-align: middle;\n",
       "    }\n",
       "\n",
       "    .dataframe tbody tr th {\n",
       "        vertical-align: top;\n",
       "    }\n",
       "\n",
       "    .dataframe thead th {\n",
       "        text-align: right;\n",
       "    }\n",
       "</style>\n",
       "<table border=\"1\" class=\"dataframe\">\n",
       "  <thead>\n",
       "    <tr style=\"text-align: right;\">\n",
       "      <th></th>\n",
       "      <th>text_combined</th>\n",
       "      <th>label</th>\n",
       "      <th>text_length</th>\n",
       "      <th>clean_text</th>\n",
       "    </tr>\n",
       "  </thead>\n",
       "  <tbody>\n",
       "    <tr>\n",
       "      <th>0</th>\n",
       "      <td>hpl nom may 25 2001 see attached file hplno 52...</td>\n",
       "      <td>0</td>\n",
       "      <td>65</td>\n",
       "      <td>hpl nom may see attach file hplno xls hplno xls</td>\n",
       "    </tr>\n",
       "    <tr>\n",
       "      <th>1</th>\n",
       "      <td>nom actual vols 24 th forwarded sabrae zajac h...</td>\n",
       "      <td>0</td>\n",
       "      <td>1071</td>\n",
       "      <td>nom actual vols th forward sabrae zajac hou ec...</td>\n",
       "    </tr>\n",
       "    <tr>\n",
       "      <th>2</th>\n",
       "      <td>enron actuals march 30 april 1 201 estimated a...</td>\n",
       "      <td>0</td>\n",
       "      <td>148</td>\n",
       "      <td>enron actuals march april estimate actuals mar...</td>\n",
       "    </tr>\n",
       "    <tr>\n",
       "      <th>3</th>\n",
       "      <td>hpl nom may 30 2001 see attached file hplno 53...</td>\n",
       "      <td>0</td>\n",
       "      <td>65</td>\n",
       "      <td>hpl nom may see attach file hplno xls hplno xls</td>\n",
       "    </tr>\n",
       "    <tr>\n",
       "      <th>4</th>\n",
       "      <td>hpl nom june 1 2001 see attached file hplno 60...</td>\n",
       "      <td>0</td>\n",
       "      <td>65</td>\n",
       "      <td>hpl nom june see attach file hplno xls hplno xls</td>\n",
       "    </tr>\n",
       "  </tbody>\n",
       "</table>\n",
       "</div>"
      ],
      "text/plain": [
       "                                       text_combined  label  text_length  \\\n",
       "0  hpl nom may 25 2001 see attached file hplno 52...      0           65   \n",
       "1  nom actual vols 24 th forwarded sabrae zajac h...      0         1071   \n",
       "2  enron actuals march 30 april 1 201 estimated a...      0          148   \n",
       "3  hpl nom may 30 2001 see attached file hplno 53...      0           65   \n",
       "4  hpl nom june 1 2001 see attached file hplno 60...      0           65   \n",
       "\n",
       "                                          clean_text  \n",
       "0    hpl nom may see attach file hplno xls hplno xls  \n",
       "1  nom actual vols th forward sabrae zajac hou ec...  \n",
       "2  enron actuals march april estimate actuals mar...  \n",
       "3    hpl nom may see attach file hplno xls hplno xls  \n",
       "4   hpl nom june see attach file hplno xls hplno xls  "
      ]
     },
     "execution_count": 18,
     "metadata": {},
     "output_type": "execute_result"
    }
   ],
   "source": [
    "df.head()"
   ]
  },
  {
   "cell_type": "markdown",
   "id": "1fa85b1e-c6d4-49c8-b3d5-b7e389eab7e3",
   "metadata": {},
   "source": [
    "We have successfully cleaned the raw email text to prepare it for machine learning. The preprocessing steps included converting all text to lowercase, removing punctuation and numbers, eliminating stopwords, and applying lemmatization to reduce words to their base forms. These steps help standardize the text data, reduce noise, and ensure that the model can focus on the most meaningful patterns for phishing detection."
   ]
  },
  {
   "cell_type": "markdown",
   "id": "0b5f1339-0626-426d-ae11-72b2e90ee446",
   "metadata": {},
   "source": [
    "## Feature Extraction and Model Training\n",
    "\n",
    "In this section, we will convert the preprocessed email text into numerical features using the **TF-IDF** vectorization technique. This transforms the clean text into a format that machine learning models can understand. After vectorization, we will train and evaluate multiple classification models to detect phishing emails, including `Naive Bayes`, `Logistic Regression`, and `Support Vector Machines (SVM)`. Our goal is to identify a model that achieves strong accuracy and generalizes well to unseen data."
   ]
  },
  {
   "cell_type": "markdown",
   "id": "c7a720d6-9f49-4dab-aee4-1a023db2b362",
   "metadata": {},
   "source": [
    "**Drop the Unnecessary Column**:"
   ]
  },
  {
   "cell_type": "code",
   "execution_count": 19,
   "id": "fd038de9-c6dc-49f7-878a-8ba4b7c31aad",
   "metadata": {},
   "outputs": [
    {
     "data": {
      "text/html": [
       "<div>\n",
       "<style scoped>\n",
       "    .dataframe tbody tr th:only-of-type {\n",
       "        vertical-align: middle;\n",
       "    }\n",
       "\n",
       "    .dataframe tbody tr th {\n",
       "        vertical-align: top;\n",
       "    }\n",
       "\n",
       "    .dataframe thead th {\n",
       "        text-align: right;\n",
       "    }\n",
       "</style>\n",
       "<table border=\"1\" class=\"dataframe\">\n",
       "  <thead>\n",
       "    <tr style=\"text-align: right;\">\n",
       "      <th></th>\n",
       "      <th>clean_text</th>\n",
       "      <th>label</th>\n",
       "    </tr>\n",
       "  </thead>\n",
       "  <tbody>\n",
       "    <tr>\n",
       "      <th>0</th>\n",
       "      <td>hpl nom may see attach file hplno xls hplno xls</td>\n",
       "      <td>0</td>\n",
       "    </tr>\n",
       "    <tr>\n",
       "      <th>1</th>\n",
       "      <td>nom actual vols th forward sabrae zajac hou ec...</td>\n",
       "      <td>0</td>\n",
       "    </tr>\n",
       "    <tr>\n",
       "      <th>2</th>\n",
       "      <td>enron actuals march april estimate actuals mar...</td>\n",
       "      <td>0</td>\n",
       "    </tr>\n",
       "    <tr>\n",
       "      <th>3</th>\n",
       "      <td>hpl nom may see attach file hplno xls hplno xls</td>\n",
       "      <td>0</td>\n",
       "    </tr>\n",
       "    <tr>\n",
       "      <th>4</th>\n",
       "      <td>hpl nom june see attach file hplno xls hplno xls</td>\n",
       "      <td>0</td>\n",
       "    </tr>\n",
       "  </tbody>\n",
       "</table>\n",
       "</div>"
      ],
      "text/plain": [
       "                                          clean_text  label\n",
       "0    hpl nom may see attach file hplno xls hplno xls      0\n",
       "1  nom actual vols th forward sabrae zajac hou ec...      0\n",
       "2  enron actuals march april estimate actuals mar...      0\n",
       "3    hpl nom may see attach file hplno xls hplno xls      0\n",
       "4   hpl nom june see attach file hplno xls hplno xls      0"
      ]
     },
     "execution_count": 19,
     "metadata": {},
     "output_type": "execute_result"
    }
   ],
   "source": [
    "df = df[['clean_text', 'label']]\n",
    "df.head()"
   ]
  },
  {
   "cell_type": "markdown",
   "id": "a46d2f4c-b392-4407-baab-6728e435467d",
   "metadata": {},
   "source": [
    "**TF-IDF Vectorization**:"
   ]
  },
  {
   "cell_type": "code",
   "execution_count": 20,
   "id": "1fc5e4a5-ab34-4183-9b1e-9b8047328b2d",
   "metadata": {},
   "outputs": [],
   "source": [
    "# Create Vectorizer\n",
    "tfidf = TfidfVectorizer(max_features=5000) # Limit to top 5k important words\n",
    "\n",
    "# Fit and Transform\n",
    "X = tfidf.fit_transform(df['clean_text'])\n",
    "\n",
    "# Target labels\n",
    "y = df['label']"
   ]
  },
  {
   "cell_type": "markdown",
   "id": "49f7a64c-822f-4f09-8fd1-7ce597eb2b35",
   "metadata": {},
   "source": [
    "**Train & Test Split**:"
   ]
  },
  {
   "cell_type": "code",
   "execution_count": 21,
   "id": "3db2d61d-716a-4378-8f81-5fad00dcf23c",
   "metadata": {},
   "outputs": [],
   "source": [
    "X_train, X_test, y_train, y_test = train_test_split(X, y, test_size=0.2, random_state=42, stratify=y)"
   ]
  },
  {
   "cell_type": "markdown",
   "id": "ae7273b0-4618-483c-adda-066cb7a0a69d",
   "metadata": {},
   "source": [
    "**Train Naive Bayes Classifier**:"
   ]
  },
  {
   "cell_type": "code",
   "execution_count": 22,
   "id": "b6c9ed18-93ea-4190-8f3b-9cb9c9c7eeaa",
   "metadata": {},
   "outputs": [
    {
     "name": "stdout",
     "output_type": "stream",
     "text": [
      "Naive Bayes Base Model's Score: 0.9580555218814402\n"
     ]
    }
   ],
   "source": [
    "# Initialize and Fit the Model\n",
    "nb_model = MultinomialNB()\n",
    "nb_model.fit(X_train, y_train)\n",
    "\n",
    "# Get the score\n",
    "nb_score = nb_model.score(X_test, y_test)\n",
    "\n",
    "# Get Predicts\n",
    "y_pred_nb = nb_model.predict(X_test)\n",
    "\n",
    "# Print the Score\n",
    "print(f\"Naive Bayes Base Model's Score: {nb_score}\")"
   ]
  },
  {
   "cell_type": "code",
   "execution_count": 23,
   "id": "221e5de6-349c-4920-b3d4-fad2d93fb2c0",
   "metadata": {},
   "outputs": [
    {
     "name": "stdout",
     "output_type": "stream",
     "text": [
      "Accuracy: 0.9580555218814402\n",
      "\n",
      "Classification Report:\n",
      "               precision    recall  f1-score   support\n",
      "\n",
      "           0       0.94      0.98      0.96      7919\n",
      "           1       0.98      0.94      0.96      8579\n",
      "\n",
      "    accuracy                           0.96     16498\n",
      "   macro avg       0.96      0.96      0.96     16498\n",
      "weighted avg       0.96      0.96      0.96     16498\n",
      "\n"
     ]
    },
    {
     "data": {
      "image/png": "[encoded data removed]",
      "text/plain": [
       "<Figure size 640x480 with 2 Axes>"
      ]
     },
     "metadata": {},
     "output_type": "display_data"
    }
   ],
   "source": [
    "# Accuracy\n",
    "print(\"Accuracy:\", accuracy_score(y_test, y_pred_nb))\n",
    "\n",
    "# Detailed Report\n",
    "print(\"\\nClassification Report:\\n\", classification_report(y_test, y_pred_nb))\n",
    "\n",
    "# Confusion Matrix\n",
    "sns.heatmap(confusion_matrix(y_test, y_pred_nb), annot=True, fmt='d', cmap='Blues')\n",
    "plt.title('Confusion Matrix - Naive Bayes')\n",
    "plt.xlabel('Predicted')\n",
    "plt.ylabel('Actual')\n",
    "\n",
    "# Save as Image\n",
    "plt.savefig(fname='../images/Naive_Bayes_Confusion_Matrix.png')\n",
    "\n",
    "# Show the Plot\n",
    "plt.show()"
   ]
  },
  {
   "cell_type": "markdown",
   "id": "6e8a1db3-cdc5-4e58-8d63-58525effe7f6",
   "metadata": {},
   "source": [
    "We trained a Multinomial Naive Bayes model as a baseline classifier using TF-IDF features. The model achieved an accuracy of **95.8%**, with both classes showing high precision and recall. Legitimate emails (label 0) were predicted correctly 97.5% of the time, while phishing emails (label 1) had a recall of 94.2%. This strong baseline performance indicates that phishing emails can be effectively detected using simple NLP techniques and Naive Bayes. Next, we will evaluate a `Logistic Regression` model to see if we can further improve performance."
   ]
  },
  {
   "cell_type": "markdown",
   "id": "b9338350-a19f-467e-9e3d-2ca90db969ae",
   "metadata": {},
   "source": [
    "**Logistic Regression**:"
   ]
  },
  {
   "cell_type": "code",
   "execution_count": 24,
   "id": "2d225c29-b0a9-4f28-8a3d-66fee055a79b",
   "metadata": {},
   "outputs": [
    {
     "name": "stdout",
     "output_type": "stream",
     "text": [
      "Logistic Regression Base Model's Score: 0.980724936355922\n"
     ]
    }
   ],
   "source": [
    "# Initialize and Fit the model\n",
    "log_model = LogisticRegression(max_iter=1000)\n",
    "log_model.fit(X_train, y_train)\n",
    "\n",
    "# Print the Score\n",
    "log_score = log_model.score(X_test, y_test)\n",
    "print(f\"Logistic Regression Base Model's Score: {log_score}\")\n",
    "\n",
    "# Get the Predicts\n",
    "y_pred_log = log_model.predict(X_test)"
   ]
  },
  {
   "cell_type": "code",
   "execution_count": 25,
   "id": "5c8c92aa-73cc-4153-a976-f349548d2385",
   "metadata": {},
   "outputs": [
    {
     "name": "stdout",
     "output_type": "stream",
     "text": [
      "Accuracy: 0.980724936355922\n",
      "\n",
      "Classification Report:\n",
      "               precision    recall  f1-score   support\n",
      "\n",
      "           0       0.98      0.98      0.98      7919\n",
      "           1       0.98      0.98      0.98      8579\n",
      "\n",
      "    accuracy                           0.98     16498\n",
      "   macro avg       0.98      0.98      0.98     16498\n",
      "weighted avg       0.98      0.98      0.98     16498\n",
      "\n"
     ]
    },
    {
     "data": {
      "image/png": "[encoded data removed]",
      "text/plain": [
       "<Figure size 640x480 with 2 Axes>"
      ]
     },
     "metadata": {},
     "output_type": "display_data"
    }
   ],
   "source": [
    "# Accuracy\n",
    "print(\"Accuracy:\", accuracy_score(y_test, y_pred_log))\n",
    "\n",
    "# Detailed Report\n",
    "print(\"\\nClassification Report:\\n\", classification_report(y_test, y_pred_log))\n",
    "\n",
    "# Confusion Matrix\n",
    "sns.heatmap(confusion_matrix(y_test, y_pred_log), annot=True, fmt='d', cmap='Blues')\n",
    "plt.title('Confusion Matrix - Logistic Regression')\n",
    "plt.xlabel('Predicted')\n",
    "plt.ylabel('Actual')\n",
    "\n",
    "# Save as Image\n",
    "plt.savefig(fname='../images/Logistic_Regression_Confusion_Matrix.png')\n",
    "\n",
    "# Show the Plot\n",
    "plt.show()"
   ]
  },
  {
   "cell_type": "markdown",
   "id": "d3c065f5-2b4e-46e9-94b2-3ec691af9bb1",
   "metadata": {},
   "source": [
    "The Logistic Regression model outperformed Naive Bayes, achieving an impressive **98.1% accuracy**. Both phishing and legitimate emails were classified with near-equal precision and recall (~98%), showing strong generalization. This improvement suggests that Logistic Regression is better suited to capture the subtle variations in text patterns present in phishing emails. With such balanced performance, this model is a strong candidate for deployment. Next, we will evaluate a Support Vector Machine (SVM) model to see if further gains are possible."
   ]
  },
  {
   "cell_type": "markdown",
   "id": "b430f37e-ecae-4ca1-afbb-04e02d526e14",
   "metadata": {},
   "source": [
    "**Support Vector Machine (SVM)**:"
   ]
  },
  {
   "cell_type": "code",
   "execution_count": 26,
   "id": "c4f1f070-d5ba-4045-9e76-223a29510ae6",
   "metadata": {},
   "outputs": [
    {
     "name": "stdout",
     "output_type": "stream",
     "text": [
      "SVM Base Model's Score: 0.9838162201478967\n"
     ]
    }
   ],
   "source": [
    "# Initialize and fit the model\n",
    "svm_model = LinearSVC()\n",
    "svm_model.fit(X_train, y_train)\n",
    "\n",
    "# Get the Score\n",
    "svm_score = svm_model.score(X_test, y_test)\n",
    "print(f\"SVM Base Model's Score: {svm_score}\")\n",
    "\n",
    "# Get the Predicts\n",
    "y_pred_svm = svm_model.predict(X_test)"
   ]
  },
  {
   "cell_type": "code",
   "execution_count": 27,
   "id": "17b59807-de79-4c76-a880-0c0ad507fee6",
   "metadata": {},
   "outputs": [
    {
     "name": "stdout",
     "output_type": "stream",
     "text": [
      "Accuracy: 0.9838162201478967\n",
      "\n",
      "Classification Report:\n",
      "               precision    recall  f1-score   support\n",
      "\n",
      "           0       0.98      0.98      0.98      7919\n",
      "           1       0.98      0.98      0.98      8579\n",
      "\n",
      "    accuracy                           0.98     16498\n",
      "   macro avg       0.98      0.98      0.98     16498\n",
      "weighted avg       0.98      0.98      0.98     16498\n",
      "\n"
     ]
    },
    {
     "data": {
      "image/png": "[encoded data removed]",
      "text/plain": [
       "<Figure size 640x480 with 2 Axes>"
      ]
     },
     "metadata": {},
     "output_type": "display_data"
    }
   ],
   "source": [
    "# Accuracy\n",
    "print(\"Accuracy:\", accuracy_score(y_test, y_pred_svm))\n",
    "\n",
    "# Classification Report\n",
    "print(\"\\nClassification Report:\\n\", classification_report(y_test, y_pred_svm))\n",
    "\n",
    "# Confusion Matrix\n",
    "sns.heatmap(confusion_matrix(y_test, y_pred_svm), annot=True, fmt='d', cmap='Blues')\n",
    "plt.title('Confusion Matrix - Support Vector Machine (SVM)')\n",
    "plt.xlabel('Predicted')\n",
    "plt.ylabel('Actual')\n",
    "\n",
    "# Save as Image\n",
    "plt.savefig(fname='../images/SVM_Confusion_Matrix.png')\n",
    "\n",
    "# Show the Plot\n",
    "plt.show()"
   ]
  },
  {
   "cell_type": "markdown",
   "id": "929930c6-739e-4a21-ad89-a8c98fd78c6d",
   "metadata": {},
   "source": [
    "The Support Vector Machine (SVM) model achieved the highest performance so far, with an accuracy of **98.4%**. Both classes were classified with excellent precision and recall, indicating that SVM handles the high-dimensional TF-IDF features very effectively. With only 267 total misclassifications out of 16,498 emails, this model demonstrates strong potential for real-world phishing detection. Given its performance and robustness, the SVM model is a top candidate for deployment in the final application."
   ]
  },
  {
   "cell_type": "markdown",
   "id": "fdab97b6-61e8-4799-a3f9-3c13b178638b",
   "metadata": {},
   "source": [
    "**Summary Table**:"
   ]
  },
  {
   "cell_type": "code",
   "execution_count": 28,
   "id": "bb5dcc2b-69ac-4e13-80de-24506526a93b",
   "metadata": {},
   "outputs": [
    {
     "data": {
      "text/html": [
       "<div>\n",
       "<style scoped>\n",
       "    .dataframe tbody tr th:only-of-type {\n",
       "        vertical-align: middle;\n",
       "    }\n",
       "\n",
       "    .dataframe tbody tr th {\n",
       "        vertical-align: top;\n",
       "    }\n",
       "\n",
       "    .dataframe thead th {\n",
       "        text-align: right;\n",
       "    }\n",
       "</style>\n",
       "<table border=\"1\" class=\"dataframe\">\n",
       "  <thead>\n",
       "    <tr style=\"text-align: right;\">\n",
       "      <th></th>\n",
       "      <th>Model</th>\n",
       "      <th>Accuracy</th>\n",
       "      <th>Precision (0 / 1)</th>\n",
       "      <th>Recall (0 / 1)</th>\n",
       "      <th>F1-Score (0 / 1)</th>\n",
       "    </tr>\n",
       "  </thead>\n",
       "  <tbody>\n",
       "    <tr>\n",
       "      <th>0</th>\n",
       "      <td>Naive Bayes</td>\n",
       "      <td>0.9581</td>\n",
       "      <td>0.94 / 0.98</td>\n",
       "      <td>0.98 / 0.94</td>\n",
       "      <td>0.96 / 0.96</td>\n",
       "    </tr>\n",
       "    <tr>\n",
       "      <th>1</th>\n",
       "      <td>Logistic Regression</td>\n",
       "      <td>0.9807</td>\n",
       "      <td>0.98 / 0.98</td>\n",
       "      <td>0.98 / 0.98</td>\n",
       "      <td>0.98 / 0.98</td>\n",
       "    </tr>\n",
       "    <tr>\n",
       "      <th>2</th>\n",
       "      <td>Support Vector Machine</td>\n",
       "      <td>0.9838</td>\n",
       "      <td>0.98 / 0.98</td>\n",
       "      <td>0.98 / 0.98</td>\n",
       "      <td>0.98 / 0.98</td>\n",
       "    </tr>\n",
       "  </tbody>\n",
       "</table>\n",
       "</div>"
      ],
      "text/plain": [
       "                    Model  Accuracy Precision (0 / 1) Recall (0 / 1)  \\\n",
       "0             Naive Bayes    0.9581       0.94 / 0.98    0.98 / 0.94   \n",
       "1     Logistic Regression    0.9807       0.98 / 0.98    0.98 / 0.98   \n",
       "2  Support Vector Machine    0.9838       0.98 / 0.98    0.98 / 0.98   \n",
       "\n",
       "  F1-Score (0 / 1)  \n",
       "0      0.96 / 0.96  \n",
       "1      0.98 / 0.98  \n",
       "2      0.98 / 0.98  "
      ]
     },
     "execution_count": 28,
     "metadata": {},
     "output_type": "execute_result"
    }
   ],
   "source": [
    "# Create a summary DataFrame\n",
    "summary_df = pd.DataFrame({\n",
    "    'Model': ['Naive Bayes', 'Logistic Regression', 'Support Vector Machine'],\n",
    "    'Accuracy': [0.9581, 0.9807, 0.9838],\n",
    "    'Precision (0 / 1)': ['0.94 / 0.98', '0.98 / 0.98', '0.98 / 0.98'],\n",
    "    'Recall (0 / 1)': ['0.98 / 0.94', '0.98 / 0.98', '0.98 / 0.98'],\n",
    "    'F1-Score (0 / 1)': ['0.96 / 0.96', '0.98 / 0.98', '0.98 / 0.98']\n",
    "})\n",
    "\n",
    "# Display it\n",
    "summary_df"
   ]
  },
  {
   "cell_type": "markdown",
   "id": "8dffa934-9588-4377-b0eb-c3ca6194cc11",
   "metadata": {},
   "source": [
    "After evaluating `Naive Bayes`, `Logistic Regression`, and `Support Vector Machine (SVM)` classifiers, we observed that all three models performed well in detecting phishing emails, with accuracies ranging from **95.8% to 98.4%**. The `SVM` model achieved the best overall performance, with the highest **accuracy, precision, and recall** across both classes. `Logistic Regression` followed closely with balanced and robust results. `Naive Bayes`, while slightly less accurate, remains a valuable option due to its simplicity and speed.\n",
    "\n",
    "To offer flexibility and transparency, we will deploy all three models through our **FastAPI** backend. Users will be able to select their preferred model at runtime when submitting an email for prediction."
   ]
  },
  {
   "cell_type": "markdown",
   "id": "e3b047b0-b604-4b73-bcf9-e2afecb3fc53",
   "metadata": {},
   "source": [
    "## Save the Models"
   ]
  },
  {
   "cell_type": "code",
   "execution_count": 29,
   "id": "cf8c2102-eae4-464c-b49e-47828179d71c",
   "metadata": {},
   "outputs": [
    {
     "data": {
      "text/plain": [
       "['../models/svm_model.joblib']"
      ]
     },
     "execution_count": 29,
     "metadata": {},
     "output_type": "execute_result"
    }
   ],
   "source": [
    "# Save the Vectorizer\n",
    "joblib.dump(tfidf, '../models/tfidf_vectorizer.joblib')\n",
    "\n",
    "# Save the Naive Bayes Model\n",
    "joblib.dump(nb_model, '../models/naive_bayes_model.joblib')\n",
    "\n",
    "# Save the Logistic Regression Model\n",
    "joblib.dump(log_model, '../models/logistic_regression_model.joblib')\n",
    "\n",
    "# Save the Support Vector Machine (SVM) Model\n",
    "joblib.dump(svm_model, '../models/svm_model.joblib')"
   ]
  }
 ],
 "metadata": {
  "kernelspec": {
   "display_name": "Python 3 (ipykernel)",
   "language": "python",
   "name": "python3"
  },
  "language_info": {
   "codemirror_mode": {
    "name": "ipython",
    "version": 3
   },
   "file_extension": ".py",
   "mimetype": "text/x-python",
   "name": "python",
   "nbconvert_exporter": "python",
   "pygments_lexer": "ipython3",
   "version": "3.10.0"
  }
 },
 "nbformat": 4,
 "nbformat_minor": 5
}
