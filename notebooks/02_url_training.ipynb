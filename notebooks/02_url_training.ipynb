{
 "cells": [
  {
   "cell_type": "markdown",
   "id": "df52ea71-fbd8-4cad-9cef-edd13e1ccf08",
   "metadata": {},
   "source": [
    "# URL Phishing Detection\n",
    "\n",
    "In this notebook, we aim to build a machine learning model that can accurately classify URLs as either **malicious (phishing)** or **benign (legitimate)** based on their structural characteristics. Unlike natural language processing approaches used for email body content, URLs require a feature-engineering-based strategy, focusing on patterns like length, presence of suspicious keywords, number of dots or slashes, and more.\n",
    "\n",
    "We'll use the **Malicious URLs Dataset** from Kaggle, extract relevant features from each URL, train a classification model, evaluate its performance, and save the best-performing model for production use in our unified phishing detection system.\n",
    "\n",
    "📌 **Goal**: Achieve at least **95% accuracy** in detecting phishing URLs, while maintaining low false positives to ensure reliability in real-world scenarios."
   ]
  },
  {
   "cell_type": "markdown",
   "id": "485e003d-7cc7-4f3d-847f-3976b98fe172",
   "metadata": {},
   "source": [
    "**Imports**:"
   ]
  },
  {
   "cell_type": "code",
   "execution_count": 1,
   "id": "605d6f5c-5dfe-4cda-b7ec-9b690697c04a",
   "metadata": {},
   "outputs": [],
   "source": [
    "# Data Handling\n",
    "import pandas as pd\n",
    "import numpy as np\n",
    "\n",
    "# Visualization\n",
    "import matplotlib.pyplot as plt\n",
    "import seaborn as sns\n",
    "\n",
    "# Feature Engineering\n",
    "import re\n",
    "from urllib.parse import urlparse, parse_qs\n",
    "\n",
    "# Model Training\n",
    "from sklearn.model_selection import train_test_split, cross_val_score\n",
    "from sklearn.ensemble import RandomForestClassifier\n",
    "from sklearn.linear_model import LogisticRegression\n",
    "from xgboost import XGBClassifier\n",
    "\n",
    "# Hyperparameter Tuning\n",
    "import optuna\n",
    "\n",
    "# Evaluation\n",
    "from sklearn.metrics import classification_report, confusion_matrix, accuracy_score\n",
    "\n",
    "# Model Saving\n",
    "import joblib\n",
    "\n",
    "# Plot Style\n",
    "sns.set_style('dark')"
   ]
  },
  {
   "cell_type": "markdown",
   "id": "7b1265dd-0032-4662-ae88-41a6fca4674a",
   "metadata": {},
   "source": [
    "**Load the Dataset**:"
   ]
  },
  {
   "cell_type": "code",
   "execution_count": 2,
   "id": "62e86a8a-047a-45f6-b26f-303db2b82cef",
   "metadata": {},
   "outputs": [
    {
     "data": {
      "text/html": [
       "<div>\n",
       "<style scoped>\n",
       "    .dataframe tbody tr th:only-of-type {\n",
       "        vertical-align: middle;\n",
       "    }\n",
       "\n",
       "    .dataframe tbody tr th {\n",
       "        vertical-align: top;\n",
       "    }\n",
       "\n",
       "    .dataframe thead th {\n",
       "        text-align: right;\n",
       "    }\n",
       "</style>\n",
       "<table border=\"1\" class=\"dataframe\">\n",
       "  <thead>\n",
       "    <tr style=\"text-align: right;\">\n",
       "      <th></th>\n",
       "      <th>url</th>\n",
       "      <th>type</th>\n",
       "    </tr>\n",
       "  </thead>\n",
       "  <tbody>\n",
       "    <tr>\n",
       "      <th>0</th>\n",
       "      <td>br-icloud.com.br</td>\n",
       "      <td>phishing</td>\n",
       "    </tr>\n",
       "    <tr>\n",
       "      <th>1</th>\n",
       "      <td>mp3raid.com/music/krizz_kaliko.html</td>\n",
       "      <td>benign</td>\n",
       "    </tr>\n",
       "    <tr>\n",
       "      <th>2</th>\n",
       "      <td>bopsecrets.org/rexroth/cr/1.htm</td>\n",
       "      <td>benign</td>\n",
       "    </tr>\n",
       "    <tr>\n",
       "      <th>3</th>\n",
       "      <td>http://www.garage-pirenne.be/index.php?option=...</td>\n",
       "      <td>defacement</td>\n",
       "    </tr>\n",
       "    <tr>\n",
       "      <th>4</th>\n",
       "      <td>http://adventure-nicaragua.net/index.php?optio...</td>\n",
       "      <td>defacement</td>\n",
       "    </tr>\n",
       "  </tbody>\n",
       "</table>\n",
       "</div>"
      ],
      "text/plain": [
       "                                                 url        type\n",
       "0                                   br-icloud.com.br    phishing\n",
       "1                mp3raid.com/music/krizz_kaliko.html      benign\n",
       "2                    bopsecrets.org/rexroth/cr/1.htm      benign\n",
       "3  http://www.garage-pirenne.be/index.php?option=...  defacement\n",
       "4  http://adventure-nicaragua.net/index.php?optio...  defacement"
      ]
     },
     "execution_count": 2,
     "metadata": {},
     "output_type": "execute_result"
    }
   ],
   "source": [
    "# Load the Dataset\n",
    "df = pd.read_csv('../data/malicious_phish.csv')\n",
    "df.head()"
   ]
  },
  {
   "cell_type": "markdown",
   "id": "0339668a-eb2b-4a92-8642-6eb22acbda31",
   "metadata": {},
   "source": [
    "## Exploratory Data Analysis (EDA)\n",
    "\n",
    "In this section, we will perform Exploratory Data Analysis (EDA) to better understand the structure and distribution of the dataset. We'll examine the balance between phishing and benign URLs, check for missing values, and identify any patterns or inconsistencies that could influence feature extraction. This step ensures we have a clear understanding of the data before moving into feature engineering and model training."
   ]
  },
  {
   "cell_type": "markdown",
   "id": "bfb6196a-b4fc-42a5-a733-ab0702fa5c6b",
   "metadata": {},
   "source": [
    "**Basics**:"
   ]
  },
  {
   "cell_type": "code",
   "execution_count": 3,
   "id": "e1ce9913-4ce6-4e39-a9bb-ba9fc3a9ad08",
   "metadata": {},
   "outputs": [
    {
     "data": {
      "text/html": [
       "<div>\n",
       "<style scoped>\n",
       "    .dataframe tbody tr th:only-of-type {\n",
       "        vertical-align: middle;\n",
       "    }\n",
       "\n",
       "    .dataframe tbody tr th {\n",
       "        vertical-align: top;\n",
       "    }\n",
       "\n",
       "    .dataframe thead th {\n",
       "        text-align: right;\n",
       "    }\n",
       "</style>\n",
       "<table border=\"1\" class=\"dataframe\">\n",
       "  <thead>\n",
       "    <tr style=\"text-align: right;\">\n",
       "      <th></th>\n",
       "      <th>url</th>\n",
       "      <th>type</th>\n",
       "    </tr>\n",
       "  </thead>\n",
       "  <tbody>\n",
       "    <tr>\n",
       "      <th>0</th>\n",
       "      <td>br-icloud.com.br</td>\n",
       "      <td>phishing</td>\n",
       "    </tr>\n",
       "    <tr>\n",
       "      <th>1</th>\n",
       "      <td>mp3raid.com/music/krizz_kaliko.html</td>\n",
       "      <td>benign</td>\n",
       "    </tr>\n",
       "    <tr>\n",
       "      <th>2</th>\n",
       "      <td>bopsecrets.org/rexroth/cr/1.htm</td>\n",
       "      <td>benign</td>\n",
       "    </tr>\n",
       "    <tr>\n",
       "      <th>3</th>\n",
       "      <td>http://www.garage-pirenne.be/index.php?option=...</td>\n",
       "      <td>defacement</td>\n",
       "    </tr>\n",
       "    <tr>\n",
       "      <th>4</th>\n",
       "      <td>http://adventure-nicaragua.net/index.php?optio...</td>\n",
       "      <td>defacement</td>\n",
       "    </tr>\n",
       "  </tbody>\n",
       "</table>\n",
       "</div>"
      ],
      "text/plain": [
       "                                                 url        type\n",
       "0                                   br-icloud.com.br    phishing\n",
       "1                mp3raid.com/music/krizz_kaliko.html      benign\n",
       "2                    bopsecrets.org/rexroth/cr/1.htm      benign\n",
       "3  http://www.garage-pirenne.be/index.php?option=...  defacement\n",
       "4  http://adventure-nicaragua.net/index.php?optio...  defacement"
      ]
     },
     "execution_count": 3,
     "metadata": {},
     "output_type": "execute_result"
    }
   ],
   "source": [
    "df.head()"
   ]
  },
  {
   "cell_type": "code",
   "execution_count": 4,
   "id": "27a3f463-f10e-4a7d-8414-5468f792a46e",
   "metadata": {},
   "outputs": [
    {
     "name": "stdout",
     "output_type": "stream",
     "text": [
      "<class 'pandas.core.frame.DataFrame'>\n",
      "RangeIndex: 651191 entries, 0 to 651190\n",
      "Data columns (total 2 columns):\n",
      " #   Column  Non-Null Count   Dtype \n",
      "---  ------  --------------   ----- \n",
      " 0   url     651191 non-null  object\n",
      " 1   type    651191 non-null  object\n",
      "dtypes: object(2)\n",
      "memory usage: 9.9+ MB\n"
     ]
    }
   ],
   "source": [
    "df.info()"
   ]
  },
  {
   "cell_type": "code",
   "execution_count": 5,
   "id": "663ae8ef-6b77-424e-9282-ce789ae5b983",
   "metadata": {},
   "outputs": [
    {
     "data": {
      "text/html": [
       "<div>\n",
       "<style scoped>\n",
       "    .dataframe tbody tr th:only-of-type {\n",
       "        vertical-align: middle;\n",
       "    }\n",
       "\n",
       "    .dataframe tbody tr th {\n",
       "        vertical-align: top;\n",
       "    }\n",
       "\n",
       "    .dataframe thead th {\n",
       "        text-align: right;\n",
       "    }\n",
       "</style>\n",
       "<table border=\"1\" class=\"dataframe\">\n",
       "  <thead>\n",
       "    <tr style=\"text-align: right;\">\n",
       "      <th></th>\n",
       "      <th>url</th>\n",
       "      <th>type</th>\n",
       "    </tr>\n",
       "  </thead>\n",
       "  <tbody>\n",
       "    <tr>\n",
       "      <th>count</th>\n",
       "      <td>651191</td>\n",
       "      <td>651191</td>\n",
       "    </tr>\n",
       "    <tr>\n",
       "      <th>unique</th>\n",
       "      <td>641119</td>\n",
       "      <td>4</td>\n",
       "    </tr>\n",
       "    <tr>\n",
       "      <th>top</th>\n",
       "      <td>http://style.org.hc360.com/css/detail/mysite/s...</td>\n",
       "      <td>benign</td>\n",
       "    </tr>\n",
       "    <tr>\n",
       "      <th>freq</th>\n",
       "      <td>180</td>\n",
       "      <td>428103</td>\n",
       "    </tr>\n",
       "  </tbody>\n",
       "</table>\n",
       "</div>"
      ],
      "text/plain": [
       "                                                      url    type\n",
       "count                                              651191  651191\n",
       "unique                                             641119       4\n",
       "top     http://style.org.hc360.com/css/detail/mysite/s...  benign\n",
       "freq                                                  180  428103"
      ]
     },
     "execution_count": 5,
     "metadata": {},
     "output_type": "execute_result"
    }
   ],
   "source": [
    "df.describe()"
   ]
  },
  {
   "cell_type": "code",
   "execution_count": 6,
   "id": "a11477a7-e23d-4d10-bc70-a35ef03c2549",
   "metadata": {},
   "outputs": [
    {
     "data": {
      "text/plain": [
       "url     0\n",
       "type    0\n",
       "dtype: int64"
      ]
     },
     "execution_count": 6,
     "metadata": {},
     "output_type": "execute_result"
    }
   ],
   "source": [
    "df.isna().sum()"
   ]
  },
  {
   "cell_type": "code",
   "execution_count": 7,
   "id": "2652edeb-b61a-461c-9e55-841b6598ff90",
   "metadata": {},
   "outputs": [
    {
     "data": {
      "text/plain": [
       "np.int64(10072)"
      ]
     },
     "execution_count": 7,
     "metadata": {},
     "output_type": "execute_result"
    }
   ],
   "source": [
    "df['url'].duplicated().sum()"
   ]
  },
  {
   "cell_type": "markdown",
   "id": "488287c5-301b-41b9-8368-3d30220ad0db",
   "metadata": {},
   "source": [
    "The dataset contains **651,191 URL entries** across two columns: `url` and `type`. There are **no missing values**, but we found **10,072 duplicate URLs**, which we may choose to remove to avoid bias. The `type` column has four unique values, with `'benign'` being the most frequent, appearing over 428,000 times. Before moving on, we’ll explore the label distribution and decide whether to filter or merge any classes for binary classification (e.g., phishing vs. non-phishing)."
   ]
  },
  {
   "cell_type": "code",
   "execution_count": 8,
   "id": "4b84f334-a2e5-4267-88a1-8f64b59c494a",
   "metadata": {},
   "outputs": [
    {
     "data": {
      "text/plain": [
       "array(['phishing', 'benign', 'defacement', 'malware'], dtype=object)"
      ]
     },
     "execution_count": 8,
     "metadata": {},
     "output_type": "execute_result"
    }
   ],
   "source": [
    "df['type'].unique()"
   ]
  },
  {
   "cell_type": "markdown",
   "id": "602adf96-c1fa-4462-9e27-89bcc39e784a",
   "metadata": {},
   "source": [
    "The `type` column contains four categories: `'phishing'`, `'malware'`, `'defacement'`, and `'benign'`. Since our goal is to classify URLs as either **malicious** or **legitimate**, we will convert this into a binary classification task. Specifically, `'phishing'`, `'malware'`, and `'defacement'` will be grouped under the **malicious** class (label `1`), while `'benign'` will remain as **legitimate** (label `0`). This approach simplifies the task and aligns with our existing email phishing detection model."
   ]
  },
  {
   "cell_type": "code",
   "execution_count": 9,
   "id": "14ddca5f-8d5d-47a7-9528-4db49919e284",
   "metadata": {},
   "outputs": [],
   "source": [
    "df['url_length'] = df['url'].apply(len)"
   ]
  },
  {
   "cell_type": "markdown",
   "id": "68e5a1ee-442d-4e17-8e92-a723e9e94a54",
   "metadata": {},
   "source": [
    "**Drop the Duplicates**:"
   ]
  },
  {
   "cell_type": "code",
   "execution_count": 10,
   "id": "4569a4fb-4b67-4fe9-8b1f-9290c93b2bf9",
   "metadata": {},
   "outputs": [
    {
     "data": {
      "text/plain": [
       "np.int64(0)"
      ]
     },
     "execution_count": 10,
     "metadata": {},
     "output_type": "execute_result"
    }
   ],
   "source": [
    "df = df.drop_duplicates(subset='url')\n",
    "df['url'].duplicated().sum()"
   ]
  },
  {
   "cell_type": "markdown",
   "id": "3874d1fa-ccd8-4437-8143-6a6527a313b0",
   "metadata": {},
   "source": [
    "**Encode the Type**:"
   ]
  },
  {
   "cell_type": "code",
   "execution_count": 11,
   "id": "9f356d02-dc83-4654-84c3-7819dc6c0572",
   "metadata": {},
   "outputs": [
    {
     "data": {
      "text/plain": [
       "array([1, 0])"
      ]
     },
     "execution_count": 11,
     "metadata": {},
     "output_type": "execute_result"
    }
   ],
   "source": [
    "df.loc[:, 'label'] = df['type'].apply(lambda x: 0 if x=='benign' else 1)\n",
    "df['label'].unique()"
   ]
  },
  {
   "cell_type": "code",
   "execution_count": 12,
   "id": "b1a8874c-4417-41cb-97b0-3dad69a02694",
   "metadata": {},
   "outputs": [],
   "source": [
    "df = df.drop(columns=['type'])"
   ]
  },
  {
   "cell_type": "code",
   "execution_count": 13,
   "id": "763dc2d8-1be6-476a-8691-16bda4448ea3",
   "metadata": {},
   "outputs": [
    {
     "data": {
      "text/plain": [
       "label\n",
       "0    66.770756\n",
       "1    33.229244\n",
       "Name: proportion, dtype: float64"
      ]
     },
     "execution_count": 13,
     "metadata": {},
     "output_type": "execute_result"
    }
   ],
   "source": [
    "df['label'].value_counts(normalize=True) * 100"
   ]
  },
  {
   "cell_type": "code",
   "execution_count": 14,
   "id": "1d504eff-6cb0-42a0-8eaf-e0a4390ee460",
   "metadata": {},
   "outputs": [
    {
     "data": {
      "text/html": [
       "<div>\n",
       "<style scoped>\n",
       "    .dataframe tbody tr th:only-of-type {\n",
       "        vertical-align: middle;\n",
       "    }\n",
       "\n",
       "    .dataframe tbody tr th {\n",
       "        vertical-align: top;\n",
       "    }\n",
       "\n",
       "    .dataframe thead th {\n",
       "        text-align: right;\n",
       "    }\n",
       "</style>\n",
       "<table border=\"1\" class=\"dataframe\">\n",
       "  <thead>\n",
       "    <tr style=\"text-align: right;\">\n",
       "      <th></th>\n",
       "      <th>url</th>\n",
       "      <th>url_length</th>\n",
       "      <th>label</th>\n",
       "    </tr>\n",
       "  </thead>\n",
       "  <tbody>\n",
       "    <tr>\n",
       "      <th>0</th>\n",
       "      <td>br-icloud.com.br</td>\n",
       "      <td>16</td>\n",
       "      <td>1</td>\n",
       "    </tr>\n",
       "    <tr>\n",
       "      <th>1</th>\n",
       "      <td>mp3raid.com/music/krizz_kaliko.html</td>\n",
       "      <td>35</td>\n",
       "      <td>0</td>\n",
       "    </tr>\n",
       "    <tr>\n",
       "      <th>2</th>\n",
       "      <td>bopsecrets.org/rexroth/cr/1.htm</td>\n",
       "      <td>31</td>\n",
       "      <td>0</td>\n",
       "    </tr>\n",
       "    <tr>\n",
       "      <th>3</th>\n",
       "      <td>http://www.garage-pirenne.be/index.php?option=...</td>\n",
       "      <td>88</td>\n",
       "      <td>1</td>\n",
       "    </tr>\n",
       "    <tr>\n",
       "      <th>4</th>\n",
       "      <td>http://adventure-nicaragua.net/index.php?optio...</td>\n",
       "      <td>235</td>\n",
       "      <td>1</td>\n",
       "    </tr>\n",
       "  </tbody>\n",
       "</table>\n",
       "</div>"
      ],
      "text/plain": [
       "                                                 url  url_length  label\n",
       "0                                   br-icloud.com.br          16      1\n",
       "1                mp3raid.com/music/krizz_kaliko.html          35      0\n",
       "2                    bopsecrets.org/rexroth/cr/1.htm          31      0\n",
       "3  http://www.garage-pirenne.be/index.php?option=...          88      1\n",
       "4  http://adventure-nicaragua.net/index.php?optio...         235      1"
      ]
     },
     "execution_count": 14,
     "metadata": {},
     "output_type": "execute_result"
    }
   ],
   "source": [
    "df.head()"
   ]
  },
  {
   "cell_type": "markdown",
   "id": "84d6a716-6b81-4559-a917-44c94131dd2e",
   "metadata": {},
   "source": [
    "We have succesfully dropped the duplicates and encode the label!"
   ]
  },
  {
   "cell_type": "markdown",
   "id": "cecd3155-e8d1-4dbb-afd1-8f0a33a69745",
   "metadata": {},
   "source": [
    "**Visualization**:"
   ]
  },
  {
   "cell_type": "code",
   "execution_count": 15,
   "id": "61194808-04de-4fb7-b6a9-8a33d01e3847",
   "metadata": {},
   "outputs": [
    {
     "data": {
      "image/png": "[encoded data removed]",
      "text/plain": [
       "<Figure size 640x480 with 1 Axes>"
      ]
     },
     "metadata": {},
     "output_type": "display_data"
    }
   ],
   "source": [
    "label_counts = df['label'].value_counts()\n",
    "\n",
    "# Create Bar Plot\n",
    "sns.barplot(x=label_counts.index, y=label_counts.values, hue=label_counts.index, palette='viridis')\n",
    "plt.title('Distribution of Malicious vs Legitimate URLs')\n",
    "plt.ylabel('Count')\n",
    "plt.xlabel('Label')\n",
    "plt.xticks([0, 1], ['Legitimate (0)', 'Malicious (1)'])\n",
    "plt.tight_layout()\n",
    "\n",
    "# Save the plot\n",
    "plt.savefig(fname='../images/Distribution_Malicious_vs_Legitimate_URLs.png')\n",
    "\n",
    "# Show the plot\n",
    "plt.show()"
   ]
  },
  {
   "cell_type": "markdown",
   "id": "8d6c9120-70b6-4866-82d6-ad1721922527",
   "metadata": {},
   "source": [
    "The dataset is not fully balanced, but we do have enough malicious URLs"
   ]
  },
  {
   "cell_type": "code",
   "execution_count": 16,
   "id": "9d909dd2-8b63-4912-9233-a8d5218ba62a",
   "metadata": {},
   "outputs": [
    {
     "data": {
      "text/html": [
       "<div>\n",
       "<style scoped>\n",
       "    .dataframe tbody tr th:only-of-type {\n",
       "        vertical-align: middle;\n",
       "    }\n",
       "\n",
       "    .dataframe tbody tr th {\n",
       "        vertical-align: top;\n",
       "    }\n",
       "\n",
       "    .dataframe thead th {\n",
       "        text-align: right;\n",
       "    }\n",
       "</style>\n",
       "<table border=\"1\" class=\"dataframe\">\n",
       "  <thead>\n",
       "    <tr style=\"text-align: right;\">\n",
       "      <th></th>\n",
       "      <th>url</th>\n",
       "      <th>url_length</th>\n",
       "      <th>label</th>\n",
       "    </tr>\n",
       "  </thead>\n",
       "  <tbody>\n",
       "    <tr>\n",
       "      <th>0</th>\n",
       "      <td>br-icloud.com.br</td>\n",
       "      <td>16</td>\n",
       "      <td>1</td>\n",
       "    </tr>\n",
       "    <tr>\n",
       "      <th>1</th>\n",
       "      <td>mp3raid.com/music/krizz_kaliko.html</td>\n",
       "      <td>35</td>\n",
       "      <td>0</td>\n",
       "    </tr>\n",
       "    <tr>\n",
       "      <th>2</th>\n",
       "      <td>bopsecrets.org/rexroth/cr/1.htm</td>\n",
       "      <td>31</td>\n",
       "      <td>0</td>\n",
       "    </tr>\n",
       "    <tr>\n",
       "      <th>3</th>\n",
       "      <td>http://www.garage-pirenne.be/index.php?option=...</td>\n",
       "      <td>88</td>\n",
       "      <td>1</td>\n",
       "    </tr>\n",
       "    <tr>\n",
       "      <th>4</th>\n",
       "      <td>http://adventure-nicaragua.net/index.php?optio...</td>\n",
       "      <td>235</td>\n",
       "      <td>1</td>\n",
       "    </tr>\n",
       "  </tbody>\n",
       "</table>\n",
       "</div>"
      ],
      "text/plain": [
       "                                                 url  url_length  label\n",
       "0                                   br-icloud.com.br          16      1\n",
       "1                mp3raid.com/music/krizz_kaliko.html          35      0\n",
       "2                    bopsecrets.org/rexroth/cr/1.htm          31      0\n",
       "3  http://www.garage-pirenne.be/index.php?option=...          88      1\n",
       "4  http://adventure-nicaragua.net/index.php?optio...         235      1"
      ]
     },
     "execution_count": 16,
     "metadata": {},
     "output_type": "execute_result"
    }
   ],
   "source": [
    "df.head()"
   ]
  },
  {
   "cell_type": "code",
   "execution_count": 17,
   "id": "1744c126-b917-45c4-813f-1fca89fcde36",
   "metadata": {},
   "outputs": [
    {
     "data": {
      "image/png": "[encoded data removed]",
      "text/plain": [
       "<Figure size 640x480 with 1 Axes>"
      ]
     },
     "metadata": {},
     "output_type": "display_data"
    }
   ],
   "source": [
    "# Create Histogram Plot\n",
    "sns.histplot(data=df, x='url_length', hue='label', kde=True, bins=50)\n",
    "plt.title('URL Length Distribution by Class')\n",
    "plt.xlabel('URL Length')\n",
    "plt.ylabel('Frequency')\n",
    "\n",
    "# Save as Image\n",
    "plt.savefig(fname='../images/URL_Length_Distribution_By_Class.png')\n",
    "\n",
    "# Show the Plot\n",
    "plt.show()"
   ]
  },
  {
   "cell_type": "code",
   "execution_count": 18,
   "id": "7a9d459e-414d-4437-b800-a3894e8abfbc",
   "metadata": {},
   "outputs": [
    {
     "data": {
      "image/png": "[encoded data removed]",
      "text/plain": [
       "<Figure size 640x480 with 1 Axes>"
      ]
     },
     "metadata": {},
     "output_type": "display_data"
    }
   ],
   "source": [
    "# Get the mean of the URL length based on the label\n",
    "mean_length = df.groupby('label')['url_length'].mean()\n",
    "\n",
    "# Plot\n",
    "mean_length.plot(kind='bar', color=['lightblue', 'salmon'])\n",
    "plt.title('Mean URL Length by Class')\n",
    "plt.xlabel('Label (0 = Legitimate, 1 = Malicious)')\n",
    "plt.ylabel('Average URL Length')\n",
    "plt.xticks(rotation=0)\n",
    "\n",
    "# Save as Image\n",
    "plt.savefig(fname='../images/Mean_URL_Length_By_Class.png')\n",
    "\n",
    "# Show the Plot\n",
    "plt.show()"
   ]
  },
  {
   "cell_type": "markdown",
   "id": "b29333bd-878f-45ab-9624-0a7f3a9b938f",
   "metadata": {},
   "source": [
    "## Feature Engineering\n",
    "\n",
    "In this section, we'll transform each URL into a set of meaningful numerical features that can help a machine learning model distinguish between malicious and legitimate URLs. Since URLs are structured strings, we'll extract features such as the total length of the URL, number of dots and hyphens, presence of an IP address, use of HTTPS, and inclusion of suspicious keywords like \"login\" or \"verify\". These handcrafted features will serve as the input for our machine learning models."
   ]
  },
  {
   "cell_type": "code",
   "execution_count": 19,
   "id": "a5331e8f-83d7-4af1-b5b6-ece44deabd0b",
   "metadata": {},
   "outputs": [],
   "source": [
    "def extract_features(url: str) -> dict:\n",
    "    parsed_url = urlparse(url)\n",
    "    hostname = parsed_url.hostname or \"\"\n",
    "    path = parsed_url.path\n",
    "    query = parsed_url.query\n",
    "\n",
    "    subdomain_parts = hostname.split('.')[:-2]\n",
    "    domain_keywords = ['paypal', 'google', 'apple', 'amazon', 'microsoft', 'facebook']\n",
    "    sensitive_keywords = ['secure', 'login', 'account', 'update', 'verify', 'password', 'bank', 'confirm']\n",
    "\n",
    "    return {\n",
    "        'url_length': len(url),\n",
    "        'num_of_dots': url.count('.'),\n",
    "        'sub_domain_lvl': max(len(hostname.split('.')) - 2, 0),\n",
    "        'path_level': path.count('/'),\n",
    "        'num_of_dash': url.count('-'),\n",
    "        'num_of_dash_hostname': hostname.count('-'),\n",
    "        'has_at_symbol': int('@' in url),\n",
    "        'has_tilde_symbol': int('~' in url),\n",
    "        'num_of_underscore': url.count('_'),\n",
    "        'num_of_percent': url.count('%'),\n",
    "        'num_query_components': len(parse_qs(query)),\n",
    "        'num_of_ampersand': url.count('&'),\n",
    "        'num_of_hash': url.count('#'),\n",
    "        'num_numeric_chars': sum(c.isdigit() for c in url),\n",
    "        'no_https': int(not url.lower().startswith('https')),\n",
    "        'random_string': int(bool(re.match(r'^[a-zA-Z0-9]{10,}$', path.split('/')[-1]))),\n",
    "        'has_ip_address': int(bool(re.search(r'(\\d{1,3}\\.){3}\\d{1,3}', url))),\n",
    "        'domain_in_subdomains': int(any(kw in '.'.join(subdomain_parts).lower() for kw in domain_keywords)),\n",
    "        'domain_in_paths': int(any(kw in path.lower() for kw in domain_keywords)),\n",
    "        'https_in_hostname': int('https' in hostname.lower()),\n",
    "        'hostname_length': len(hostname),\n",
    "        'path_length': len(path),\n",
    "        'query_length': len(query),\n",
    "        'num_sensitive_words': sum(word in url.lower() for word in sensitive_keywords),\n",
    "        'embedded_brand': int(any(kw in url.lower() for kw in domain_keywords))\n",
    "    }"
   ]
  },
  {
   "cell_type": "code",
   "execution_count": 20,
   "id": "3e8ee4dd-0370-43d9-a2bb-edbb37b76e1e",
   "metadata": {},
   "outputs": [],
   "source": [
    "features_df = df['url'].apply(extract_features).apply(pd.Series)"
   ]
  },
  {
   "cell_type": "code",
   "execution_count": 21,
   "id": "0eea962d-f861-46ae-b499-fb8541a40176",
   "metadata": {},
   "outputs": [],
   "source": [
    "features_df['label'] = df['label'].values"
   ]
  },
  {
   "cell_type": "code",
   "execution_count": 22,
   "id": "054d73ef-dc5d-4c08-9e22-992b5ea0d040",
   "metadata": {},
   "outputs": [
    {
     "data": {
      "text/html": [
       "<div>\n",
       "<style scoped>\n",
       "    .dataframe tbody tr th:only-of-type {\n",
       "        vertical-align: middle;\n",
       "    }\n",
       "\n",
       "    .dataframe tbody tr th {\n",
       "        vertical-align: top;\n",
       "    }\n",
       "\n",
       "    .dataframe thead th {\n",
       "        text-align: right;\n",
       "    }\n",
       "</style>\n",
       "<table border=\"1\" class=\"dataframe\">\n",
       "  <thead>\n",
       "    <tr style=\"text-align: right;\">\n",
       "      <th></th>\n",
       "      <th>url_length</th>\n",
       "      <th>num_of_dots</th>\n",
       "      <th>sub_domain_lvl</th>\n",
       "      <th>path_level</th>\n",
       "      <th>num_of_dash</th>\n",
       "      <th>num_of_dash_hostname</th>\n",
       "      <th>has_at_symbol</th>\n",
       "      <th>has_tilde_symbol</th>\n",
       "      <th>num_of_underscore</th>\n",
       "      <th>num_of_percent</th>\n",
       "      <th>...</th>\n",
       "      <th>has_ip_address</th>\n",
       "      <th>domain_in_subdomains</th>\n",
       "      <th>domain_in_paths</th>\n",
       "      <th>https_in_hostname</th>\n",
       "      <th>hostname_length</th>\n",
       "      <th>path_length</th>\n",
       "      <th>query_length</th>\n",
       "      <th>num_sensitive_words</th>\n",
       "      <th>embedded_brand</th>\n",
       "      <th>label</th>\n",
       "    </tr>\n",
       "  </thead>\n",
       "  <tbody>\n",
       "    <tr>\n",
       "      <th>0</th>\n",
       "      <td>16</td>\n",
       "      <td>2</td>\n",
       "      <td>0</td>\n",
       "      <td>0</td>\n",
       "      <td>1</td>\n",
       "      <td>0</td>\n",
       "      <td>0</td>\n",
       "      <td>0</td>\n",
       "      <td>0</td>\n",
       "      <td>0</td>\n",
       "      <td>...</td>\n",
       "      <td>0</td>\n",
       "      <td>0</td>\n",
       "      <td>0</td>\n",
       "      <td>0</td>\n",
       "      <td>0</td>\n",
       "      <td>16</td>\n",
       "      <td>0</td>\n",
       "      <td>0</td>\n",
       "      <td>0</td>\n",
       "      <td>1</td>\n",
       "    </tr>\n",
       "    <tr>\n",
       "      <th>1</th>\n",
       "      <td>35</td>\n",
       "      <td>2</td>\n",
       "      <td>0</td>\n",
       "      <td>2</td>\n",
       "      <td>0</td>\n",
       "      <td>0</td>\n",
       "      <td>0</td>\n",
       "      <td>0</td>\n",
       "      <td>1</td>\n",
       "      <td>0</td>\n",
       "      <td>...</td>\n",
       "      <td>0</td>\n",
       "      <td>0</td>\n",
       "      <td>0</td>\n",
       "      <td>0</td>\n",
       "      <td>0</td>\n",
       "      <td>35</td>\n",
       "      <td>0</td>\n",
       "      <td>0</td>\n",
       "      <td>0</td>\n",
       "      <td>0</td>\n",
       "    </tr>\n",
       "    <tr>\n",
       "      <th>2</th>\n",
       "      <td>31</td>\n",
       "      <td>2</td>\n",
       "      <td>0</td>\n",
       "      <td>3</td>\n",
       "      <td>0</td>\n",
       "      <td>0</td>\n",
       "      <td>0</td>\n",
       "      <td>0</td>\n",
       "      <td>0</td>\n",
       "      <td>0</td>\n",
       "      <td>...</td>\n",
       "      <td>0</td>\n",
       "      <td>0</td>\n",
       "      <td>0</td>\n",
       "      <td>0</td>\n",
       "      <td>0</td>\n",
       "      <td>31</td>\n",
       "      <td>0</td>\n",
       "      <td>0</td>\n",
       "      <td>0</td>\n",
       "      <td>0</td>\n",
       "    </tr>\n",
       "    <tr>\n",
       "      <th>3</th>\n",
       "      <td>88</td>\n",
       "      <td>3</td>\n",
       "      <td>1</td>\n",
       "      <td>1</td>\n",
       "      <td>1</td>\n",
       "      <td>1</td>\n",
       "      <td>0</td>\n",
       "      <td>0</td>\n",
       "      <td>2</td>\n",
       "      <td>0</td>\n",
       "      <td>...</td>\n",
       "      <td>0</td>\n",
       "      <td>0</td>\n",
       "      <td>0</td>\n",
       "      <td>0</td>\n",
       "      <td>21</td>\n",
       "      <td>10</td>\n",
       "      <td>49</td>\n",
       "      <td>0</td>\n",
       "      <td>0</td>\n",
       "      <td>1</td>\n",
       "    </tr>\n",
       "    <tr>\n",
       "      <th>4</th>\n",
       "      <td>235</td>\n",
       "      <td>2</td>\n",
       "      <td>0</td>\n",
       "      <td>1</td>\n",
       "      <td>1</td>\n",
       "      <td>1</td>\n",
       "      <td>0</td>\n",
       "      <td>0</td>\n",
       "      <td>1</td>\n",
       "      <td>0</td>\n",
       "      <td>...</td>\n",
       "      <td>0</td>\n",
       "      <td>0</td>\n",
       "      <td>0</td>\n",
       "      <td>0</td>\n",
       "      <td>23</td>\n",
       "      <td>10</td>\n",
       "      <td>194</td>\n",
       "      <td>0</td>\n",
       "      <td>0</td>\n",
       "      <td>1</td>\n",
       "    </tr>\n",
       "  </tbody>\n",
       "</table>\n",
       "<p>5 rows × 26 columns</p>\n",
       "</div>"
      ],
      "text/plain": [
       "   url_length  num_of_dots  sub_domain_lvl  path_level  num_of_dash  \\\n",
       "0          16            2               0           0            1   \n",
       "1          35            2               0           2            0   \n",
       "2          31            2               0           3            0   \n",
       "3          88            3               1           1            1   \n",
       "4         235            2               0           1            1   \n",
       "\n",
       "   num_of_dash_hostname  has_at_symbol  has_tilde_symbol  num_of_underscore  \\\n",
       "0                     0              0                 0                  0   \n",
       "1                     0              0                 0                  1   \n",
       "2                     0              0                 0                  0   \n",
       "3                     1              0                 0                  2   \n",
       "4                     1              0                 0                  1   \n",
       "\n",
       "   num_of_percent  ...  has_ip_address  domain_in_subdomains  domain_in_paths  \\\n",
       "0               0  ...               0                     0                0   \n",
       "1               0  ...               0                     0                0   \n",
       "2               0  ...               0                     0                0   \n",
       "3               0  ...               0                     0                0   \n",
       "4               0  ...               0                     0                0   \n",
       "\n",
       "   https_in_hostname  hostname_length  path_length  query_length  \\\n",
       "0                  0                0           16             0   \n",
       "1                  0                0           35             0   \n",
       "2                  0                0           31             0   \n",
       "3                  0               21           10            49   \n",
       "4                  0               23           10           194   \n",
       "\n",
       "   num_sensitive_words  embedded_brand  label  \n",
       "0                    0               0      1  \n",
       "1                    0               0      0  \n",
       "2                    0               0      0  \n",
       "3                    0               0      1  \n",
       "4                    0               0      1  \n",
       "\n",
       "[5 rows x 26 columns]"
      ]
     },
     "execution_count": 22,
     "metadata": {},
     "output_type": "execute_result"
    }
   ],
   "source": [
    "features_df.head()"
   ]
  },
  {
   "cell_type": "code",
   "execution_count": 23,
   "id": "a5f4ed89-db0a-4569-9ffb-17cce63aef81",
   "metadata": {},
   "outputs": [],
   "source": [
    "# Save the new dataset\n",
    "features_df.to_csv('../data/url_features_extracted.csv', index=False)"
   ]
  },
  {
   "cell_type": "markdown",
   "id": "693f8ed9-27a4-42f1-90de-d399d5992f71",
   "metadata": {},
   "source": [
    "## Model Training\n",
    "\n",
    "In this section, we will train several machine learning models on the extracted URL features to classify whether a URL is malicious or legitimate. We'll begin by splitting the dataset into training and test sets, then train models such as **Logistic Regression**, **Random Forest**, and **XGBoost**. Our goal is to identify the model that provides the best accuracy and generalization performance on unseen data, ideally achieving **95%+ accuracy** while minimizing false positives."
   ]
  },
  {
   "cell_type": "markdown",
   "id": "fdb5f05f-b4b6-400b-8a5a-2790a4a4ee89",
   "metadata": {},
   "source": [
    "**Prepare the Data**"
   ]
  },
  {
   "cell_type": "code",
   "execution_count": 24,
   "id": "e2c2d82e-5c61-4ff2-be78-1b5c5193764a",
   "metadata": {},
   "outputs": [],
   "source": [
    "# Get X and y\n",
    "X = features_df.drop('label', axis=1)\n",
    "y = features_df['label']\n",
    "\n",
    "# Split to Train and Test\n",
    "X_train, X_test, y_train, y_test = train_test_split(X, y, test_size=0.2, random_state=42, stratify=y)"
   ]
  },
  {
   "cell_type": "markdown",
   "id": "6820890c-7bd6-4808-ba72-42b1ff87478b",
   "metadata": {},
   "source": [
    "**Logistic Regression**"
   ]
  },
  {
   "cell_type": "code",
   "execution_count": 25,
   "id": "6879e9f3-6fd0-4d13-a27f-fa2323973353",
   "metadata": {},
   "outputs": [
    {
     "name": "stdout",
     "output_type": "stream",
     "text": [
      "Logistic Regression Base Model's Score: 0.8718960569004243\n"
     ]
    }
   ],
   "source": [
    "# Initiate and Fit the Model\n",
    "lr_model = LogisticRegression(max_iter=5000)\n",
    "lr_model.fit(X_train, y_train)\n",
    "\n",
    "# Print the Score\n",
    "lr_score = lr_model.score(X_test, y_test)\n",
    "print(f\"Logistic Regression Base Model's Score: {lr_score}\")\n",
    "\n",
    "# Get the Predicts\n",
    "y_pred_lr = lr_model.predict(X_test)"
   ]
  },
  {
   "cell_type": "code",
   "execution_count": 26,
   "id": "0355367a-6ccd-425f-ba68-a6588386cb38",
   "metadata": {},
   "outputs": [
    {
     "name": "stdout",
     "output_type": "stream",
     "text": [
      "Accuracy: 0.8718960569004243\n",
      "\n",
      "Classification Report:\n",
      "               precision    recall  f1-score   support\n",
      "\n",
      "           0       0.85      0.98      0.91     85616\n",
      "           1       0.94      0.66      0.77     42608\n",
      "\n",
      "    accuracy                           0.87    128224\n",
      "   macro avg       0.89      0.82      0.84    128224\n",
      "weighted avg       0.88      0.87      0.87    128224\n",
      "\n"
     ]
    },
    {
     "data": {
      "image/png": "[encoded data removed]",
      "text/plain": [
       "<Figure size 640x480 with 2 Axes>"
      ]
     },
     "metadata": {},
     "output_type": "display_data"
    }
   ],
   "source": [
    "# Accuracy\n",
    "print(\"Accuracy:\", accuracy_score(y_test, y_pred_lr))\n",
    "\n",
    "# Detailed Report\n",
    "print(\"\\nClassification Report:\\n\", classification_report(y_test, y_pred_lr))\n",
    "\n",
    "# Confusion Matrix\n",
    "sns.heatmap(confusion_matrix(y_test, y_pred_lr), annot=True, fmt='d', cmap='Blues')\n",
    "plt.title('URL Confusion Matrix - Logistic Regression')\n",
    "plt.xlabel('Predicted')\n",
    "plt.ylabel('Actual')\n",
    "\n",
    "# Save as Image\n",
    "plt.savefig(fname='../images/URL_Logistic_Regression_Confusion_Matrix.png')\n",
    "\n",
    "# Show the Plot\n",
    "plt.show()"
   ]
  },
  {
   "cell_type": "markdown",
   "id": "b457c892-6bf6-41c3-9aba-1505c0019d91",
   "metadata": {},
   "source": [
    "Logistic Regression provided a strong baseline with an accuracy of **87.19%**. The model demonstrated high precision for detecting malicious URLs (**94%**), but recall was lower (**66%**), indicating it missed a significant number of phishing cases. This is expected for linear models with imbalanced feature importance. While it performs well on legitimate URLs, we need a more powerful classifier to improve detection of malicious ones. We'll now train a **Random Forest** model to see if we can boost recall and overall performance."
   ]
  },
  {
   "cell_type": "markdown",
   "id": "e10d096a-522d-4e83-821f-358c010dde8b",
   "metadata": {},
   "source": [
    "**Random Forest Classifier**"
   ]
  },
  {
   "cell_type": "code",
   "execution_count": 27,
   "id": "4ba194fd-f877-443d-be03-d1d5a0c5eae1",
   "metadata": {},
   "outputs": [
    {
     "name": "stdout",
     "output_type": "stream",
     "text": [
      "Random Forest Classifier Base Model's Score: 0.9497753930621412\n"
     ]
    }
   ],
   "source": [
    "# Initiate and Fit the Model\n",
    "rf_model = RandomForestClassifier(n_estimators=100, random_state=42)\n",
    "rf_model.fit(X_train, y_train)\n",
    "\n",
    "# Print the Score\n",
    "rf_score = rf_model.score(X_test, y_test)\n",
    "print(f\"Random Forest Classifier Base Model's Score: {rf_score}\")\n",
    "\n",
    "# Get the Predicts\n",
    "y_pred_rf = rf_model.predict(X_test)"
   ]
  },
  {
   "cell_type": "code",
   "execution_count": 28,
   "id": "fa600215-a5a8-41fa-bb80-ce18ad92f387",
   "metadata": {},
   "outputs": [
    {
     "name": "stdout",
     "output_type": "stream",
     "text": [
      "Accuracy: 0.9497753930621412\n",
      "\n",
      "Classification Report:\n",
      "               precision    recall  f1-score   support\n",
      "\n",
      "           0       0.96      0.97      0.96     85616\n",
      "           1       0.94      0.91      0.92     42608\n",
      "\n",
      "    accuracy                           0.95    128224\n",
      "   macro avg       0.95      0.94      0.94    128224\n",
      "weighted avg       0.95      0.95      0.95    128224\n",
      "\n"
     ]
    },
    {
     "data": {
      "image/png": "[encoded data removed]",
      "text/plain": [
       "<Figure size 640x480 with 2 Axes>"
      ]
     },
     "metadata": {},
     "output_type": "display_data"
    }
   ],
   "source": [
    "# Accuracy\n",
    "print(\"Accuracy:\", accuracy_score(y_test, y_pred_rf))\n",
    "\n",
    "# Detailed Report\n",
    "print(\"\\nClassification Report:\\n\", classification_report(y_test, y_pred_rf))\n",
    "\n",
    "# Confusion Matrix\n",
    "sns.heatmap(confusion_matrix(y_test, y_pred_rf), annot=True, fmt='d', cmap='Blues')\n",
    "plt.title('URL Confusion Matrix - Random Forest Classifier')\n",
    "plt.xlabel('Predicted')\n",
    "plt.ylabel('Actual')\n",
    "\n",
    "# Save as Image\n",
    "plt.savefig(fname='../images/URL_Random_Forest_Confusion_Matrix.png')\n",
    "\n",
    "# Show the Plot\n",
    "plt.show()"
   ]
  },
  {
   "cell_type": "markdown",
   "id": "9a5d0aa3-9e3a-49c5-8f9f-35586473beb2",
   "metadata": {},
   "source": [
    "The Random Forest model significantly outperformed Logistic Regression, achieving **94.98% accuracy**. It maintained a strong balance between precision (**94%**) and recall (**91%**) on malicious URLs, which makes it far more reliable for phishing detection. The confusion matrix shows a notable drop in false negatives, meaning far fewer malicious URLs were missed. This model is highly promising and may already be production-ready, but we’ll continue with **XGBoost** to see if we can push performance even further."
   ]
  },
  {
   "cell_type": "markdown",
   "id": "ec7725b2-9f97-4c9b-97bc-ba73cc362faa",
   "metadata": {},
   "source": [
    "**XGBoost**"
   ]
  },
  {
   "cell_type": "code",
   "execution_count": 29,
   "id": "74fd1507-5e49-40f6-95b9-469856b5faac",
   "metadata": {},
   "outputs": [
    {
     "name": "stderr",
     "output_type": "stream",
     "text": [
      "C:\\Users\\emrev\\PycharmProjects\\EmailPhishingDetection\\.venv\\lib\\site-packages\\xgboost\\training.py:183: UserWarning: [18:34:12] WARNING: C:\\actions-runner\\_work\\xgboost\\xgboost\\src\\learner.cc:738: \n",
      "Parameters: { \"use_label_encoder\" } are not used.\n",
      "\n",
      "  bst.update(dtrain, iteration=i, fobj=obj)\n"
     ]
    },
    {
     "name": "stdout",
     "output_type": "stream",
     "text": [
      "XGBoost Base Model's Score: 0.9466636511105565\n"
     ]
    }
   ],
   "source": [
    "# Initiate and Fit the Model\n",
    "xgb_model = XGBClassifier(use_label_encoder=False, eval_metric='logloss', random_state=42)\n",
    "xgb_model.fit(X_train, y_train)\n",
    "\n",
    "# Print the Score\n",
    "xgb_score = xgb_model.score(X_test, y_test)\n",
    "print(f\"XGBoost Base Model's Score: {xgb_score}\")\n",
    "\n",
    "# Get the Predicts\n",
    "y_pred_xgb = xgb_model.predict(X_test)"
   ]
  },
  {
   "cell_type": "code",
   "execution_count": 30,
   "id": "b750ec95-460a-4928-96e3-51b791bb202c",
   "metadata": {},
   "outputs": [
    {
     "name": "stdout",
     "output_type": "stream",
     "text": [
      "Accuracy: 0.9466636511105565\n",
      "\n",
      "Classification Report:\n",
      "               precision    recall  f1-score   support\n",
      "\n",
      "           0       0.95      0.97      0.96     85616\n",
      "           1       0.94      0.90      0.92     42608\n",
      "\n",
      "    accuracy                           0.95    128224\n",
      "   macro avg       0.95      0.93      0.94    128224\n",
      "weighted avg       0.95      0.95      0.95    128224\n",
      "\n"
     ]
    },
    {
     "data": {
      "image/png": "[encoded data removed]",
      "text/plain": [
       "<Figure size 640x480 with 2 Axes>"
      ]
     },
     "metadata": {},
     "output_type": "display_data"
    }
   ],
   "source": [
    "# Accuracy\n",
    "print(\"Accuracy:\", accuracy_score(y_test, y_pred_xgb))\n",
    "\n",
    "# Detailed Report\n",
    "print(\"\\nClassification Report:\\n\", classification_report(y_test, y_pred_xgb))\n",
    "\n",
    "# Confusion Matrix\n",
    "sns.heatmap(confusion_matrix(y_test, y_pred_xgb), annot=True, fmt='d', cmap='Blues')\n",
    "plt.title('URL Confusion Matrix - XGBoost')\n",
    "plt.xlabel('Predicted')\n",
    "plt.ylabel('Actual')\n",
    "\n",
    "# Save as Image\n",
    "plt.savefig(fname='../images/URL_XGBoost_Confusion_Matrix.png')\n",
    "\n",
    "# Show the Plot\n",
    "plt.show()"
   ]
  },
  {
   "cell_type": "markdown",
   "id": "166e4992-7a5d-44f4-8bbf-954c5ef0fbb4",
   "metadata": {},
   "source": [
    "XGBoost achieved a high accuracy of **94.67%**, very close to the performance of Random Forest. It maintained strong precision (**94%**) and recall (**90%**) on phishing URLs, making it a reliable and efficient option. While Random Forest slightly outperformed XGBoost in recall, both models demonstrated production-level performance. Depending on future tuning and inference speed needs, either can be selected as the final model for deployment."
   ]
  },
  {
   "cell_type": "markdown",
   "id": "9a3dc5d1-cad3-4bec-8b13-4cde4ea52d1a",
   "metadata": {},
   "source": [
    "## Hyperparameter Tuning with Optuna\n",
    "\n",
    "To further improve model performance, we perform hyperparameter tuning using **Optuna**, a powerful optimization framework. Instead of manually selecting parameters, Optuna uses intelligent search techniques to automatically find the best combination of hyperparameters that maximize our chosen evaluation metric. In this case, we aim to **maximize the F1-score**, which balances precision and recall — especially important in phishing detection where both false positives and false negatives have serious consequences. We'll tune both the **Random Forest** and **XGBoost** classifiers using cross-validation."
   ]
  },
  {
   "cell_type": "markdown",
   "id": "ee51ebc7-3624-4ea9-8d56-aee42d48fbd2",
   "metadata": {},
   "source": [
    "**Random Forest Classifier**"
   ]
  },
  {
   "cell_type": "code",
   "execution_count": 31,
   "id": "59222600-ea5c-4ee7-8f29-60615bfc10ea",
   "metadata": {},
   "outputs": [],
   "source": [
    "# Define Objective Function for Random Forest\n",
    "def objective_rf(trial):\n",
    "    params = {\n",
    "        'n_estimators': trial.suggest_int('n_estimators', 100, 300),\n",
    "        'max_depth': trial.suggest_int('max_depth', 5, 30),\n",
    "        'min_samples_split': trial.suggest_int('min_samples_split', 2, 10),\n",
    "        'min_samples_leaf': trial.suggest_int('min_samples_leaf', 1, 5),\n",
    "        'max_features': trial.suggest_categorical('max_features', ['sqrt', 'log2'])\n",
    "    }\n",
    "    model = RandomForestClassifier(**params, random_state=42)\n",
    "    score = cross_val_score(model, X_train, y_train, cv=3, scoring='f1').mean()\n",
    "    return score"
   ]
  },
  {
   "cell_type": "code",
   "execution_count": 32,
   "id": "53222c2d-a6a7-4fcc-9dbf-2fac5ad6043b",
   "metadata": {},
   "outputs": [
    {
     "name": "stderr",
     "output_type": "stream",
     "text": [
      "[I 2025-05-30 18:39:47,615] A new study created in memory with name: no-name-c377494e-8586-432b-858a-81ca71139d54\n",
      "[I 2025-05-30 18:41:07,810] Trial 0 finished with value: 0.8684248062535488 and parameters: {'n_estimators': 269, 'max_depth': 10, 'min_samples_split': 9, 'min_samples_leaf': 2, 'max_features': 'log2'}. Best is trial 0 with value: 0.8684248062535488.\n",
      "[I 2025-05-30 18:41:30,923] Trial 1 finished with value: 0.8510986456764823 and parameters: {'n_estimators': 102, 'max_depth': 7, 'min_samples_split': 8, 'min_samples_leaf': 1, 'max_features': 'log2'}. Best is trial 0 with value: 0.8684248062535488.\n",
      "[I 2025-05-30 18:42:36,124] Trial 2 finished with value: 0.9184206837607832 and parameters: {'n_estimators': 125, 'max_depth': 28, 'min_samples_split': 9, 'min_samples_leaf': 4, 'max_features': 'sqrt'}. Best is trial 2 with value: 0.9184206837607832.\n",
      "[I 2025-05-30 18:44:20,889] Trial 3 finished with value: 0.9107766059077965 and parameters: {'n_estimators': 253, 'max_depth': 18, 'min_samples_split': 2, 'min_samples_leaf': 4, 'max_features': 'log2'}. Best is trial 2 with value: 0.9184206837607832.\n",
      "[I 2025-05-30 18:45:35,733] Trial 4 finished with value: 0.8688011758673967 and parameters: {'n_estimators': 253, 'max_depth': 10, 'min_samples_split': 6, 'min_samples_leaf': 1, 'max_features': 'log2'}. Best is trial 2 with value: 0.9184206837607832.\n",
      "[I 2025-05-30 18:47:20,774] Trial 5 finished with value: 0.9157140691477202 and parameters: {'n_estimators': 215, 'max_depth': 18, 'min_samples_split': 5, 'min_samples_leaf': 1, 'max_features': 'sqrt'}. Best is trial 2 with value: 0.9184206837607832.\n",
      "[I 2025-05-30 18:48:24,783] Trial 6 finished with value: 0.9155560500736583 and parameters: {'n_estimators': 144, 'max_depth': 24, 'min_samples_split': 10, 'min_samples_leaf': 4, 'max_features': 'log2'}. Best is trial 2 with value: 0.9184206837607832.\n",
      "[I 2025-05-30 18:49:21,109] Trial 7 finished with value: 0.8996458540647668 and parameters: {'n_estimators': 154, 'max_depth': 14, 'min_samples_split': 10, 'min_samples_leaf': 3, 'max_features': 'log2'}. Best is trial 2 with value: 0.9184206837607832.\n",
      "[I 2025-05-30 18:51:38,456] Trial 8 finished with value: 0.9208936258095873 and parameters: {'n_estimators': 249, 'max_depth': 27, 'min_samples_split': 3, 'min_samples_leaf': 2, 'max_features': 'sqrt'}. Best is trial 8 with value: 0.9208936258095873.\n",
      "[I 2025-05-30 18:53:10,426] Trial 9 finished with value: 0.9170459963971832 and parameters: {'n_estimators': 183, 'max_depth': 21, 'min_samples_split': 10, 'min_samples_leaf': 3, 'max_features': 'sqrt'}. Best is trial 8 with value: 0.9208936258095873.\n",
      "[I 2025-05-30 18:55:43,722] Trial 10 finished with value: 0.9178995768261925 and parameters: {'n_estimators': 299, 'max_depth': 30, 'min_samples_split': 2, 'min_samples_leaf': 5, 'max_features': 'sqrt'}. Best is trial 8 with value: 0.9208936258095873.\n",
      "[I 2025-05-30 18:57:41,187] Trial 11 finished with value: 0.9211808134626049 and parameters: {'n_estimators': 216, 'max_depth': 30, 'min_samples_split': 4, 'min_samples_leaf': 2, 'max_features': 'sqrt'}. Best is trial 11 with value: 0.9211808134626049.\n",
      "[I 2025-05-30 18:59:37,684] Trial 12 finished with value: 0.9206553924130625 and parameters: {'n_estimators': 218, 'max_depth': 25, 'min_samples_split': 4, 'min_samples_leaf': 2, 'max_features': 'sqrt'}. Best is trial 11 with value: 0.9211808134626049.\n",
      "[I 2025-05-30 19:01:23,328] Trial 13 finished with value: 0.9209516610838814 and parameters: {'n_estimators': 196, 'max_depth': 26, 'min_samples_split': 4, 'min_samples_leaf': 2, 'max_features': 'sqrt'}. Best is trial 11 with value: 0.9211808134626049.\n",
      "[I 2025-05-30 19:02:58,435] Trial 14 finished with value: 0.9192042259590169 and parameters: {'n_estimators': 183, 'max_depth': 22, 'min_samples_split': 6, 'min_samples_leaf': 2, 'max_features': 'sqrt'}. Best is trial 11 with value: 0.9211808134626049.\n",
      "[I 2025-05-30 19:04:41,193] Trial 15 finished with value: 0.9199636605224489 and parameters: {'n_estimators': 194, 'max_depth': 30, 'min_samples_split': 4, 'min_samples_leaf': 3, 'max_features': 'sqrt'}. Best is trial 11 with value: 0.9211808134626049.\n",
      "[I 2025-05-30 19:06:39,862] Trial 16 finished with value: 0.9205414065940213 and parameters: {'n_estimators': 221, 'max_depth': 26, 'min_samples_split': 6, 'min_samples_leaf': 2, 'max_features': 'sqrt'}. Best is trial 11 with value: 0.9211808134626049.\n",
      "[I 2025-05-30 19:08:03,693] Trial 17 finished with value: 0.9182726945024863 and parameters: {'n_estimators': 164, 'max_depth': 22, 'min_samples_split': 4, 'min_samples_leaf': 3, 'max_features': 'sqrt'}. Best is trial 11 with value: 0.9211808134626049.\n",
      "[I 2025-05-30 19:10:15,912] Trial 18 finished with value: 0.9212994808898548 and parameters: {'n_estimators': 230, 'max_depth': 30, 'min_samples_split': 3, 'min_samples_leaf': 1, 'max_features': 'sqrt'}. Best is trial 18 with value: 0.9212994808898548.\n",
      "[I 2025-05-30 19:12:23,095] Trial 19 finished with value: 0.9105302831143315 and parameters: {'n_estimators': 287, 'max_depth': 15, 'min_samples_split': 3, 'min_samples_leaf': 1, 'max_features': 'sqrt'}. Best is trial 18 with value: 0.9212994808898548.\n",
      "[I 2025-05-30 19:14:39,329] Trial 20 finished with value: 0.9214807473648791 and parameters: {'n_estimators': 240, 'max_depth': 30, 'min_samples_split': 7, 'min_samples_leaf': 1, 'max_features': 'sqrt'}. Best is trial 20 with value: 0.9214807473648791.\n",
      "[I 2025-05-30 19:16:55,882] Trial 21 finished with value: 0.9214807473648791 and parameters: {'n_estimators': 240, 'max_depth': 30, 'min_samples_split': 7, 'min_samples_leaf': 1, 'max_features': 'sqrt'}. Best is trial 20 with value: 0.9214807473648791.\n",
      "[I 2025-05-30 19:19:09,050] Trial 22 finished with value: 0.9216180351447206 and parameters: {'n_estimators': 234, 'max_depth': 29, 'min_samples_split': 7, 'min_samples_leaf': 1, 'max_features': 'sqrt'}. Best is trial 22 with value: 0.9216180351447206.\n",
      "[I 2025-05-30 19:21:22,804] Trial 23 finished with value: 0.9216440331638062 and parameters: {'n_estimators': 237, 'max_depth': 28, 'min_samples_split': 7, 'min_samples_leaf': 1, 'max_features': 'sqrt'}. Best is trial 23 with value: 0.9216440331638062.\n",
      "[I 2025-05-30 19:23:54,797] Trial 24 finished with value: 0.9217308295305674 and parameters: {'n_estimators': 269, 'max_depth': 28, 'min_samples_split': 7, 'min_samples_leaf': 1, 'max_features': 'sqrt'}. Best is trial 24 with value: 0.9217308295305674.\n",
      "[I 2025-05-30 19:26:20,924] Trial 25 finished with value: 0.9213897707214258 and parameters: {'n_estimators': 268, 'max_depth': 24, 'min_samples_split': 7, 'min_samples_leaf': 1, 'max_features': 'sqrt'}. Best is trial 24 with value: 0.9217308295305674.\n",
      "[I 2025-05-30 19:28:55,402] Trial 26 finished with value: 0.9215919242243834 and parameters: {'n_estimators': 275, 'max_depth': 28, 'min_samples_split': 8, 'min_samples_leaf': 1, 'max_features': 'sqrt'}. Best is trial 24 with value: 0.9217308295305674.\n",
      "[I 2025-05-30 19:31:15,689] Trial 27 finished with value: 0.9157097690499878 and parameters: {'n_estimators': 284, 'max_depth': 21, 'min_samples_split': 8, 'min_samples_leaf': 5, 'max_features': 'sqrt'}. Best is trial 24 with value: 0.9217308295305674.\n",
      "[I 2025-05-30 19:33:38,101] Trial 28 finished with value: 0.9208120573629541 and parameters: {'n_estimators': 264, 'max_depth': 28, 'min_samples_split': 7, 'min_samples_leaf': 2, 'max_features': 'sqrt'}. Best is trial 24 with value: 0.9217308295305674.\n",
      "[I 2025-05-30 19:35:33,827] Trial 29 finished with value: 0.9202274259269538 and parameters: {'n_estimators': 238, 'max_depth': 24, 'min_samples_split': 9, 'min_samples_leaf': 1, 'max_features': 'log2'}. Best is trial 24 with value: 0.9217308295305674.\n"
     ]
    },
    {
     "name": "stdout",
     "output_type": "stream",
     "text": [
      "Best Hyperparameters for Random Forest:\n",
      "{'n_estimators': 269, 'max_depth': 28, 'min_samples_split': 7, 'min_samples_leaf': 1, 'max_features': 'sqrt'}\n"
     ]
    }
   ],
   "source": [
    "# Run Optuna Study\n",
    "study_rf = optuna.create_study(direction='maximize')\n",
    "study_rf.optimize(objective_rf, n_trials=30)\n",
    "\n",
    "# Best Parameters\n",
    "print(\"Best Hyperparameters for Random Forest:\")\n",
    "print(study_rf.best_params)"
   ]
  },
  {
   "cell_type": "code",
   "execution_count": 33,
   "id": "65c12bf5-2f91-4b35-bc4b-9c54c8801760",
   "metadata": {},
   "outputs": [
    {
     "name": "stdout",
     "output_type": "stream",
     "text": [
      "Random Forest Classifier Tuned Model's Score: 0.9509764162715248\n"
     ]
    }
   ],
   "source": [
    "# Train the Final Tuned Model\n",
    "rf_model = RandomForestClassifier(**study_rf.best_params, random_state=42)\n",
    "rf_model.fit(X_train, y_train)\n",
    "\n",
    "# Print the Score\n",
    "rf_score = rf_model.score(X_test, y_test)\n",
    "print(f\"Random Forest Classifier Tuned Model's Score: {rf_score}\")\n",
    "\n",
    "# Get the Predictions\n",
    "y_pred_rf = rf_model.predict(X_test)"
   ]
  },
  {
   "cell_type": "code",
   "execution_count": 34,
   "id": "b04c8922-7064-4832-bd65-8b4c95eab608",
   "metadata": {},
   "outputs": [
    {
     "name": "stdout",
     "output_type": "stream",
     "text": [
      "Accuracy: 0.9509764162715248\n",
      "\n",
      "Classification Report:\n",
      "               precision    recall  f1-score   support\n",
      "\n",
      "           0       0.95      0.97      0.96     85616\n",
      "           1       0.94      0.91      0.92     42608\n",
      "\n",
      "    accuracy                           0.95    128224\n",
      "   macro avg       0.95      0.94      0.94    128224\n",
      "weighted avg       0.95      0.95      0.95    128224\n",
      "\n"
     ]
    },
    {
     "data": {
      "image/png": "[encoded data removed]",
      "text/plain": [
       "<Figure size 640x480 with 2 Axes>"
      ]
     },
     "metadata": {},
     "output_type": "display_data"
    }
   ],
   "source": [
    "# Accuracy\n",
    "print(\"Accuracy:\", accuracy_score(y_test, y_pred_rf))\n",
    "\n",
    "# Detailed Report\n",
    "print(\"\\nClassification Report:\\n\", classification_report(y_test, y_pred_rf))\n",
    "\n",
    "# Confusion Matrix\n",
    "sns.heatmap(confusion_matrix(y_test, y_pred_rf), annot=True, fmt='d', cmap='Blues')\n",
    "plt.title('URL Confusion Matrix - Tuned Random Forest Classifier')\n",
    "plt.xlabel('Predicted')\n",
    "plt.ylabel('Actual')\n",
    "\n",
    "# Save the Plot\n",
    "plt.savefig(fname='../images/URL_Tuned_Random_Forest_Confusion_Matrix.png')\n",
    "plt.show()"
   ]
  },
  {
   "cell_type": "markdown",
   "id": "decb1aa6-27d5-409f-b53a-af7292cacd5f",
   "metadata": {},
   "source": [
    "After hyperparameter tuning with Optuna, the Random Forest model reached an accuracy of **95.10%**, with strong precision (**94%**) and recall (**91%**) on malicious URLs. While the overall accuracy slightly improved over the base model, the real benefit came from reducing false positives and slightly improving consistency. The model now shows excellent balance, making it a highly reliable candidate for deployment."
   ]
  },
  {
   "cell_type": "markdown",
   "id": "fe543d70-3d9e-447c-a3ce-ee34dbfb7008",
   "metadata": {},
   "source": [
    "**XGBoost**"
   ]
  },
  {
   "cell_type": "code",
   "execution_count": 38,
   "id": "fc90ddc1-2658-48c3-b1f2-a09f8f57cd78",
   "metadata": {},
   "outputs": [],
   "source": [
    "# Define Objective Function for XGBoost\n",
    "def objective_xgb(trial):\n",
    "    params = {\n",
    "        'n_estimators': trial.suggest_int('n_estimators', 100, 300),\n",
    "        'max_depth': trial.suggest_int('max_depth', 3, 20),\n",
    "        'learning_rate': trial.suggest_float('learning_rate', 0.01, 0.3),\n",
    "        'subsample': trial.suggest_float('subsample', 0.6, 1.0),\n",
    "        'colsample_bytree': trial.suggest_float('colsample_bytree', 0.6, 1.0),\n",
    "        'gamma': trial.suggest_float('gamma', 0, 5),\n",
    "        'reg_lambda': trial.suggest_float('reg_lambda', 1e-3, 10.0),\n",
    "        'tree_method': 'hist',\n",
    "        'device': 'cuda',\n",
    "        'eval_metric': 'logloss'\n",
    "    }\n",
    "    model = XGBClassifier(**params, random_state=42)\n",
    "    score = cross_val_score(model, X_train, y_train, cv=3, scoring='f1').mean()\n",
    "    return score"
   ]
  },
  {
   "cell_type": "code",
   "execution_count": 39,
   "id": "7e9c6333-914b-4526-a9d9-fbe7ed5e264f",
   "metadata": {},
   "outputs": [
    {
     "name": "stderr",
     "output_type": "stream",
     "text": [
      "[I 2025-05-30 20:05:23,535] A new study created in memory with name: no-name-03d98d5a-4d70-4633-a70c-0e1d64b40c7b\n",
      "[I 2025-05-30 20:05:25,953] Trial 0 finished with value: 0.9155575898828691 and parameters: {'n_estimators': 212, 'max_depth': 10, 'learning_rate': 0.2593101318743404, 'subsample': 0.6991509704348586, 'colsample_bytree': 0.748192050730482, 'gamma': 4.9274478991991115, 'reg_lambda': 9.98192867910562}. Best is trial 0 with value: 0.9155575898828691.\n",
      "[I 2025-05-30 20:05:28,386] Trial 1 finished with value: 0.9148866062857768 and parameters: {'n_estimators': 291, 'max_depth': 6, 'learning_rate': 0.2595975326085403, 'subsample': 0.6578176654443817, 'colsample_bytree': 0.888150593696269, 'gamma': 4.671355758516875, 'reg_lambda': 0.9602346060849979}. Best is trial 0 with value: 0.9155575898828691.\n",
      "[I 2025-05-30 20:05:31,065] Trial 2 finished with value: 0.9175526814252377 and parameters: {'n_estimators': 220, 'max_depth': 12, 'learning_rate': 0.1692128183961673, 'subsample': 0.7513201328791719, 'colsample_bytree': 0.6001103903749442, 'gamma': 3.082977990580394, 'reg_lambda': 9.074132341973806}. Best is trial 2 with value: 0.9175526814252377.\n",
      "[I 2025-05-30 20:05:35,280] Trial 3 finished with value: 0.9163063675594382 and parameters: {'n_estimators': 210, 'max_depth': 9, 'learning_rate': 0.05474426360483051, 'subsample': 0.8175424065947428, 'colsample_bytree': 0.6846302397588084, 'gamma': 0.9052798946625973, 'reg_lambda': 6.599901402094478}. Best is trial 2 with value: 0.9175526814252377.\n",
      "[I 2025-05-30 20:05:37,188] Trial 4 finished with value: 0.9126170369494705 and parameters: {'n_estimators': 172, 'max_depth': 4, 'learning_rate': 0.25132571559611, 'subsample': 0.8557415795520538, 'colsample_bytree': 0.8442852372938193, 'gamma': 1.6704899448544834, 'reg_lambda': 1.9689059478908144}. Best is trial 2 with value: 0.9175526814252377.\n",
      "[I 2025-05-30 20:05:40,923] Trial 5 finished with value: 0.9199301623043542 and parameters: {'n_estimators': 261, 'max_depth': 15, 'learning_rate': 0.10110556378584432, 'subsample': 0.7124445532085174, 'colsample_bytree': 0.9391199214123138, 'gamma': 3.4436885147169067, 'reg_lambda': 0.8296480648026562}. Best is trial 5 with value: 0.9199301623043542.\n",
      "[I 2025-05-30 20:05:43,335] Trial 6 finished with value: 0.9091019016943825 and parameters: {'n_estimators': 253, 'max_depth': 4, 'learning_rate': 0.11782227611419542, 'subsample': 0.6420256925012103, 'colsample_bytree': 0.9128822583708136, 'gamma': 3.043832576770276, 'reg_lambda': 9.044746603139377}. Best is trial 5 with value: 0.9199301623043542.\n",
      "[I 2025-05-30 20:05:45,007] Trial 7 finished with value: 0.8994615893458198 and parameters: {'n_estimators': 147, 'max_depth': 4, 'learning_rate': 0.07039336363677158, 'subsample': 0.8913588580454553, 'colsample_bytree': 0.9855923914576107, 'gamma': 2.8655761517876215, 'reg_lambda': 7.336320021564272}. Best is trial 5 with value: 0.9199301623043542.\n",
      "[I 2025-05-30 20:05:47,003] Trial 8 finished with value: 0.9194001395018109 and parameters: {'n_estimators': 101, 'max_depth': 15, 'learning_rate': 0.2115407201797922, 'subsample': 0.8129412616805001, 'colsample_bytree': 0.8512933039880968, 'gamma': 2.6003371519706215, 'reg_lambda': 5.936097039947839}. Best is trial 5 with value: 0.9199301623043542.\n",
      "[I 2025-05-30 20:05:51,553] Trial 9 finished with value: 0.9164025690248297 and parameters: {'n_estimators': 117, 'max_depth': 18, 'learning_rate': 0.03693692500608957, 'subsample': 0.8641963552208891, 'colsample_bytree': 0.7075677440456681, 'gamma': 3.6674683526799963, 'reg_lambda': 6.785242837189493}. Best is trial 5 with value: 0.9199301623043542.\n",
      "[I 2025-05-30 20:05:58,472] Trial 10 finished with value: 0.9224399863686598 and parameters: {'n_estimators': 296, 'max_depth': 20, 'learning_rate': 0.12167938636172912, 'subsample': 0.9706944078351574, 'colsample_bytree': 0.9895279954494608, 'gamma': 0.4601815337490307, 'reg_lambda': 3.3441447923685823}. Best is trial 10 with value: 0.9224399863686598.\n",
      "[I 2025-05-30 20:06:07,515] Trial 11 finished with value: 0.9227015116969457 and parameters: {'n_estimators': 292, 'max_depth': 20, 'learning_rate': 0.12402973383598716, 'subsample': 0.9836001134077504, 'colsample_bytree': 0.998926473970416, 'gamma': 0.19423676357331132, 'reg_lambda': 3.279788157686834}. Best is trial 11 with value: 0.9227015116969457.\n",
      "[I 2025-05-30 20:06:22,500] Trial 12 finished with value: 0.9220895589397293 and parameters: {'n_estimators': 277, 'max_depth': 20, 'learning_rate': 0.14924733433215917, 'subsample': 0.986484364613592, 'colsample_bytree': 0.9987178859998576, 'gamma': 0.0509139159579024, 'reg_lambda': 3.661976822394851}. Best is trial 11 with value: 0.9227015116969457.\n",
      "[I 2025-05-30 20:06:29,568] Trial 13 finished with value: 0.9223747118509373 and parameters: {'n_estimators': 295, 'max_depth': 20, 'learning_rate': 0.1771619787474458, 'subsample': 0.9952572220956056, 'colsample_bytree': 0.9539273844202114, 'gamma': 0.17180769074245505, 'reg_lambda': 3.301887321641955}. Best is trial 11 with value: 0.9227015116969457.\n",
      "[I 2025-05-30 20:06:34,161] Trial 14 finished with value: 0.9210710165988815 and parameters: {'n_estimators': 244, 'max_depth': 17, 'learning_rate': 0.11410128465464721, 'subsample': 0.9405745170384349, 'colsample_bytree': 0.8244550467094345, 'gamma': 1.3321300638650815, 'reg_lambda': 3.99680221903544}. Best is trial 11 with value: 0.9227015116969457.\n",
      "[I 2025-05-30 20:06:47,107] Trial 15 finished with value: 0.9201608883235731 and parameters: {'n_estimators': 299, 'max_depth': 14, 'learning_rate': 0.020323909968623155, 'subsample': 0.9443008118832361, 'colsample_bytree': 0.8907405271165719, 'gamma': 0.7697184332718625, 'reg_lambda': 2.2589480216675306}. Best is trial 11 with value: 0.9227015116969457.\n",
      "[I 2025-05-30 20:06:50,266] Trial 16 finished with value: 0.9204132331913707 and parameters: {'n_estimators': 238, 'max_depth': 18, 'learning_rate': 0.1989993389621612, 'subsample': 0.9305651959364329, 'colsample_bytree': 0.7732366739292398, 'gamma': 1.9611626703163707, 'reg_lambda': 4.7901441034182755}. Best is trial 11 with value: 0.9227015116969457.\n",
      "[I 2025-05-30 20:06:58,329] Trial 17 finished with value: 0.922362341864042 and parameters: {'n_estimators': 270, 'max_depth': 20, 'learning_rate': 0.08757097723709859, 'subsample': 0.9019384189652249, 'colsample_bytree': 0.953143904428253, 'gamma': 0.6950535557564708, 'reg_lambda': 2.073324834810124}. Best is trial 11 with value: 0.9227015116969457.\n",
      "[I 2025-05-30 20:07:01,666] Trial 18 finished with value: 0.9205870453891207 and parameters: {'n_estimators': 188, 'max_depth': 17, 'learning_rate': 0.13702929710948578, 'subsample': 0.9689357679774637, 'colsample_bytree': 0.9979008821408569, 'gamma': 2.032030905658, 'reg_lambda': 5.051025337916375}. Best is trial 11 with value: 0.9227015116969457.\n",
      "[I 2025-05-30 20:07:05,376] Trial 19 finished with value: 0.9213589026064066 and parameters: {'n_estimators': 234, 'max_depth': 13, 'learning_rate': 0.21970244115358192, 'subsample': 0.7639009222150588, 'colsample_bytree': 0.9215504404175644, 'gamma': 1.2307801337718096, 'reg_lambda': 3.1495126448581305}. Best is trial 11 with value: 0.9227015116969457.\n",
      "[I 2025-05-30 20:07:10,140] Trial 20 finished with value: 0.9208819546254912 and parameters: {'n_estimators': 273, 'max_depth': 8, 'learning_rate': 0.1308590110240649, 'subsample': 0.6034132680608966, 'colsample_bytree': 0.8763292774461613, 'gamma': 0.40700371468036245, 'reg_lambda': 0.31826126777447783}. Best is trial 11 with value: 0.9227015116969457.\n",
      "[I 2025-05-30 20:07:20,248] Trial 21 finished with value: 0.9225013293988941 and parameters: {'n_estimators': 300, 'max_depth': 20, 'learning_rate': 0.17450301153244932, 'subsample': 0.9980908309810042, 'colsample_bytree': 0.9584648165615952, 'gamma': 0.06812489117801943, 'reg_lambda': 4.51863382994272}. Best is trial 11 with value: 0.9227015116969457.\n",
      "[I 2025-05-30 20:07:32,397] Trial 22 finished with value: 0.9223095468114252 and parameters: {'n_estimators': 281, 'max_depth': 18, 'learning_rate': 0.17957039086198354, 'subsample': 0.9964781932433266, 'colsample_bytree': 0.9655974317503201, 'gamma': 0.03894263574737672, 'reg_lambda': 4.648783481801651}. Best is trial 11 with value: 0.9227015116969457.\n",
      "[I 2025-05-30 20:07:37,380] Trial 23 finished with value: 0.9221103914961396 and parameters: {'n_estimators': 299, 'max_depth': 16, 'learning_rate': 0.15736505358866673, 'subsample': 0.9620484894598728, 'colsample_bytree': 0.963802846572768, 'gamma': 0.5534964733504704, 'reg_lambda': 2.7611727082090063}. Best is trial 11 with value: 0.9227015116969457.\n",
      "[I 2025-05-30 20:07:40,670] Trial 24 finished with value: 0.9212161086826477 and parameters: {'n_estimators': 258, 'max_depth': 19, 'learning_rate': 0.29871911787401134, 'subsample': 0.9074049622262386, 'colsample_bytree': 0.9202538115131481, 'gamma': 1.1067359162132706, 'reg_lambda': 5.678661791167782}. Best is trial 11 with value: 0.9227015116969457.\n",
      "[I 2025-05-30 20:07:46,524] Trial 25 finished with value: 0.9214098397760825 and parameters: {'n_estimators': 283, 'max_depth': 19, 'learning_rate': 0.07750544197295356, 'subsample': 0.9268952214374613, 'colsample_bytree': 0.9815325026865412, 'gamma': 1.5484757736208015, 'reg_lambda': 4.0557834877910555}. Best is trial 11 with value: 0.9227015116969457.\n",
      "[I 2025-05-30 20:07:58,170] Trial 26 finished with value: 0.9223369314866331 and parameters: {'n_estimators': 266, 'max_depth': 16, 'learning_rate': 0.10223345254029428, 'subsample': 0.8631045295934526, 'colsample_bytree': 0.9346162079610021, 'gamma': 0.279149517948058, 'reg_lambda': 1.4048759153811377}. Best is trial 11 with value: 0.9227015116969457.\n",
      "[I 2025-05-30 20:08:03,828] Trial 27 finished with value: 0.9220503013676956 and parameters: {'n_estimators': 228, 'max_depth': 20, 'learning_rate': 0.13908008111500295, 'subsample': 0.9612715953018536, 'colsample_bytree': 0.8028680542997004, 'gamma': 0.5688198402701827, 'reg_lambda': 2.838965311566686}. Best is trial 11 with value: 0.9227015116969457.\n",
      "[I 2025-05-30 20:08:07,425] Trial 28 finished with value: 0.9212422061905333 and parameters: {'n_estimators': 248, 'max_depth': 17, 'learning_rate': 0.1930893389710005, 'subsample': 0.9770010962934246, 'colsample_bytree': 0.9009485942893736, 'gamma': 0.9807148454719584, 'reg_lambda': 4.304482522050288}. Best is trial 11 with value: 0.9227015116969457.\n",
      "[I 2025-05-30 20:08:09,830] Trial 29 finished with value: 0.9182014868901173 and parameters: {'n_estimators': 185, 'max_depth': 10, 'learning_rate': 0.1581295515792416, 'subsample': 0.8799032261604554, 'colsample_bytree': 0.9710086421093906, 'gamma': 2.072753688717438, 'reg_lambda': 5.331555607973689}. Best is trial 11 with value: 0.9227015116969457.\n"
     ]
    },
    {
     "name": "stdout",
     "output_type": "stream",
     "text": [
      "Best Hyperparameters for XGBoost:\n",
      "{'n_estimators': 292, 'max_depth': 20, 'learning_rate': 0.12402973383598716, 'subsample': 0.9836001134077504, 'colsample_bytree': 0.998926473970416, 'gamma': 0.19423676357331132, 'reg_lambda': 3.279788157686834}\n"
     ]
    }
   ],
   "source": [
    "# Run Optuna Study\n",
    "study_xgb = optuna.create_study(direction='maximize')\n",
    "study_xgb.optimize(objective_xgb, n_trials=30)\n",
    "\n",
    "# Print Best Params\n",
    "print(\"Best Hyperparameters for XGBoost:\")\n",
    "print(study_xgb.best_params)"
   ]
  },
  {
   "cell_type": "code",
   "execution_count": 40,
   "id": "9662963c-7cbf-43db-ad5b-1f0e38d15788",
   "metadata": {},
   "outputs": [
    {
     "name": "stdout",
     "output_type": "stream",
     "text": [
      "XGBoost Classifier Tuned Model's Score: 0.9513585600199651\n"
     ]
    }
   ],
   "source": [
    "# Train the Final Tuned Model\n",
    "xgb_model = XGBClassifier(**study_xgb.best_params, random_state=42)\n",
    "xgb_model.fit(X_train, y_train)\n",
    "\n",
    "# Print the Score\n",
    "xgb_score = xgb_model.score(X_test, y_test)\n",
    "print(f\"XGBoost Classifier Tuned Model's Score: {xgb_score}\")\n",
    "\n",
    "# Get the Predictions\n",
    "y_pred_xgb = xgb_model.predict(X_test)"
   ]
  },
  {
   "cell_type": "code",
   "execution_count": 41,
   "id": "3e049cce-6f84-48cc-8082-3c1dcc0d9658",
   "metadata": {},
   "outputs": [
    {
     "name": "stdout",
     "output_type": "stream",
     "text": [
      "Accuracy: 0.9513585600199651\n",
      "\n",
      "Classification Report:\n",
      "               precision    recall  f1-score   support\n",
      "\n",
      "           0       0.96      0.97      0.96     85616\n",
      "           1       0.94      0.91      0.93     42608\n",
      "\n",
      "    accuracy                           0.95    128224\n",
      "   macro avg       0.95      0.94      0.94    128224\n",
      "weighted avg       0.95      0.95      0.95    128224\n",
      "\n"
     ]
    },
    {
     "data": {
      "image/png": "[encoded data removed]",
      "text/plain": [
       "<Figure size 640x480 with 2 Axes>"
      ]
     },
     "metadata": {},
     "output_type": "display_data"
    }
   ],
   "source": [
    "# Accuracy\n",
    "print(\"Accuracy:\", accuracy_score(y_test, y_pred_xgb))\n",
    "\n",
    "# Detailed Report\n",
    "print(\"\\nClassification Report:\\n\", classification_report(y_test, y_pred_xgb))\n",
    "\n",
    "# Confusion Matrix\n",
    "sns.heatmap(confusion_matrix(y_test, y_pred_xgb), annot=True, fmt='d', cmap='Blues')\n",
    "plt.title('URL Confusion Matrix - Tuned XGBoost Classifier')\n",
    "plt.xlabel('Predicted')\n",
    "plt.ylabel('Actual')\n",
    "\n",
    "# Save the Plot\n",
    "plt.savefig(fname='../images/URL_Tuned_XGBoost_Confusion_Matrix.png')\n",
    "plt.show()"
   ]
  },
  {
   "cell_type": "markdown",
   "id": "f3de5e06-8f8c-45f1-9289-546b730890dd",
   "metadata": {},
   "source": [
    "After tuning with Optuna and enabling GPU acceleration, the XGBoost model achieved an impressive accuracy of **95.14%**, slightly outperforming the tuned Random Forest. It showed excellent balance between precision (**94%**) and recall (**91%**) for detecting malicious URLs. With fewer false negatives and solid generalization, this model demonstrates high reliability and efficiency, making it a strong candidate for deployment in real-time phishing URL detection systems."
   ]
  },
  {
   "cell_type": "code",
   "execution_count": null,
   "id": "b8a007c4-50d4-431f-895d-715962d645e3",
   "metadata": {},
   "outputs": [],
   "source": []
  }
 ],
 "metadata": {
  "kernelspec": {
   "display_name": "Python 3 (ipykernel)",
   "language": "python",
   "name": "python3"
  },
  "language_info": {
   "codemirror_mode": {
    "name": "ipython",
    "version": 3
   },
   "file_extension": ".py",
   "mimetype": "text/x-python",
   "name": "python",
   "nbconvert_exporter": "python",
   "pygments_lexer": "ipython3",
   "version": "3.10.0"
  }
 },
 "nbformat": 4,
 "nbformat_minor": 5
}
