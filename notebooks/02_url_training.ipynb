{
 "cells": [
  {
   "cell_type": "markdown",
   "id": "df52ea71-fbd8-4cad-9cef-edd13e1ccf08",
   "metadata": {},
   "source": [
    "# URL Phishing Detection\n",
    "\n",
    "In this notebook, we aim to build a machine learning model that can accurately classify URLs as either **malicious (phishing)** or **benign (legitimate)** based on their structural characteristics. Unlike natural language processing approaches used for email body content, URLs require a feature-engineering-based strategy, focusing on patterns like length, presence of suspicious keywords, number of dots or slashes, and more.\n",
    "\n",
    "We'll use the **Malicious URLs Dataset** from Kaggle, extract relevant features from each URL, train a classification model, evaluate its performance, and save the best-performing model for production use in our unified phishing detection system.\n",
    "\n",
    "📌 **Goal**: Achieve at least **95% accuracy** in detecting phishing URLs, while maintaining low false positives to ensure reliability in real-world scenarios."
   ]
  },
  {
   "cell_type": "markdown",
   "id": "485e003d-7cc7-4f3d-847f-3976b98fe172",
   "metadata": {},
   "source": [
    "**Imports**:"
   ]
  },
  {
   "cell_type": "code",
   "execution_count": 1,
   "id": "605d6f5c-5dfe-4cda-b7ec-9b690697c04a",
   "metadata": {},
   "outputs": [],
   "source": [
    "# Data Handling\n",
    "import pandas as pd\n",
    "import numpy as np\n",
    "\n",
    "# Visualization\n",
    "import matplotlib.pyplot as plt\n",
    "import seaborn as sns\n",
    "\n",
    "# Feature Engineering\n",
    "import re\n",
    "\n",
    "# Model Training\n",
    "from sklearn.model_selection import train_test_split\n",
    "from sklearn.ensemble import RandomForestClassifier\n",
    "from sklearn.linear_model import LogisticRegression\n",
    "from xgboost import XGBClassifier\n",
    "\n",
    "# Evaluation\n",
    "from sklearn.metrics import classification_report, confusion_matrix, accuracy_score\n",
    "\n",
    "# Model Saving\n",
    "import joblib\n",
    "\n",
    "# Plot Style\n",
    "sns.set_style('dark')"
   ]
  },
  {
   "cell_type": "markdown",
   "id": "7b1265dd-0032-4662-ae88-41a6fca4674a",
   "metadata": {},
   "source": [
    "**Load the Dataset**:"
   ]
  },
  {
   "cell_type": "code",
   "execution_count": 2,
   "id": "62e86a8a-047a-45f6-b26f-303db2b82cef",
   "metadata": {},
   "outputs": [
    {
     "data": {
      "text/html": [
       "<div>\n",
       "<style scoped>\n",
       "    .dataframe tbody tr th:only-of-type {\n",
       "        vertical-align: middle;\n",
       "    }\n",
       "\n",
       "    .dataframe tbody tr th {\n",
       "        vertical-align: top;\n",
       "    }\n",
       "\n",
       "    .dataframe thead th {\n",
       "        text-align: right;\n",
       "    }\n",
       "</style>\n",
       "<table border=\"1\" class=\"dataframe\">\n",
       "  <thead>\n",
       "    <tr style=\"text-align: right;\">\n",
       "      <th></th>\n",
       "      <th>url</th>\n",
       "      <th>type</th>\n",
       "    </tr>\n",
       "  </thead>\n",
       "  <tbody>\n",
       "    <tr>\n",
       "      <th>0</th>\n",
       "      <td>br-icloud.com.br</td>\n",
       "      <td>phishing</td>\n",
       "    </tr>\n",
       "    <tr>\n",
       "      <th>1</th>\n",
       "      <td>mp3raid.com/music/krizz_kaliko.html</td>\n",
       "      <td>benign</td>\n",
       "    </tr>\n",
       "    <tr>\n",
       "      <th>2</th>\n",
       "      <td>bopsecrets.org/rexroth/cr/1.htm</td>\n",
       "      <td>benign</td>\n",
       "    </tr>\n",
       "    <tr>\n",
       "      <th>3</th>\n",
       "      <td>http://www.garage-pirenne.be/index.php?option=...</td>\n",
       "      <td>defacement</td>\n",
       "    </tr>\n",
       "    <tr>\n",
       "      <th>4</th>\n",
       "      <td>http://adventure-nicaragua.net/index.php?optio...</td>\n",
       "      <td>defacement</td>\n",
       "    </tr>\n",
       "  </tbody>\n",
       "</table>\n",
       "</div>"
      ],
      "text/plain": [
       "                                                 url        type\n",
       "0                                   br-icloud.com.br    phishing\n",
       "1                mp3raid.com/music/krizz_kaliko.html      benign\n",
       "2                    bopsecrets.org/rexroth/cr/1.htm      benign\n",
       "3  http://www.garage-pirenne.be/index.php?option=...  defacement\n",
       "4  http://adventure-nicaragua.net/index.php?optio...  defacement"
      ]
     },
     "execution_count": 2,
     "metadata": {},
     "output_type": "execute_result"
    }
   ],
   "source": [
    "# Load the Dataset\n",
    "df = pd.read_csv('../data/malicious_phish.csv')\n",
    "df.head()"
   ]
  },
  {
   "cell_type": "markdown",
   "id": "0339668a-eb2b-4a92-8642-6eb22acbda31",
   "metadata": {},
   "source": [
    "## Exploratory Data Analysis (EDA)\n",
    "\n",
    "In this section, we will perform Exploratory Data Analysis (EDA) to better understand the structure and distribution of the dataset. We'll examine the balance between phishing and benign URLs, check for missing values, and identify any patterns or inconsistencies that could influence feature extraction. This step ensures we have a clear understanding of the data before moving into feature engineering and model training."
   ]
  },
  {
   "cell_type": "markdown",
   "id": "bfb6196a-b4fc-42a5-a733-ab0702fa5c6b",
   "metadata": {},
   "source": [
    "**Basics**:"
   ]
  },
  {
   "cell_type": "code",
   "execution_count": 3,
   "id": "e1ce9913-4ce6-4e39-a9bb-ba9fc3a9ad08",
   "metadata": {},
   "outputs": [
    {
     "data": {
      "text/html": [
       "<div>\n",
       "<style scoped>\n",
       "    .dataframe tbody tr th:only-of-type {\n",
       "        vertical-align: middle;\n",
       "    }\n",
       "\n",
       "    .dataframe tbody tr th {\n",
       "        vertical-align: top;\n",
       "    }\n",
       "\n",
       "    .dataframe thead th {\n",
       "        text-align: right;\n",
       "    }\n",
       "</style>\n",
       "<table border=\"1\" class=\"dataframe\">\n",
       "  <thead>\n",
       "    <tr style=\"text-align: right;\">\n",
       "      <th></th>\n",
       "      <th>url</th>\n",
       "      <th>type</th>\n",
       "    </tr>\n",
       "  </thead>\n",
       "  <tbody>\n",
       "    <tr>\n",
       "      <th>0</th>\n",
       "      <td>br-icloud.com.br</td>\n",
       "      <td>phishing</td>\n",
       "    </tr>\n",
       "    <tr>\n",
       "      <th>1</th>\n",
       "      <td>mp3raid.com/music/krizz_kaliko.html</td>\n",
       "      <td>benign</td>\n",
       "    </tr>\n",
       "    <tr>\n",
       "      <th>2</th>\n",
       "      <td>bopsecrets.org/rexroth/cr/1.htm</td>\n",
       "      <td>benign</td>\n",
       "    </tr>\n",
       "    <tr>\n",
       "      <th>3</th>\n",
       "      <td>http://www.garage-pirenne.be/index.php?option=...</td>\n",
       "      <td>defacement</td>\n",
       "    </tr>\n",
       "    <tr>\n",
       "      <th>4</th>\n",
       "      <td>http://adventure-nicaragua.net/index.php?optio...</td>\n",
       "      <td>defacement</td>\n",
       "    </tr>\n",
       "  </tbody>\n",
       "</table>\n",
       "</div>"
      ],
      "text/plain": [
       "                                                 url        type\n",
       "0                                   br-icloud.com.br    phishing\n",
       "1                mp3raid.com/music/krizz_kaliko.html      benign\n",
       "2                    bopsecrets.org/rexroth/cr/1.htm      benign\n",
       "3  http://www.garage-pirenne.be/index.php?option=...  defacement\n",
       "4  http://adventure-nicaragua.net/index.php?optio...  defacement"
      ]
     },
     "execution_count": 3,
     "metadata": {},
     "output_type": "execute_result"
    }
   ],
   "source": [
    "df.head()"
   ]
  },
  {
   "cell_type": "code",
   "execution_count": 4,
   "id": "27a3f463-f10e-4a7d-8414-5468f792a46e",
   "metadata": {},
   "outputs": [
    {
     "name": "stdout",
     "output_type": "stream",
     "text": [
      "<class 'pandas.core.frame.DataFrame'>\n",
      "RangeIndex: 651191 entries, 0 to 651190\n",
      "Data columns (total 2 columns):\n",
      " #   Column  Non-Null Count   Dtype \n",
      "---  ------  --------------   ----- \n",
      " 0   url     651191 non-null  object\n",
      " 1   type    651191 non-null  object\n",
      "dtypes: object(2)\n",
      "memory usage: 9.9+ MB\n"
     ]
    }
   ],
   "source": [
    "df.info()"
   ]
  },
  {
   "cell_type": "code",
   "execution_count": 5,
   "id": "663ae8ef-6b77-424e-9282-ce789ae5b983",
   "metadata": {},
   "outputs": [
    {
     "data": {
      "text/html": [
       "<div>\n",
       "<style scoped>\n",
       "    .dataframe tbody tr th:only-of-type {\n",
       "        vertical-align: middle;\n",
       "    }\n",
       "\n",
       "    .dataframe tbody tr th {\n",
       "        vertical-align: top;\n",
       "    }\n",
       "\n",
       "    .dataframe thead th {\n",
       "        text-align: right;\n",
       "    }\n",
       "</style>\n",
       "<table border=\"1\" class=\"dataframe\">\n",
       "  <thead>\n",
       "    <tr style=\"text-align: right;\">\n",
       "      <th></th>\n",
       "      <th>url</th>\n",
       "      <th>type</th>\n",
       "    </tr>\n",
       "  </thead>\n",
       "  <tbody>\n",
       "    <tr>\n",
       "      <th>count</th>\n",
       "      <td>651191</td>\n",
       "      <td>651191</td>\n",
       "    </tr>\n",
       "    <tr>\n",
       "      <th>unique</th>\n",
       "      <td>641119</td>\n",
       "      <td>4</td>\n",
       "    </tr>\n",
       "    <tr>\n",
       "      <th>top</th>\n",
       "      <td>http://style.org.hc360.com/css/detail/mysite/s...</td>\n",
       "      <td>benign</td>\n",
       "    </tr>\n",
       "    <tr>\n",
       "      <th>freq</th>\n",
       "      <td>180</td>\n",
       "      <td>428103</td>\n",
       "    </tr>\n",
       "  </tbody>\n",
       "</table>\n",
       "</div>"
      ],
      "text/plain": [
       "                                                      url    type\n",
       "count                                              651191  651191\n",
       "unique                                             641119       4\n",
       "top     http://style.org.hc360.com/css/detail/mysite/s...  benign\n",
       "freq                                                  180  428103"
      ]
     },
     "execution_count": 5,
     "metadata": {},
     "output_type": "execute_result"
    }
   ],
   "source": [
    "df.describe()"
   ]
  },
  {
   "cell_type": "code",
   "execution_count": 6,
   "id": "a11477a7-e23d-4d10-bc70-a35ef03c2549",
   "metadata": {},
   "outputs": [
    {
     "data": {
      "text/plain": [
       "url     0\n",
       "type    0\n",
       "dtype: int64"
      ]
     },
     "execution_count": 6,
     "metadata": {},
     "output_type": "execute_result"
    }
   ],
   "source": [
    "df.isna().sum()"
   ]
  },
  {
   "cell_type": "code",
   "execution_count": 7,
   "id": "2652edeb-b61a-461c-9e55-841b6598ff90",
   "metadata": {},
   "outputs": [
    {
     "data": {
      "text/plain": [
       "np.int64(10072)"
      ]
     },
     "execution_count": 7,
     "metadata": {},
     "output_type": "execute_result"
    }
   ],
   "source": [
    "df['url'].duplicated().sum()"
   ]
  },
  {
   "cell_type": "markdown",
   "id": "488287c5-301b-41b9-8368-3d30220ad0db",
   "metadata": {},
   "source": [
    "The dataset contains **651,191 URL entries** across two columns: `url` and `type`. There are **no missing values**, but we found **10,072 duplicate URLs**, which we may choose to remove to avoid bias. The `type` column has four unique values, with `'benign'` being the most frequent, appearing over 428,000 times. Before moving on, we’ll explore the label distribution and decide whether to filter or merge any classes for binary classification (e.g., phishing vs. non-phishing)."
   ]
  },
  {
   "cell_type": "code",
   "execution_count": 8,
   "id": "4b84f334-a2e5-4267-88a1-8f64b59c494a",
   "metadata": {},
   "outputs": [
    {
     "data": {
      "text/plain": [
       "array(['phishing', 'benign', 'defacement', 'malware'], dtype=object)"
      ]
     },
     "execution_count": 8,
     "metadata": {},
     "output_type": "execute_result"
    }
   ],
   "source": [
    "df['type'].unique()"
   ]
  },
  {
   "cell_type": "markdown",
   "id": "602adf96-c1fa-4462-9e27-89bcc39e784a",
   "metadata": {},
   "source": [
    "The `type` column contains four categories: `'phishing'`, `'malware'`, `'defacement'`, and `'benign'`. Since our goal is to classify URLs as either **malicious** or **legitimate**, we will convert this into a binary classification task. Specifically, `'phishing'`, `'malware'`, and `'defacement'` will be grouped under the **malicious** class (label `1`), while `'benign'` will remain as **legitimate** (label `0`). This approach simplifies the task and aligns with our existing email phishing detection model."
   ]
  },
  {
   "cell_type": "code",
   "execution_count": 9,
   "id": "14ddca5f-8d5d-47a7-9528-4db49919e284",
   "metadata": {},
   "outputs": [],
   "source": [
    "df['url_length'] = df['url'].apply(len)"
   ]
  },
  {
   "cell_type": "markdown",
   "id": "68e5a1ee-442d-4e17-8e92-a723e9e94a54",
   "metadata": {},
   "source": [
    "**Drop the Duplicates**:"
   ]
  },
  {
   "cell_type": "code",
   "execution_count": 10,
   "id": "4569a4fb-4b67-4fe9-8b1f-9290c93b2bf9",
   "metadata": {},
   "outputs": [
    {
     "data": {
      "text/plain": [
       "np.int64(0)"
      ]
     },
     "execution_count": 10,
     "metadata": {},
     "output_type": "execute_result"
    }
   ],
   "source": [
    "df = df.drop_duplicates(subset='url')\n",
    "df['url'].duplicated().sum()"
   ]
  },
  {
   "cell_type": "markdown",
   "id": "3874d1fa-ccd8-4437-8143-6a6527a313b0",
   "metadata": {},
   "source": [
    "**Encode the Type**:"
   ]
  },
  {
   "cell_type": "code",
   "execution_count": 11,
   "id": "9f356d02-dc83-4654-84c3-7819dc6c0572",
   "metadata": {},
   "outputs": [
    {
     "data": {
      "text/plain": [
       "array([1, 0])"
      ]
     },
     "execution_count": 11,
     "metadata": {},
     "output_type": "execute_result"
    }
   ],
   "source": [
    "df.loc[:, 'label'] = df['type'].apply(lambda x: 0 if x=='benign' else 1)\n",
    "df['label'].unique()"
   ]
  },
  {
   "cell_type": "code",
   "execution_count": 12,
   "id": "b1a8874c-4417-41cb-97b0-3dad69a02694",
   "metadata": {},
   "outputs": [],
   "source": [
    "df = df.drop(columns=['type'])"
   ]
  },
  {
   "cell_type": "code",
   "execution_count": 13,
   "id": "763dc2d8-1be6-476a-8691-16bda4448ea3",
   "metadata": {},
   "outputs": [
    {
     "data": {
      "text/plain": [
       "label\n",
       "0    66.770756\n",
       "1    33.229244\n",
       "Name: proportion, dtype: float64"
      ]
     },
     "execution_count": 13,
     "metadata": {},
     "output_type": "execute_result"
    }
   ],
   "source": [
    "df['label'].value_counts(normalize=True) * 100"
   ]
  },
  {
   "cell_type": "code",
   "execution_count": 14,
   "id": "1d504eff-6cb0-42a0-8eaf-e0a4390ee460",
   "metadata": {},
   "outputs": [
    {
     "data": {
      "text/html": [
       "<div>\n",
       "<style scoped>\n",
       "    .dataframe tbody tr th:only-of-type {\n",
       "        vertical-align: middle;\n",
       "    }\n",
       "\n",
       "    .dataframe tbody tr th {\n",
       "        vertical-align: top;\n",
       "    }\n",
       "\n",
       "    .dataframe thead th {\n",
       "        text-align: right;\n",
       "    }\n",
       "</style>\n",
       "<table border=\"1\" class=\"dataframe\">\n",
       "  <thead>\n",
       "    <tr style=\"text-align: right;\">\n",
       "      <th></th>\n",
       "      <th>url</th>\n",
       "      <th>url_length</th>\n",
       "      <th>label</th>\n",
       "    </tr>\n",
       "  </thead>\n",
       "  <tbody>\n",
       "    <tr>\n",
       "      <th>0</th>\n",
       "      <td>br-icloud.com.br</td>\n",
       "      <td>16</td>\n",
       "      <td>1</td>\n",
       "    </tr>\n",
       "    <tr>\n",
       "      <th>1</th>\n",
       "      <td>mp3raid.com/music/krizz_kaliko.html</td>\n",
       "      <td>35</td>\n",
       "      <td>0</td>\n",
       "    </tr>\n",
       "    <tr>\n",
       "      <th>2</th>\n",
       "      <td>bopsecrets.org/rexroth/cr/1.htm</td>\n",
       "      <td>31</td>\n",
       "      <td>0</td>\n",
       "    </tr>\n",
       "    <tr>\n",
       "      <th>3</th>\n",
       "      <td>http://www.garage-pirenne.be/index.php?option=...</td>\n",
       "      <td>88</td>\n",
       "      <td>1</td>\n",
       "    </tr>\n",
       "    <tr>\n",
       "      <th>4</th>\n",
       "      <td>http://adventure-nicaragua.net/index.php?optio...</td>\n",
       "      <td>235</td>\n",
       "      <td>1</td>\n",
       "    </tr>\n",
       "  </tbody>\n",
       "</table>\n",
       "</div>"
      ],
      "text/plain": [
       "                                                 url  url_length  label\n",
       "0                                   br-icloud.com.br          16      1\n",
       "1                mp3raid.com/music/krizz_kaliko.html          35      0\n",
       "2                    bopsecrets.org/rexroth/cr/1.htm          31      0\n",
       "3  http://www.garage-pirenne.be/index.php?option=...          88      1\n",
       "4  http://adventure-nicaragua.net/index.php?optio...         235      1"
      ]
     },
     "execution_count": 14,
     "metadata": {},
     "output_type": "execute_result"
    }
   ],
   "source": [
    "df.head()"
   ]
  },
  {
   "cell_type": "markdown",
   "id": "84d6a716-6b81-4559-a917-44c94131dd2e",
   "metadata": {},
   "source": [
    "We have succesfully dropped the duplicates and encode the label!"
   ]
  },
  {
   "cell_type": "markdown",
   "id": "cecd3155-e8d1-4dbb-afd1-8f0a33a69745",
   "metadata": {},
   "source": [
    "**Visualization**:"
   ]
  },
  {
   "cell_type": "code",
   "execution_count": 15,
   "id": "61194808-04de-4fb7-b6a9-8a33d01e3847",
   "metadata": {},
   "outputs": [
    {
     "data": {
      "image/png": "[encoded data removed]",
      "text/plain": [
       "<Figure size 640x480 with 1 Axes>"
      ]
     },
     "metadata": {},
     "output_type": "display_data"
    }
   ],
   "source": [
    "label_counts = df['label'].value_counts()\n",
    "\n",
    "# Create Bar Plot\n",
    "sns.barplot(x=label_counts.index, y=label_counts.values, hue=label_counts.index, palette='viridis')\n",
    "plt.title('Distribution of Malicious vs Legitimate URLs')\n",
    "plt.ylabel('Count')\n",
    "plt.xlabel('Label')\n",
    "plt.xticks([0, 1], ['Legitimate (0)', 'Malicious (1)'])\n",
    "plt.tight_layout()\n",
    "\n",
    "# Save the plot\n",
    "plt.savefig(fname='../images/Distribution_Malicious_vs_Legitimate_URLs.png')\n",
    "\n",
    "# Show the plot\n",
    "plt.show()"
   ]
  },
  {
   "cell_type": "markdown",
   "id": "8d6c9120-70b6-4866-82d6-ad1721922527",
   "metadata": {},
   "source": [
    "The dataset is not fully balanced, but we do have enough malicious URLs"
   ]
  },
  {
   "cell_type": "code",
   "execution_count": 16,
   "id": "9d909dd2-8b63-4912-9233-a8d5218ba62a",
   "metadata": {},
   "outputs": [
    {
     "data": {
      "text/html": [
       "<div>\n",
       "<style scoped>\n",
       "    .dataframe tbody tr th:only-of-type {\n",
       "        vertical-align: middle;\n",
       "    }\n",
       "\n",
       "    .dataframe tbody tr th {\n",
       "        vertical-align: top;\n",
       "    }\n",
       "\n",
       "    .dataframe thead th {\n",
       "        text-align: right;\n",
       "    }\n",
       "</style>\n",
       "<table border=\"1\" class=\"dataframe\">\n",
       "  <thead>\n",
       "    <tr style=\"text-align: right;\">\n",
       "      <th></th>\n",
       "      <th>url</th>\n",
       "      <th>url_length</th>\n",
       "      <th>label</th>\n",
       "    </tr>\n",
       "  </thead>\n",
       "  <tbody>\n",
       "    <tr>\n",
       "      <th>0</th>\n",
       "      <td>br-icloud.com.br</td>\n",
       "      <td>16</td>\n",
       "      <td>1</td>\n",
       "    </tr>\n",
       "    <tr>\n",
       "      <th>1</th>\n",
       "      <td>mp3raid.com/music/krizz_kaliko.html</td>\n",
       "      <td>35</td>\n",
       "      <td>0</td>\n",
       "    </tr>\n",
       "    <tr>\n",
       "      <th>2</th>\n",
       "      <td>bopsecrets.org/rexroth/cr/1.htm</td>\n",
       "      <td>31</td>\n",
       "      <td>0</td>\n",
       "    </tr>\n",
       "    <tr>\n",
       "      <th>3</th>\n",
       "      <td>http://www.garage-pirenne.be/index.php?option=...</td>\n",
       "      <td>88</td>\n",
       "      <td>1</td>\n",
       "    </tr>\n",
       "    <tr>\n",
       "      <th>4</th>\n",
       "      <td>http://adventure-nicaragua.net/index.php?optio...</td>\n",
       "      <td>235</td>\n",
       "      <td>1</td>\n",
       "    </tr>\n",
       "  </tbody>\n",
       "</table>\n",
       "</div>"
      ],
      "text/plain": [
       "                                                 url  url_length  label\n",
       "0                                   br-icloud.com.br          16      1\n",
       "1                mp3raid.com/music/krizz_kaliko.html          35      0\n",
       "2                    bopsecrets.org/rexroth/cr/1.htm          31      0\n",
       "3  http://www.garage-pirenne.be/index.php?option=...          88      1\n",
       "4  http://adventure-nicaragua.net/index.php?optio...         235      1"
      ]
     },
     "execution_count": 16,
     "metadata": {},
     "output_type": "execute_result"
    }
   ],
   "source": [
    "df.head()"
   ]
  },
  {
   "cell_type": "code",
   "execution_count": 17,
   "id": "1744c126-b917-45c4-813f-1fca89fcde36",
   "metadata": {},
   "outputs": [
    {
     "data": {
      "image/png": "[encoded data removed]",
      "text/plain": [
       "<Figure size 640x480 with 1 Axes>"
      ]
     },
     "metadata": {},
     "output_type": "display_data"
    }
   ],
   "source": [
    "# Create Histogram Plot\n",
    "sns.histplot(data=df, x='url_length', hue='label', kde=True, bins=50)\n",
    "plt.title('URL Length Distribution by Class')\n",
    "plt.xlabel('URL Length')\n",
    "plt.ylabel('Frequency')\n",
    "\n",
    "# Save as Image\n",
    "plt.savefig(fname='../images/URL_Length_Distribution_By_Class.png')\n",
    "\n",
    "# Show the Plot\n",
    "plt.show()"
   ]
  },
  {
   "cell_type": "code",
   "execution_count": 18,
   "id": "7a9d459e-414d-4437-b800-a3894e8abfbc",
   "metadata": {},
   "outputs": [
    {
     "data": {
      "image/png": "[encoded data removed]",
      "text/plain": [
       "<Figure size 640x480 with 1 Axes>"
      ]
     },
     "metadata": {},
     "output_type": "display_data"
    }
   ],
   "source": [
    "# Get the mean of the URL length based on the label\n",
    "mean_length = df.groupby('label')['url_length'].mean()\n",
    "\n",
    "# Plot\n",
    "mean_length.plot(kind='bar', color=['lightblue', 'salmon'])\n",
    "plt.title('Mean URL Length by Class')\n",
    "plt.xlabel('Label (0 = Legitimate, 1 = Malicious)')\n",
    "plt.ylabel('Average URL Length')\n",
    "plt.xticks(rotation=0)\n",
    "\n",
    "# Save as Image\n",
    "plt.savefig(fname='../images/Mean_URL_Length_By_Class.png')\n",
    "\n",
    "# Show the Plot\n",
    "plt.show()"
   ]
  },
  {
   "cell_type": "code",
   "execution_count": null,
   "id": "d71bc3b1-1332-4d6d-8959-8d3824d35465",
   "metadata": {},
   "outputs": [],
   "source": []
  }
 ],
 "metadata": {
  "kernelspec": {
   "display_name": "Python 3 (ipykernel)",
   "language": "python",
   "name": "python3"
  },
  "language_info": {
   "codemirror_mode": {
    "name": "ipython",
    "version": 3
   },
   "file_extension": ".py",
   "mimetype": "text/x-python",
   "name": "python",
   "nbconvert_exporter": "python",
   "pygments_lexer": "ipython3",
   "version": "3.10.0"
  }
 },
 "nbformat": 4,
 "nbformat_minor": 5
}
