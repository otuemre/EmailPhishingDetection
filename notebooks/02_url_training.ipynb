{
 "cells": [
  {
   "cell_type": "markdown",
   "id": "df52ea71-fbd8-4cad-9cef-edd13e1ccf08",
   "metadata": {},
   "source": [
    "# URL Phishing Detection\n",
    "\n",
    "In this notebook, we aim to build a machine learning model that can accurately classify URLs as either **malicious (phishing)** or **benign (legitimate)** based on their structural characteristics. Unlike natural language processing approaches used for email body content, URLs require a feature-engineering-based strategy, focusing on patterns like length, presence of suspicious keywords, number of dots or slashes, and more.\n",
    "\n",
    "We'll use the **Malicious URLs Dataset** from Kaggle, extract relevant features from each URL, train a classification model, evaluate its performance, and save the best-performing model for production use in our unified phishing detection system.\n",
    "\n",
    "📌 **Goal**: Achieve at least **95% accuracy** in detecting phishing URLs, while maintaining low false positives to ensure reliability in real-world scenarios."
   ]
  },
  {
   "cell_type": "markdown",
   "id": "485e003d-7cc7-4f3d-847f-3976b98fe172",
   "metadata": {},
   "source": [
    "**Imports**:"
   ]
  },
  {
   "cell_type": "code",
   "execution_count": 1,
   "id": "605d6f5c-5dfe-4cda-b7ec-9b690697c04a",
   "metadata": {},
   "outputs": [],
   "source": [
    "# Data Handling\n",
    "import pandas as pd\n",
    "import numpy as np\n",
    "\n",
    "# Visualization\n",
    "import matplotlib.pyplot as plt\n",
    "import seaborn as sns\n",
    "\n",
    "# Feature Engineering\n",
    "import re\n",
    "from urllib.parse import urlparse\n",
    "from collections import Counter\n",
    "\n",
    "# Model Training\n",
    "from sklearn.model_selection import train_test_split, cross_val_score\n",
    "from sklearn.feature_extraction.text import TfidfVectorizer\n",
    "from sklearn.ensemble import RandomForestClassifier\n",
    "from sklearn.linear_model import LogisticRegression\n",
    "from xgboost import XGBClassifier\n",
    "\n",
    "# Hyperparameter Tuning\n",
    "import optuna\n",
    "\n",
    "# Evaluation\n",
    "from sklearn.metrics import classification_report, confusion_matrix, accuracy_score\n",
    "\n",
    "# Model Saving\n",
    "import joblib\n",
    "\n",
    "# Plot Style\n",
    "sns.set_style('dark')"
   ]
  },
  {
   "cell_type": "markdown",
   "id": "7b1265dd-0032-4662-ae88-41a6fca4674a",
   "metadata": {},
   "source": [
    "**Load the Dataset**:"
   ]
  },
  {
   "cell_type": "code",
   "execution_count": 2,
   "id": "62e86a8a-047a-45f6-b26f-303db2b82cef",
   "metadata": {},
   "outputs": [
    {
     "data": {
      "text/html": [
       "<div>\n",
       "<style scoped>\n",
       "    .dataframe tbody tr th:only-of-type {\n",
       "        vertical-align: middle;\n",
       "    }\n",
       "\n",
       "    .dataframe tbody tr th {\n",
       "        vertical-align: top;\n",
       "    }\n",
       "\n",
       "    .dataframe thead th {\n",
       "        text-align: right;\n",
       "    }\n",
       "</style>\n",
       "<table border=\"1\" class=\"dataframe\">\n",
       "  <thead>\n",
       "    <tr style=\"text-align: right;\">\n",
       "      <th></th>\n",
       "      <th>url</th>\n",
       "      <th>label</th>\n",
       "    </tr>\n",
       "  </thead>\n",
       "  <tbody>\n",
       "    <tr>\n",
       "      <th>0</th>\n",
       "      <td>https://www.google.com</td>\n",
       "      <td>benign</td>\n",
       "    </tr>\n",
       "    <tr>\n",
       "      <th>1</th>\n",
       "      <td>https://www.youtube.com</td>\n",
       "      <td>benign</td>\n",
       "    </tr>\n",
       "    <tr>\n",
       "      <th>2</th>\n",
       "      <td>https://www.facebook.com</td>\n",
       "      <td>benign</td>\n",
       "    </tr>\n",
       "    <tr>\n",
       "      <th>3</th>\n",
       "      <td>https://www.baidu.com</td>\n",
       "      <td>benign</td>\n",
       "    </tr>\n",
       "    <tr>\n",
       "      <th>4</th>\n",
       "      <td>https://www.wikipedia.org</td>\n",
       "      <td>benign</td>\n",
       "    </tr>\n",
       "  </tbody>\n",
       "</table>\n",
       "</div>"
      ],
      "text/plain": [
       "                         url   label\n",
       "0     https://www.google.com  benign\n",
       "1    https://www.youtube.com  benign\n",
       "2   https://www.facebook.com  benign\n",
       "3      https://www.baidu.com  benign\n",
       "4  https://www.wikipedia.org  benign"
      ]
     },
     "execution_count": 2,
     "metadata": {},
     "output_type": "execute_result"
    }
   ],
   "source": [
    "# Load the Dataset\n",
    "df = pd.read_csv('../data/test.csv')\n",
    "df.head()"
   ]
  },
  {
   "cell_type": "markdown",
   "id": "0339668a-eb2b-4a92-8642-6eb22acbda31",
   "metadata": {},
   "source": [
    "## Exploratory Data Analysis (EDA)\n",
    "\n",
    "In this section, we will perform Exploratory Data Analysis (EDA) to better understand the structure and distribution of the dataset. We'll examine the balance between phishing and benign URLs, check for missing values, and identify any patterns or inconsistencies that could influence feature extraction. This step ensures we have a clear understanding of the data before moving into feature engineering and model training."
   ]
  },
  {
   "cell_type": "markdown",
   "id": "bfb6196a-b4fc-42a5-a733-ab0702fa5c6b",
   "metadata": {},
   "source": [
    "**Basics**:"
   ]
  },
  {
   "cell_type": "code",
   "execution_count": 3,
   "id": "e1ce9913-4ce6-4e39-a9bb-ba9fc3a9ad08",
   "metadata": {},
   "outputs": [
    {
     "data": {
      "text/html": [
       "<div>\n",
       "<style scoped>\n",
       "    .dataframe tbody tr th:only-of-type {\n",
       "        vertical-align: middle;\n",
       "    }\n",
       "\n",
       "    .dataframe tbody tr th {\n",
       "        vertical-align: top;\n",
       "    }\n",
       "\n",
       "    .dataframe thead th {\n",
       "        text-align: right;\n",
       "    }\n",
       "</style>\n",
       "<table border=\"1\" class=\"dataframe\">\n",
       "  <thead>\n",
       "    <tr style=\"text-align: right;\">\n",
       "      <th></th>\n",
       "      <th>url</th>\n",
       "      <th>label</th>\n",
       "    </tr>\n",
       "  </thead>\n",
       "  <tbody>\n",
       "    <tr>\n",
       "      <th>0</th>\n",
       "      <td>https://www.google.com</td>\n",
       "      <td>benign</td>\n",
       "    </tr>\n",
       "    <tr>\n",
       "      <th>1</th>\n",
       "      <td>https://www.youtube.com</td>\n",
       "      <td>benign</td>\n",
       "    </tr>\n",
       "    <tr>\n",
       "      <th>2</th>\n",
       "      <td>https://www.facebook.com</td>\n",
       "      <td>benign</td>\n",
       "    </tr>\n",
       "    <tr>\n",
       "      <th>3</th>\n",
       "      <td>https://www.baidu.com</td>\n",
       "      <td>benign</td>\n",
       "    </tr>\n",
       "    <tr>\n",
       "      <th>4</th>\n",
       "      <td>https://www.wikipedia.org</td>\n",
       "      <td>benign</td>\n",
       "    </tr>\n",
       "  </tbody>\n",
       "</table>\n",
       "</div>"
      ],
      "text/plain": [
       "                         url   label\n",
       "0     https://www.google.com  benign\n",
       "1    https://www.youtube.com  benign\n",
       "2   https://www.facebook.com  benign\n",
       "3      https://www.baidu.com  benign\n",
       "4  https://www.wikipedia.org  benign"
      ]
     },
     "execution_count": 3,
     "metadata": {},
     "output_type": "execute_result"
    }
   ],
   "source": [
    "df.head()"
   ]
  },
  {
   "cell_type": "code",
   "execution_count": 4,
   "id": "27a3f463-f10e-4a7d-8414-5468f792a46e",
   "metadata": {},
   "outputs": [
    {
     "name": "stdout",
     "output_type": "stream",
     "text": [
      "<class 'pandas.core.frame.DataFrame'>\n",
      "RangeIndex: 450176 entries, 0 to 450175\n",
      "Data columns (total 2 columns):\n",
      " #   Column  Non-Null Count   Dtype \n",
      "---  ------  --------------   ----- \n",
      " 0   url     450176 non-null  object\n",
      " 1   label   450176 non-null  object\n",
      "dtypes: object(2)\n",
      "memory usage: 6.9+ MB\n"
     ]
    }
   ],
   "source": [
    "df.info()"
   ]
  },
  {
   "cell_type": "code",
   "execution_count": 5,
   "id": "663ae8ef-6b77-424e-9282-ce789ae5b983",
   "metadata": {},
   "outputs": [
    {
     "data": {
      "text/html": [
       "<div>\n",
       "<style scoped>\n",
       "    .dataframe tbody tr th:only-of-type {\n",
       "        vertical-align: middle;\n",
       "    }\n",
       "\n",
       "    .dataframe tbody tr th {\n",
       "        vertical-align: top;\n",
       "    }\n",
       "\n",
       "    .dataframe thead th {\n",
       "        text-align: right;\n",
       "    }\n",
       "</style>\n",
       "<table border=\"1\" class=\"dataframe\">\n",
       "  <thead>\n",
       "    <tr style=\"text-align: right;\">\n",
       "      <th></th>\n",
       "      <th>url</th>\n",
       "      <th>label</th>\n",
       "    </tr>\n",
       "  </thead>\n",
       "  <tbody>\n",
       "    <tr>\n",
       "      <th>count</th>\n",
       "      <td>450176</td>\n",
       "      <td>450176</td>\n",
       "    </tr>\n",
       "    <tr>\n",
       "      <th>unique</th>\n",
       "      <td>450174</td>\n",
       "      <td>2</td>\n",
       "    </tr>\n",
       "    <tr>\n",
       "      <th>top</th>\n",
       "      <td>http://golfballsonline.com/html/c_atalog.html</td>\n",
       "      <td>benign</td>\n",
       "    </tr>\n",
       "    <tr>\n",
       "      <th>freq</th>\n",
       "      <td>2</td>\n",
       "      <td>345738</td>\n",
       "    </tr>\n",
       "  </tbody>\n",
       "</table>\n",
       "</div>"
      ],
      "text/plain": [
       "                                                  url   label\n",
       "count                                          450176  450176\n",
       "unique                                         450174       2\n",
       "top     http://golfballsonline.com/html/c_atalog.html  benign\n",
       "freq                                                2  345738"
      ]
     },
     "execution_count": 5,
     "metadata": {},
     "output_type": "execute_result"
    }
   ],
   "source": [
    "df.describe()"
   ]
  },
  {
   "cell_type": "code",
   "execution_count": 6,
   "id": "a11477a7-e23d-4d10-bc70-a35ef03c2549",
   "metadata": {},
   "outputs": [
    {
     "data": {
      "text/plain": [
       "url      0\n",
       "label    0\n",
       "dtype: int64"
      ]
     },
     "execution_count": 6,
     "metadata": {},
     "output_type": "execute_result"
    }
   ],
   "source": [
    "df.isna().sum()"
   ]
  },
  {
   "cell_type": "code",
   "execution_count": 7,
   "id": "2652edeb-b61a-461c-9e55-841b6598ff90",
   "metadata": {},
   "outputs": [
    {
     "data": {
      "text/plain": [
       "np.int64(2)"
      ]
     },
     "execution_count": 7,
     "metadata": {},
     "output_type": "execute_result"
    }
   ],
   "source": [
    "df['url'].duplicated().sum()"
   ]
  },
  {
   "cell_type": "markdown",
   "id": "488287c5-301b-41b9-8368-3d30220ad0db",
   "metadata": {},
   "source": [
    "The dataset contains **651,191 URL entries** across two columns: `url` and `type`. There are **no missing values**, but we found **10,072 duplicate URLs**, which we may choose to remove to avoid bias. The `type` column has four unique values, with `'benign'` being the most frequent, appearing over 428,000 times. Before moving on, we’ll explore the label distribution and decide whether to filter or merge any classes for binary classification (e.g., phishing vs. non-phishing)."
   ]
  },
  {
   "cell_type": "code",
   "execution_count": 8,
   "id": "4b84f334-a2e5-4267-88a1-8f64b59c494a",
   "metadata": {},
   "outputs": [
    {
     "data": {
      "text/plain": [
       "array(['benign', 'malicious'], dtype=object)"
      ]
     },
     "execution_count": 8,
     "metadata": {},
     "output_type": "execute_result"
    }
   ],
   "source": [
    "df['label'].unique()"
   ]
  },
  {
   "cell_type": "markdown",
   "id": "602adf96-c1fa-4462-9e27-89bcc39e784a",
   "metadata": {},
   "source": [
    "The `type` column contains four categories: `'phishing'`, `'malware'`, `'defacement'`, and `'benign'`. Since our goal is to classify URLs as either **malicious** or **legitimate**, we will convert this into a binary classification task. Specifically, `'phishing'`, `'malware'`, and `'defacement'` will be grouped under the **malicious** class (label `1`), while `'benign'` will remain as **legitimate** (label `0`). This approach simplifies the task and aligns with our existing email phishing detection model."
   ]
  },
  {
   "cell_type": "code",
   "execution_count": 9,
   "id": "14ddca5f-8d5d-47a7-9528-4db49919e284",
   "metadata": {},
   "outputs": [],
   "source": [
    "df['url_length'] = df['url'].apply(len)"
   ]
  },
  {
   "cell_type": "markdown",
   "id": "68e5a1ee-442d-4e17-8e92-a723e9e94a54",
   "metadata": {},
   "source": [
    "**Drop the Duplicates**:"
   ]
  },
  {
   "cell_type": "code",
   "execution_count": 10,
   "id": "4569a4fb-4b67-4fe9-8b1f-9290c93b2bf9",
   "metadata": {},
   "outputs": [
    {
     "data": {
      "text/plain": [
       "np.int64(0)"
      ]
     },
     "execution_count": 10,
     "metadata": {},
     "output_type": "execute_result"
    }
   ],
   "source": [
    "df = df.drop_duplicates(subset='url')\n",
    "df['url'].duplicated().sum()"
   ]
  },
  {
   "cell_type": "markdown",
   "id": "3874d1fa-ccd8-4437-8143-6a6527a313b0",
   "metadata": {},
   "source": [
    "**Encode the Type**:"
   ]
  },
  {
   "cell_type": "code",
   "execution_count": 11,
   "id": "9f356d02-dc83-4654-84c3-7819dc6c0572",
   "metadata": {},
   "outputs": [
    {
     "data": {
      "text/plain": [
       "array([0, 1], dtype=object)"
      ]
     },
     "execution_count": 11,
     "metadata": {},
     "output_type": "execute_result"
    }
   ],
   "source": [
    "df.loc[:, 'label'] = df['label'].apply(lambda x: 0 if x=='benign' else 1)\n",
    "df['label'].unique()"
   ]
  },
  {
   "cell_type": "code",
   "execution_count": 12,
   "id": "763dc2d8-1be6-476a-8691-16bda4448ea3",
   "metadata": {},
   "outputs": [
    {
     "data": {
      "text/plain": [
       "label\n",
       "0    76.80097\n",
       "1    23.19903\n",
       "Name: proportion, dtype: float64"
      ]
     },
     "execution_count": 12,
     "metadata": {},
     "output_type": "execute_result"
    }
   ],
   "source": [
    "df['label'].value_counts(normalize=True) * 100"
   ]
  },
  {
   "cell_type": "code",
   "execution_count": 13,
   "id": "1d504eff-6cb0-42a0-8eaf-e0a4390ee460",
   "metadata": {},
   "outputs": [
    {
     "data": {
      "text/html": [
       "<div>\n",
       "<style scoped>\n",
       "    .dataframe tbody tr th:only-of-type {\n",
       "        vertical-align: middle;\n",
       "    }\n",
       "\n",
       "    .dataframe tbody tr th {\n",
       "        vertical-align: top;\n",
       "    }\n",
       "\n",
       "    .dataframe thead th {\n",
       "        text-align: right;\n",
       "    }\n",
       "</style>\n",
       "<table border=\"1\" class=\"dataframe\">\n",
       "  <thead>\n",
       "    <tr style=\"text-align: right;\">\n",
       "      <th></th>\n",
       "      <th>url</th>\n",
       "      <th>label</th>\n",
       "      <th>url_length</th>\n",
       "    </tr>\n",
       "  </thead>\n",
       "  <tbody>\n",
       "    <tr>\n",
       "      <th>0</th>\n",
       "      <td>https://www.google.com</td>\n",
       "      <td>0</td>\n",
       "      <td>22</td>\n",
       "    </tr>\n",
       "    <tr>\n",
       "      <th>1</th>\n",
       "      <td>https://www.youtube.com</td>\n",
       "      <td>0</td>\n",
       "      <td>23</td>\n",
       "    </tr>\n",
       "    <tr>\n",
       "      <th>2</th>\n",
       "      <td>https://www.facebook.com</td>\n",
       "      <td>0</td>\n",
       "      <td>24</td>\n",
       "    </tr>\n",
       "    <tr>\n",
       "      <th>3</th>\n",
       "      <td>https://www.baidu.com</td>\n",
       "      <td>0</td>\n",
       "      <td>21</td>\n",
       "    </tr>\n",
       "    <tr>\n",
       "      <th>4</th>\n",
       "      <td>https://www.wikipedia.org</td>\n",
       "      <td>0</td>\n",
       "      <td>25</td>\n",
       "    </tr>\n",
       "  </tbody>\n",
       "</table>\n",
       "</div>"
      ],
      "text/plain": [
       "                         url label  url_length\n",
       "0     https://www.google.com     0          22\n",
       "1    https://www.youtube.com     0          23\n",
       "2   https://www.facebook.com     0          24\n",
       "3      https://www.baidu.com     0          21\n",
       "4  https://www.wikipedia.org     0          25"
      ]
     },
     "execution_count": 13,
     "metadata": {},
     "output_type": "execute_result"
    }
   ],
   "source": [
    "df.head()"
   ]
  },
  {
   "cell_type": "markdown",
   "id": "84d6a716-6b81-4559-a917-44c94131dd2e",
   "metadata": {},
   "source": [
    "We have succesfully dropped the duplicates and encode the label!"
   ]
  },
  {
   "cell_type": "markdown",
   "id": "cecd3155-e8d1-4dbb-afd1-8f0a33a69745",
   "metadata": {},
   "source": [
    "**Visualization**:"
   ]
  },
  {
   "cell_type": "code",
   "execution_count": 14,
   "id": "61194808-04de-4fb7-b6a9-8a33d01e3847",
   "metadata": {},
   "outputs": [
    {
     "data": {
      "image/png": "[encoded data removed]",
      "text/plain": [
       "<Figure size 640x480 with 1 Axes>"
      ]
     },
     "metadata": {},
     "output_type": "display_data"
    }
   ],
   "source": [
    "label_counts = df['label'].value_counts()\n",
    "\n",
    "# Create Bar Plot\n",
    "sns.barplot(x=label_counts.index, y=label_counts.values, hue=label_counts.index, palette='viridis')\n",
    "plt.title('Distribution of Malicious vs Legitimate URLs')\n",
    "plt.ylabel('Count')\n",
    "plt.xlabel('Label')\n",
    "plt.xticks([0, 1], ['Legitimate (0)', 'Malicious (1)'])\n",
    "plt.tight_layout()\n",
    "\n",
    "# Save the plot\n",
    "plt.savefig(fname='../images/Distribution_Malicious_vs_Legitimate_URLs.png')\n",
    "\n",
    "# Show the plot\n",
    "plt.show()"
   ]
  },
  {
   "cell_type": "markdown",
   "id": "8d6c9120-70b6-4866-82d6-ad1721922527",
   "metadata": {},
   "source": [
    "The dataset is not fully balanced, but we do have enough malicious URLs"
   ]
  },
  {
   "cell_type": "code",
   "execution_count": 15,
   "id": "9d909dd2-8b63-4912-9233-a8d5218ba62a",
   "metadata": {},
   "outputs": [
    {
     "data": {
      "text/html": [
       "<div>\n",
       "<style scoped>\n",
       "    .dataframe tbody tr th:only-of-type {\n",
       "        vertical-align: middle;\n",
       "    }\n",
       "\n",
       "    .dataframe tbody tr th {\n",
       "        vertical-align: top;\n",
       "    }\n",
       "\n",
       "    .dataframe thead th {\n",
       "        text-align: right;\n",
       "    }\n",
       "</style>\n",
       "<table border=\"1\" class=\"dataframe\">\n",
       "  <thead>\n",
       "    <tr style=\"text-align: right;\">\n",
       "      <th></th>\n",
       "      <th>url</th>\n",
       "      <th>label</th>\n",
       "      <th>url_length</th>\n",
       "    </tr>\n",
       "  </thead>\n",
       "  <tbody>\n",
       "    <tr>\n",
       "      <th>0</th>\n",
       "      <td>https://www.google.com</td>\n",
       "      <td>0</td>\n",
       "      <td>22</td>\n",
       "    </tr>\n",
       "    <tr>\n",
       "      <th>1</th>\n",
       "      <td>https://www.youtube.com</td>\n",
       "      <td>0</td>\n",
       "      <td>23</td>\n",
       "    </tr>\n",
       "    <tr>\n",
       "      <th>2</th>\n",
       "      <td>https://www.facebook.com</td>\n",
       "      <td>0</td>\n",
       "      <td>24</td>\n",
       "    </tr>\n",
       "    <tr>\n",
       "      <th>3</th>\n",
       "      <td>https://www.baidu.com</td>\n",
       "      <td>0</td>\n",
       "      <td>21</td>\n",
       "    </tr>\n",
       "    <tr>\n",
       "      <th>4</th>\n",
       "      <td>https://www.wikipedia.org</td>\n",
       "      <td>0</td>\n",
       "      <td>25</td>\n",
       "    </tr>\n",
       "  </tbody>\n",
       "</table>\n",
       "</div>"
      ],
      "text/plain": [
       "                         url label  url_length\n",
       "0     https://www.google.com     0          22\n",
       "1    https://www.youtube.com     0          23\n",
       "2   https://www.facebook.com     0          24\n",
       "3      https://www.baidu.com     0          21\n",
       "4  https://www.wikipedia.org     0          25"
      ]
     },
     "execution_count": 15,
     "metadata": {},
     "output_type": "execute_result"
    }
   ],
   "source": [
    "df.head()"
   ]
  },
  {
   "cell_type": "code",
   "execution_count": 16,
   "id": "1744c126-b917-45c4-813f-1fca89fcde36",
   "metadata": {},
   "outputs": [
    {
     "data": {
      "image/png": "[encoded data removed]",
      "text/plain": [
       "<Figure size 640x480 with 1 Axes>"
      ]
     },
     "metadata": {},
     "output_type": "display_data"
    }
   ],
   "source": [
    "# Create Histogram Plot\n",
    "sns.histplot(data=df, x='url_length', hue='label', kde=True, bins=50)\n",
    "plt.title('URL Length Distribution by Class')\n",
    "plt.xlabel('URL Length')\n",
    "plt.ylabel('Frequency')\n",
    "\n",
    "# Save as Image\n",
    "plt.savefig(fname='../images/URL_Length_Distribution_By_Class.png')\n",
    "\n",
    "# Show the Plot\n",
    "plt.show()"
   ]
  },
  {
   "cell_type": "code",
   "execution_count": 17,
   "id": "7a9d459e-414d-4437-b800-a3894e8abfbc",
   "metadata": {},
   "outputs": [
    {
     "data": {
      "image/png": "[encoded data removed]",
      "text/plain": [
       "<Figure size 640x480 with 1 Axes>"
      ]
     },
     "metadata": {},
     "output_type": "display_data"
    }
   ],
   "source": [
    "# Get the mean of the URL length based on the label\n",
    "mean_length = df.groupby('label')['url_length'].mean()\n",
    "\n",
    "# Plot\n",
    "mean_length.plot(kind='bar', color=['lightblue', 'salmon'])\n",
    "plt.title('Mean URL Length by Class')\n",
    "plt.xlabel('Label (0 = Legitimate, 1 = Malicious)')\n",
    "plt.ylabel('Average URL Length')\n",
    "plt.xticks(rotation=0)\n",
    "\n",
    "# Save as Image\n",
    "plt.savefig(fname='../images/Mean_URL_Length_By_Class.png')\n",
    "\n",
    "# Show the Plot\n",
    "plt.show()"
   ]
  },
  {
   "cell_type": "markdown",
   "id": "34a5f922-72dd-49f8-9094-2fc134e06cc6",
   "metadata": {},
   "source": [
    "## Path-Based TF-IDF Feature Extraction\n",
    "\n",
    "In this section, we extract additional semantic features from the URL path using TF-IDF vectorization. These features help identify suspicious patterns in the path component, such as the presence of words like \"verify\", \"reset\", or \"login\". This is especially useful when static feature engineering is not sufficient to capture the malicious intent hidden in URL structures."
   ]
  },
  {
   "cell_type": "code",
   "execution_count": 18,
   "id": "1c16b6da-7806-4da1-9956-af9c92fe14f7",
   "metadata": {},
   "outputs": [],
   "source": [
    "# Extract URL paths\n",
    "url_paths = df['url'].apply(lambda x: urlparse(x).path)\n",
    "\n",
    "# TF-IDF Vectorizer (limit max features to reduce dimensionality)\n",
    "tfidf = TfidfVectorizer(max_features=20, token_pattern=r'[\\w\\-]+')\n",
    "tfidf_features = tfidf.fit_transform(url_paths)\n",
    "\n",
    "# Convert to DataFrame\n",
    "tfidf_df = pd.DataFrame(tfidf_features.toarray(), columns=[f\"tfidf_{feat}\" for feat in tfidf.get_feature_names_out()])\n",
    "\n",
    "# Reset index to align with df\n",
    "tfidf_df.reset_index(drop=True, inplace=True)\n",
    "df.reset_index(drop=True, inplace=True)"
   ]
  },
  {
   "cell_type": "markdown",
   "id": "b29333bd-878f-45ab-9624-0a7f3a9b938f",
   "metadata": {},
   "source": [
    "## Feature Engineering\n",
    "\n",
    "In this section, we'll transform each URL into a set of meaningful numerical features that can help a machine learning model distinguish between malicious and legitimate URLs. Since URLs are structured strings, we'll extract features such as the total length of the URL, number of dots and hyphens, presence of an IP address, use of HTTPS, and inclusion of suspicious keywords like \"login\" or \"verify\". These handcrafted features will serve as the input for our machine learning models."
   ]
  },
  {
   "cell_type": "code",
   "execution_count": 19,
   "id": "a5331e8f-83d7-4af1-b5b6-ece44deabd0b",
   "metadata": {},
   "outputs": [],
   "source": [
    "def extract_features(url: str) -> dict:\n",
    "    parsed_url = urlparse(url)\n",
    "    hostname = parsed_url.hostname or \"\"\n",
    "    path = parsed_url.path\n",
    "    query = parsed_url.query\n",
    "\n",
    "    subdomain_parts = hostname.split('.')[:-2]\n",
    "    \n",
    "    domain_keywords = [\n",
    "        'paypal', 'google', 'apple', 'amazon', 'microsoft', 'facebook', 'instagram', 'linkedin',\n",
    "        'twitter', 'whatsapp', 'netflix', 'ebay', 'outlook', 'icloud', 'yahoo', 'github',\n",
    "        'tiktok', 'snapchat', 'discord', 'dropbox', 'skype', 'adobe', 'steam', 'twitch'\n",
    "    ]\n",
    "\n",
    "    suspicious_tlds = ['.info', '.top', '.xyz', '.cn', '.ru', '.ml', '.ga', '.gq', '.tk']\n",
    "\n",
    "    symbols = set('!@#$%^&*()-_=+[]{}|;:,.<>?/\\\\~')\n",
    "\n",
    "    return {\n",
    "        'url_length': len(url),\n",
    "        'num_of_dots': url.count('.'),\n",
    "        'sub_domain_lvl': max(len(hostname.split('.')) - 2, 0),\n",
    "        'path_level': path.count('/'),\n",
    "        'hostname_length': len(hostname),\n",
    "        'path_length': len(path),\n",
    "        'query_length': len(query),\n",
    "\n",
    "        'num_numeric_chars': sum(c.isdigit() for c in url),\n",
    "        'num_of_dash_hostname': hostname.count('-'),\n",
    "        'num_of_symbols': sum(1 for c in url if c in symbols),\n",
    "        'symbol_ratio': sum(1 for c in url if c in symbols) / len(url) if len(url) > 0 else 0,\n",
    "\n",
    "        'has_https': int(url.lower().startswith('https')),\n",
    "        'has_ip_address': int(bool(re.search(r'(\\d{1,3}\\.){3}\\d{1,3}', url))),\n",
    "        'has_non_ascii': int(any(ord(c) > 127 for c in url)),\n",
    "\n",
    "        'random_string': int(bool(re.match(r'^[a-zA-Z0-9]{10,}$', path.split('/')[-1]))),\n",
    "\n",
    "        'domain_in_subdomains': int(any(kw in '.'.join(subdomain_parts).lower() for kw in domain_keywords)),\n",
    "        'domain_in_paths': int(any(kw in path.lower() for kw in domain_keywords)),\n",
    "        'brand_in_domain_prefix': int(any(kw in hostname.split('.')[0].lower() for kw in domain_keywords)),\n",
    "\n",
    "        'login_in_path_or_domain': int('login' in hostname.lower() or 'login' in path.lower()),\n",
    "        'suspicious_tld': int(any(hostname.endswith(tld) for tld in suspicious_tlds)),\n",
    "\n",
    "        'avg_token_length': np.mean([len(tok) for tok in re.split(r'\\W+', url) if tok]) if any(re.split(r'\\W+', url)) else 0,\n",
    "        'entropy': -sum(p * np.log2(p) for p in [freq / len(url) for freq in Counter(url).values()]) if len(url) > 0 else 0\n",
    "    }"
   ]
  },
  {
   "cell_type": "code",
   "execution_count": 20,
   "id": "3e8ee4dd-0370-43d9-a2bb-edbb37b76e1e",
   "metadata": {},
   "outputs": [],
   "source": [
    "features_df = df['url'].apply(extract_features).apply(pd.Series)"
   ]
  },
  {
   "cell_type": "code",
   "execution_count": 21,
   "id": "67e811e9-73ab-4edb-b478-3d9ce5303464",
   "metadata": {},
   "outputs": [],
   "source": [
    "# Merge the TF-IDF features into features_df\n",
    "features_df = pd.concat([features_df, tfidf_df], axis=1)"
   ]
  },
  {
   "cell_type": "code",
   "execution_count": 22,
   "id": "0eea962d-f861-46ae-b499-fb8541a40176",
   "metadata": {},
   "outputs": [],
   "source": [
    "features_df['label'] = df['label'].values"
   ]
  },
  {
   "cell_type": "code",
   "execution_count": 23,
   "id": "ac03dbf4-300c-4ef6-a2e7-750ee1a0b5aa",
   "metadata": {},
   "outputs": [
    {
     "data": {
      "text/plain": [
       "np.int64(82415)"
      ]
     },
     "execution_count": 23,
     "metadata": {},
     "output_type": "execute_result"
    }
   ],
   "source": [
    "features_df.duplicated().sum()"
   ]
  },
  {
   "cell_type": "code",
   "execution_count": 24,
   "id": "d4dcc2d7-e791-416a-a6f1-0f372c7165d3",
   "metadata": {},
   "outputs": [],
   "source": [
    "# features_df = features_df.drop_duplicates()"
   ]
  },
  {
   "cell_type": "code",
   "execution_count": 25,
   "id": "f1f794e3-8df1-4530-803d-139cf2e33a15",
   "metadata": {},
   "outputs": [
    {
     "data": {
      "text/plain": [
       "np.int64(82415)"
      ]
     },
     "execution_count": 25,
     "metadata": {},
     "output_type": "execute_result"
    }
   ],
   "source": [
    "features_df.duplicated().sum()"
   ]
  },
  {
   "cell_type": "code",
   "execution_count": 26,
   "id": "44fe4e23-03e0-4d4b-bc3a-f4ce64ce86ba",
   "metadata": {},
   "outputs": [
    {
     "data": {
      "text/plain": [
       "entropy                    174457\n",
       "symbol_ratio                 3860\n",
       "avg_token_length             3544\n",
       "url_length                    609\n",
       "query_length                  527\n",
       "path_length                   305\n",
       "num_numeric_chars             226\n",
       "tfidf_index                   152\n",
       "tfidf_php                     149\n",
       "hostname_length               146\n",
       "tfidf_html                    135\n",
       "num_of_symbols                133\n",
       "tfidf_com                     115\n",
       "tfidf_login                   107\n",
       "tfidf_htm                     102\n",
       "tfidf_images                   82\n",
       "tfidf_wp-content               79\n",
       "tfidf_en                       77\n",
       "tfidf_news                     73\n",
       "tfidf_aspx                     59\n",
       "tfidf_asp                      40\n",
       "tfidf_2011                     37\n",
       "tfidf_2010                     37\n",
       "tfidf_pages                    37\n",
       "tfidf_people                   33\n",
       "num_of_dots                    32\n",
       "path_level                     24\n",
       "sub_domain_lvl                 19\n",
       "num_of_dash_hostname           17\n",
       "tfidf_wiki                     15\n",
       "tfidf_name                     12\n",
       "tfidf_dp                       11\n",
       "tfidf_watch                     9\n",
       "suspicious_tld                  2\n",
       "login_in_path_or_domain         2\n",
       "has_https                       2\n",
       "has_ip_address                  2\n",
       "has_non_ascii                   2\n",
       "random_string                   2\n",
       "domain_in_subdomains            2\n",
       "domain_in_paths                 2\n",
       "brand_in_domain_prefix          2\n",
       "label                           2\n",
       "dtype: int64"
      ]
     },
     "execution_count": 26,
     "metadata": {},
     "output_type": "execute_result"
    }
   ],
   "source": [
    "features_df.nunique().sort_values(ascending=False)"
   ]
  },
  {
   "cell_type": "code",
   "execution_count": 27,
   "id": "d37268dc-74cd-4e85-b518-71094d14265e",
   "metadata": {},
   "outputs": [
    {
     "data": {
      "text/plain": [
       "url_length                 0\n",
       "num_of_dots                0\n",
       "sub_domain_lvl             0\n",
       "path_level                 0\n",
       "hostname_length            0\n",
       "path_length                0\n",
       "query_length               0\n",
       "num_numeric_chars          0\n",
       "num_of_dash_hostname       0\n",
       "num_of_symbols             0\n",
       "symbol_ratio               0\n",
       "has_https                  0\n",
       "has_ip_address             0\n",
       "has_non_ascii              0\n",
       "random_string              0\n",
       "domain_in_subdomains       0\n",
       "domain_in_paths            0\n",
       "brand_in_domain_prefix     0\n",
       "login_in_path_or_domain    0\n",
       "suspicious_tld             0\n",
       "avg_token_length           0\n",
       "entropy                    0\n",
       "tfidf_2010                 0\n",
       "tfidf_2011                 0\n",
       "tfidf_asp                  0\n",
       "tfidf_aspx                 0\n",
       "tfidf_com                  0\n",
       "tfidf_dp                   0\n",
       "tfidf_en                   0\n",
       "tfidf_htm                  0\n",
       "tfidf_html                 0\n",
       "tfidf_images               0\n",
       "tfidf_index                0\n",
       "tfidf_login                0\n",
       "tfidf_name                 0\n",
       "tfidf_news                 0\n",
       "tfidf_pages                0\n",
       "tfidf_people               0\n",
       "tfidf_php                  0\n",
       "tfidf_watch                0\n",
       "tfidf_wiki                 0\n",
       "tfidf_wp-content           0\n",
       "label                      0\n",
       "dtype: int64"
      ]
     },
     "execution_count": 27,
     "metadata": {},
     "output_type": "execute_result"
    }
   ],
   "source": [
    "features_df.isna().sum().sort_values(ascending=False)"
   ]
  },
  {
   "cell_type": "code",
   "execution_count": 28,
   "id": "054d73ef-dc5d-4c08-9e22-992b5ea0d040",
   "metadata": {},
   "outputs": [
    {
     "data": {
      "text/html": [
       "<div>\n",
       "<style scoped>\n",
       "    .dataframe tbody tr th:only-of-type {\n",
       "        vertical-align: middle;\n",
       "    }\n",
       "\n",
       "    .dataframe tbody tr th {\n",
       "        vertical-align: top;\n",
       "    }\n",
       "\n",
       "    .dataframe thead th {\n",
       "        text-align: right;\n",
       "    }\n",
       "</style>\n",
       "<table border=\"1\" class=\"dataframe\">\n",
       "  <thead>\n",
       "    <tr style=\"text-align: right;\">\n",
       "      <th></th>\n",
       "      <th>url_length</th>\n",
       "      <th>num_of_dots</th>\n",
       "      <th>sub_domain_lvl</th>\n",
       "      <th>path_level</th>\n",
       "      <th>hostname_length</th>\n",
       "      <th>path_length</th>\n",
       "      <th>query_length</th>\n",
       "      <th>num_numeric_chars</th>\n",
       "      <th>num_of_dash_hostname</th>\n",
       "      <th>num_of_symbols</th>\n",
       "      <th>...</th>\n",
       "      <th>tfidf_login</th>\n",
       "      <th>tfidf_name</th>\n",
       "      <th>tfidf_news</th>\n",
       "      <th>tfidf_pages</th>\n",
       "      <th>tfidf_people</th>\n",
       "      <th>tfidf_php</th>\n",
       "      <th>tfidf_watch</th>\n",
       "      <th>tfidf_wiki</th>\n",
       "      <th>tfidf_wp-content</th>\n",
       "      <th>label</th>\n",
       "    </tr>\n",
       "  </thead>\n",
       "  <tbody>\n",
       "    <tr>\n",
       "      <th>0</th>\n",
       "      <td>22.0</td>\n",
       "      <td>2.0</td>\n",
       "      <td>1.0</td>\n",
       "      <td>0.0</td>\n",
       "      <td>14.0</td>\n",
       "      <td>0.0</td>\n",
       "      <td>0.0</td>\n",
       "      <td>0.0</td>\n",
       "      <td>0.0</td>\n",
       "      <td>5.0</td>\n",
       "      <td>...</td>\n",
       "      <td>0.0</td>\n",
       "      <td>0.0</td>\n",
       "      <td>0.0</td>\n",
       "      <td>0.0</td>\n",
       "      <td>0.0</td>\n",
       "      <td>0.0</td>\n",
       "      <td>0.0</td>\n",
       "      <td>0.0</td>\n",
       "      <td>0.0</td>\n",
       "      <td>0</td>\n",
       "    </tr>\n",
       "    <tr>\n",
       "      <th>1</th>\n",
       "      <td>23.0</td>\n",
       "      <td>2.0</td>\n",
       "      <td>1.0</td>\n",
       "      <td>0.0</td>\n",
       "      <td>15.0</td>\n",
       "      <td>0.0</td>\n",
       "      <td>0.0</td>\n",
       "      <td>0.0</td>\n",
       "      <td>0.0</td>\n",
       "      <td>5.0</td>\n",
       "      <td>...</td>\n",
       "      <td>0.0</td>\n",
       "      <td>0.0</td>\n",
       "      <td>0.0</td>\n",
       "      <td>0.0</td>\n",
       "      <td>0.0</td>\n",
       "      <td>0.0</td>\n",
       "      <td>0.0</td>\n",
       "      <td>0.0</td>\n",
       "      <td>0.0</td>\n",
       "      <td>0</td>\n",
       "    </tr>\n",
       "    <tr>\n",
       "      <th>2</th>\n",
       "      <td>24.0</td>\n",
       "      <td>2.0</td>\n",
       "      <td>1.0</td>\n",
       "      <td>0.0</td>\n",
       "      <td>16.0</td>\n",
       "      <td>0.0</td>\n",
       "      <td>0.0</td>\n",
       "      <td>0.0</td>\n",
       "      <td>0.0</td>\n",
       "      <td>5.0</td>\n",
       "      <td>...</td>\n",
       "      <td>0.0</td>\n",
       "      <td>0.0</td>\n",
       "      <td>0.0</td>\n",
       "      <td>0.0</td>\n",
       "      <td>0.0</td>\n",
       "      <td>0.0</td>\n",
       "      <td>0.0</td>\n",
       "      <td>0.0</td>\n",
       "      <td>0.0</td>\n",
       "      <td>0</td>\n",
       "    </tr>\n",
       "    <tr>\n",
       "      <th>3</th>\n",
       "      <td>21.0</td>\n",
       "      <td>2.0</td>\n",
       "      <td>1.0</td>\n",
       "      <td>0.0</td>\n",
       "      <td>13.0</td>\n",
       "      <td>0.0</td>\n",
       "      <td>0.0</td>\n",
       "      <td>0.0</td>\n",
       "      <td>0.0</td>\n",
       "      <td>5.0</td>\n",
       "      <td>...</td>\n",
       "      <td>0.0</td>\n",
       "      <td>0.0</td>\n",
       "      <td>0.0</td>\n",
       "      <td>0.0</td>\n",
       "      <td>0.0</td>\n",
       "      <td>0.0</td>\n",
       "      <td>0.0</td>\n",
       "      <td>0.0</td>\n",
       "      <td>0.0</td>\n",
       "      <td>0</td>\n",
       "    </tr>\n",
       "    <tr>\n",
       "      <th>4</th>\n",
       "      <td>25.0</td>\n",
       "      <td>2.0</td>\n",
       "      <td>1.0</td>\n",
       "      <td>0.0</td>\n",
       "      <td>17.0</td>\n",
       "      <td>0.0</td>\n",
       "      <td>0.0</td>\n",
       "      <td>0.0</td>\n",
       "      <td>0.0</td>\n",
       "      <td>5.0</td>\n",
       "      <td>...</td>\n",
       "      <td>0.0</td>\n",
       "      <td>0.0</td>\n",
       "      <td>0.0</td>\n",
       "      <td>0.0</td>\n",
       "      <td>0.0</td>\n",
       "      <td>0.0</td>\n",
       "      <td>0.0</td>\n",
       "      <td>0.0</td>\n",
       "      <td>0.0</td>\n",
       "      <td>0</td>\n",
       "    </tr>\n",
       "  </tbody>\n",
       "</table>\n",
       "<p>5 rows × 43 columns</p>\n",
       "</div>"
      ],
      "text/plain": [
       "   url_length  num_of_dots  sub_domain_lvl  path_level  hostname_length  \\\n",
       "0        22.0          2.0             1.0         0.0             14.0   \n",
       "1        23.0          2.0             1.0         0.0             15.0   \n",
       "2        24.0          2.0             1.0         0.0             16.0   \n",
       "3        21.0          2.0             1.0         0.0             13.0   \n",
       "4        25.0          2.0             1.0         0.0             17.0   \n",
       "\n",
       "   path_length  query_length  num_numeric_chars  num_of_dash_hostname  \\\n",
       "0          0.0           0.0                0.0                   0.0   \n",
       "1          0.0           0.0                0.0                   0.0   \n",
       "2          0.0           0.0                0.0                   0.0   \n",
       "3          0.0           0.0                0.0                   0.0   \n",
       "4          0.0           0.0                0.0                   0.0   \n",
       "\n",
       "   num_of_symbols  ...  tfidf_login  tfidf_name  tfidf_news  tfidf_pages  \\\n",
       "0             5.0  ...          0.0         0.0         0.0          0.0   \n",
       "1             5.0  ...          0.0         0.0         0.0          0.0   \n",
       "2             5.0  ...          0.0         0.0         0.0          0.0   \n",
       "3             5.0  ...          0.0         0.0         0.0          0.0   \n",
       "4             5.0  ...          0.0         0.0         0.0          0.0   \n",
       "\n",
       "   tfidf_people  tfidf_php  tfidf_watch  tfidf_wiki  tfidf_wp-content  label  \n",
       "0           0.0        0.0          0.0         0.0               0.0      0  \n",
       "1           0.0        0.0          0.0         0.0               0.0      0  \n",
       "2           0.0        0.0          0.0         0.0               0.0      0  \n",
       "3           0.0        0.0          0.0         0.0               0.0      0  \n",
       "4           0.0        0.0          0.0         0.0               0.0      0  \n",
       "\n",
       "[5 rows x 43 columns]"
      ]
     },
     "execution_count": 28,
     "metadata": {},
     "output_type": "execute_result"
    }
   ],
   "source": [
    "features_df.head()"
   ]
  },
  {
   "cell_type": "code",
   "execution_count": 29,
   "id": "a5f4ed89-db0a-4569-9ffb-17cce63aef81",
   "metadata": {},
   "outputs": [],
   "source": [
    "# Save the new dataset\n",
    "features_df.to_csv('../data/url_features_extracted.csv', index=False)"
   ]
  },
  {
   "cell_type": "markdown",
   "id": "693f8ed9-27a4-42f1-90de-d399d5992f71",
   "metadata": {},
   "source": [
    "## Model Training\n",
    "\n",
    "In this section, we will train several machine learning models on the extracted URL features to classify whether a URL is malicious or legitimate. We'll begin by splitting the dataset into training and test sets, then train models such as **Logistic Regression**, **Random Forest**, and **XGBoost**. Our goal is to identify the model that provides the best accuracy and generalization performance on unseen data, ideally achieving **95%+ accuracy** while minimizing false positives."
   ]
  },
  {
   "cell_type": "markdown",
   "id": "fdb5f05f-b4b6-400b-8a5a-2790a4a4ee89",
   "metadata": {},
   "source": [
    "**Prepare the Data**"
   ]
  },
  {
   "cell_type": "code",
   "execution_count": 30,
   "id": "e2c2d82e-5c61-4ff2-be78-1b5c5193764a",
   "metadata": {},
   "outputs": [],
   "source": [
    "# Get X and y\n",
    "X = features_df.drop('label', axis=1)\n",
    "y = features_df['label']\n",
    "\n",
    "# Split to Train and Test\n",
    "X_train, X_test, y_train, y_test = train_test_split(X, y, test_size=0.2, random_state=42, stratify=y)"
   ]
  },
  {
   "cell_type": "code",
   "execution_count": 31,
   "id": "a84942cf-3156-494c-bc4d-e9fa70dad829",
   "metadata": {},
   "outputs": [],
   "source": [
    "y_train = y_train.astype(int)\n",
    "y_test = y_test.astype(int)"
   ]
  },
  {
   "cell_type": "code",
   "execution_count": 32,
   "id": "a46662ba-d2f0-4e6a-9ae1-198d063f4fd1",
   "metadata": {},
   "outputs": [
    {
     "data": {
      "text/plain": [
       "array([0, 1], dtype=object)"
      ]
     },
     "execution_count": 32,
     "metadata": {},
     "output_type": "execute_result"
    }
   ],
   "source": [
    "features_df['label'].unique()"
   ]
  },
  {
   "cell_type": "markdown",
   "id": "6820890c-7bd6-4808-ba72-42b1ff87478b",
   "metadata": {},
   "source": [
    "**Logistic Regression**"
   ]
  },
  {
   "cell_type": "markdown",
   "id": "92c7c3d2-0151-4925-8b68-25bf7044fba6",
   "metadata": {},
   "source": [
    "# Initiate and Fit the Model\n",
    "lr_model = LogisticRegression(max_iter=5000)\n",
    "lr_model.fit(X_train, y_train)\n",
    "\n",
    "# Print the Score\n",
    "lr_score = lr_model.score(X_test, y_test)\n",
    "print(f\"Logistic Regression Base Model's Score: {lr_score}\")\n",
    "\n",
    "# Get the Predicts\n",
    "y_pred_lr = lr_model.predict(X_test)"
   ]
  },
  {
   "cell_type": "markdown",
   "id": "5e7c55a4-7ba4-4ad0-bcef-40a2dc783664",
   "metadata": {},
   "source": [
    "# Accuracy\n",
    "print(\"Accuracy:\", accuracy_score(y_test, y_pred_lr))\n",
    "\n",
    "# Detailed Report\n",
    "print(\"\\nClassification Report:\\n\", classification_report(y_test, y_pred_lr))\n",
    "\n",
    "# Confusion Matrix\n",
    "sns.heatmap(confusion_matrix(y_test, y_pred_lr), annot=True, fmt='d', cmap='Blues')\n",
    "plt.title('URL Confusion Matrix - Logistic Regression')\n",
    "plt.xlabel('Predicted')\n",
    "plt.ylabel('Actual')\n",
    "\n",
    "# Save as Image\n",
    "plt.savefig(fname='../images/URL_Logistic_Regression_Confusion_Matrix.png')\n",
    "\n",
    "# Show the Plot\n",
    "plt.show()"
   ]
  },
  {
   "cell_type": "markdown",
   "id": "b457c892-6bf6-41c3-9aba-1505c0019d91",
   "metadata": {},
   "source": [
    "Logistic Regression provided a strong baseline with an accuracy of **87.19%**. The model demonstrated high precision for detecting malicious URLs (**94%**), but recall was lower (**66%**), indicating it missed a significant number of phishing cases. This is expected for linear models with imbalanced feature importance. While it performs well on legitimate URLs, we need a more powerful classifier to improve detection of malicious ones. We'll now train a **Random Forest** model to see if we can boost recall and overall performance."
   ]
  },
  {
   "cell_type": "markdown",
   "id": "e10d096a-522d-4e83-821f-358c010dde8b",
   "metadata": {},
   "source": [
    "**Random Forest Classifier**"
   ]
  },
  {
   "cell_type": "code",
   "execution_count": 33,
   "id": "4ba194fd-f877-443d-be03-d1d5a0c5eae1",
   "metadata": {},
   "outputs": [
    {
     "name": "stdout",
     "output_type": "stream",
     "text": [
      "Random Forest Classifier Base Model's Score: 0.9947687010606986\n"
     ]
    }
   ],
   "source": [
    "# Initiate and Fit the Model\n",
    "rf_model = RandomForestClassifier(n_estimators=100, random_state=42)\n",
    "rf_model.fit(X_train, y_train)\n",
    "\n",
    "# Print the Score\n",
    "rf_score = rf_model.score(X_test, y_test)\n",
    "print(f\"Random Forest Classifier Base Model's Score: {rf_score}\")\n",
    "\n",
    "# Get the Predicts\n",
    "y_pred_rf = rf_model.predict(X_test)"
   ]
  },
  {
   "cell_type": "code",
   "execution_count": 34,
   "id": "fa600215-a5a8-41fa-bb80-ce18ad92f387",
   "metadata": {},
   "outputs": [
    {
     "name": "stdout",
     "output_type": "stream",
     "text": [
      "Accuracy: 0.9947687010606986\n",
      "\n",
      "Classification Report:\n",
      "               precision    recall  f1-score   support\n",
      "\n",
      "           0       0.99      1.00      1.00     69148\n",
      "           1       1.00      0.98      0.99     20887\n",
      "\n",
      "    accuracy                           0.99     90035\n",
      "   macro avg       1.00      0.99      0.99     90035\n",
      "weighted avg       0.99      0.99      0.99     90035\n",
      "\n"
     ]
    },
    {
     "data": {
      "image/png": "[encoded data removed]",
      "text/plain": [
       "<Figure size 640x480 with 2 Axes>"
      ]
     },
     "metadata": {},
     "output_type": "display_data"
    }
   ],
   "source": [
    "# Accuracy\n",
    "print(\"Accuracy:\", accuracy_score(y_test, y_pred_rf))\n",
    "\n",
    "# Detailed Report\n",
    "print(\"\\nClassification Report:\\n\", classification_report(y_test, y_pred_rf))\n",
    "\n",
    "# Confusion Matrix\n",
    "sns.heatmap(confusion_matrix(y_test, y_pred_rf), annot=True, fmt='d', cmap='Blues')\n",
    "plt.title('URL Confusion Matrix - Random Forest Classifier')\n",
    "plt.xlabel('Predicted')\n",
    "plt.ylabel('Actual')\n",
    "\n",
    "# Save as Image\n",
    "plt.savefig(fname='../images/URL_Random_Forest_Confusion_Matrix.png')\n",
    "\n",
    "# Show the Plot\n",
    "plt.show()"
   ]
  },
  {
   "cell_type": "markdown",
   "id": "9a5d0aa3-9e3a-49c5-8f9f-35586473beb2",
   "metadata": {},
   "source": [
    "The Random Forest model significantly outperformed Logistic Regression, achieving **94.98% accuracy**. It maintained a strong balance between precision (**94%**) and recall (**91%**) on malicious URLs, which makes it far more reliable for phishing detection. The confusion matrix shows a notable drop in false negatives, meaning far fewer malicious URLs were missed. This model is highly promising and may already be production-ready, but we’ll continue with **XGBoost** to see if we can push performance even further."
   ]
  },
  {
   "cell_type": "markdown",
   "id": "ec7725b2-9f97-4c9b-97bc-ba73cc362faa",
   "metadata": {},
   "source": [
    "**XGBoost**"
   ]
  },
  {
   "cell_type": "code",
   "execution_count": 35,
   "id": "74fd1507-5e49-40f6-95b9-469856b5faac",
   "metadata": {},
   "outputs": [
    {
     "name": "stderr",
     "output_type": "stream",
     "text": [
      "C:\\Users\\emrev\\PycharmProjects\\EmailPhishingDetection\\.venv\\lib\\site-packages\\xgboost\\training.py:183: UserWarning: [00:08:48] WARNING: C:\\actions-runner\\_work\\xgboost\\xgboost\\src\\learner.cc:738: \n",
      "Parameters: { \"use_label_encoder\" } are not used.\n",
      "\n",
      "  bst.update(dtrain, iteration=i, fobj=obj)\n"
     ]
    },
    {
     "name": "stdout",
     "output_type": "stream",
     "text": [
      "XGBoost Base Model's Score: 0.9950130504803687\n"
     ]
    }
   ],
   "source": [
    "# Initiate and Fit the Model\n",
    "xgb_model = XGBClassifier(use_label_encoder=False, eval_metric='logloss', random_state=42)\n",
    "xgb_model.fit(X_train, y_train)\n",
    "\n",
    "# Print the Score\n",
    "xgb_score = xgb_model.score(X_test, y_test)\n",
    "print(f\"XGBoost Base Model's Score: {xgb_score}\")\n",
    "\n",
    "# Get the Predicts\n",
    "y_pred_xgb = xgb_model.predict(X_test)"
   ]
  },
  {
   "cell_type": "code",
   "execution_count": 36,
   "id": "b750ec95-460a-4928-96e3-51b791bb202c",
   "metadata": {},
   "outputs": [
    {
     "name": "stdout",
     "output_type": "stream",
     "text": [
      "Accuracy: 0.9950130504803687\n",
      "\n",
      "Classification Report:\n",
      "               precision    recall  f1-score   support\n",
      "\n",
      "           0       0.99      1.00      1.00     69148\n",
      "           1       1.00      0.98      0.99     20887\n",
      "\n",
      "    accuracy                           1.00     90035\n",
      "   macro avg       1.00      0.99      0.99     90035\n",
      "weighted avg       1.00      1.00      0.99     90035\n",
      "\n"
     ]
    },
    {
     "data": {
      "image/png": "[encoded data removed]",
      "text/plain": [
       "<Figure size 640x480 with 2 Axes>"
      ]
     },
     "metadata": {},
     "output_type": "display_data"
    }
   ],
   "source": [
    "# Accuracy\n",
    "print(\"Accuracy:\", accuracy_score(y_test, y_pred_xgb))\n",
    "\n",
    "# Detailed Report\n",
    "print(\"\\nClassification Report:\\n\", classification_report(y_test, y_pred_xgb))\n",
    "\n",
    "# Confusion Matrix\n",
    "sns.heatmap(confusion_matrix(y_test, y_pred_xgb), annot=True, fmt='d', cmap='Blues')\n",
    "plt.title('URL Confusion Matrix - XGBoost')\n",
    "plt.xlabel('Predicted')\n",
    "plt.ylabel('Actual')\n",
    "\n",
    "# Save as Image\n",
    "plt.savefig(fname='../images/URL_XGBoost_Confusion_Matrix.png')\n",
    "\n",
    "# Show the Plot\n",
    "plt.show()"
   ]
  },
  {
   "cell_type": "markdown",
   "id": "166e4992-7a5d-44f4-8bbf-954c5ef0fbb4",
   "metadata": {},
   "source": [
    "XGBoost achieved a high accuracy of **94.67%**, very close to the performance of Random Forest. It maintained strong precision (**94%**) and recall (**90%**) on phishing URLs, making it a reliable and efficient option. While Random Forest slightly outperformed XGBoost in recall, both models demonstrated production-level performance. Depending on future tuning and inference speed needs, either can be selected as the final model for deployment."
   ]
  },
  {
   "cell_type": "code",
   "execution_count": 37,
   "id": "3cdb4077-1fef-451a-bf33-cf49ff8685a9",
   "metadata": {},
   "outputs": [
    {
     "data": {
      "text/plain": [
       "label\n",
       "0    0.768009\n",
       "1    0.231991\n",
       "Name: proportion, dtype: float64"
      ]
     },
     "execution_count": 37,
     "metadata": {},
     "output_type": "execute_result"
    }
   ],
   "source": [
    "y_train.value_counts(normalize=True)"
   ]
  },
  {
   "cell_type": "code",
   "execution_count": 38,
   "id": "daf57f6a-8599-4d3d-b68c-d363a629a80d",
   "metadata": {},
   "outputs": [
    {
     "name": "stdout",
     "output_type": "stream",
     "text": [
      "Train Accuracy: 0.9957155431652779\n",
      "Test Accuracy: 0.9950130504803687\n"
     ]
    }
   ],
   "source": [
    "# Accuracy on Training Set\n",
    "train_preds = xgb_model.predict(X_train)\n",
    "train_acc = accuracy_score(y_train, train_preds)\n",
    "print(\"Train Accuracy:\", train_acc)\n",
    "\n",
    "# Accuracy on Test Set\n",
    "test_preds = xgb_model.predict(X_test)\n",
    "test_acc = accuracy_score(y_test, test_preds)\n",
    "print(\"Test Accuracy:\", test_acc)"
   ]
  },
  {
   "cell_type": "code",
   "execution_count": 39,
   "id": "c274af61-3df6-4e5b-badb-f0888da32e32",
   "metadata": {},
   "outputs": [
    {
     "data": {
      "text/plain": [
       "array([[9.9951261e-01, 4.8740231e-04],\n",
       "       [3.1590462e-05, 9.9996841e-01],\n",
       "       [9.9729329e-01, 2.7066849e-03],\n",
       "       [9.8420459e-01, 1.5795425e-02],\n",
       "       [9.9920255e-01, 7.9746748e-04],\n",
       "       [9.9991328e-01, 8.6740671e-05],\n",
       "       [9.9991471e-01, 8.5301181e-05],\n",
       "       [9.9835539e-01, 1.6446335e-03],\n",
       "       [9.8871100e-01, 1.1288979e-02],\n",
       "       [9.9983251e-01, 1.6749887e-04]], dtype=float32)"
      ]
     },
     "execution_count": 39,
     "metadata": {},
     "output_type": "execute_result"
    }
   ],
   "source": [
    "xgb_model.predict_proba(X_test)[:10]"
   ]
  },
  {
   "cell_type": "markdown",
   "id": "71f9b9a2-016c-4341-8718-a69139e98eee",
   "metadata": {},
   "source": [
    "## Feature Importance Analysis\n",
    "\n",
    "To understand how the model makes predictions, we analyze the feature importances assigned by the trained XGBoost model. This helps us identify which features contribute most to the classification of phishing vs. legitimate URLs and detect any over-reliance on specific attributes."
   ]
  },
  {
   "cell_type": "code",
   "execution_count": 40,
   "id": "730054e7-5a56-4e1d-b3ef-f0ab10b16252",
   "metadata": {},
   "outputs": [
    {
     "data": {
      "image/png": "[encoded data removed]",
      "text/plain": [
       "<Figure size 1000x600 with 1 Axes>"
      ]
     },
     "metadata": {},
     "output_type": "display_data"
    }
   ],
   "source": [
    "# Combine manual + TF-IDF feature names (same order as used in training!)\n",
    "full_feature_names = list(X_train.columns)\n",
    "importances = xgb_model.feature_importances_\n",
    "\n",
    "# Create DataFrame\n",
    "importance_df = pd.DataFrame({\n",
    "    'feature': full_feature_names,\n",
    "    'importance': importances\n",
    "}).sort_values(by='importance', ascending=False)\n",
    "\n",
    "# Plot Top 20\n",
    "plt.figure(figsize=(10, 6))\n",
    "plt.barh(importance_df['feature'][:20][::-1], importance_df['importance'][:20][::-1])\n",
    "plt.title('Top 20 Most Important Features - XGBoost')\n",
    "plt.xlabel('Importance Score')\n",
    "plt.tight_layout()\n",
    "plt.show()"
   ]
  },
  {
   "cell_type": "markdown",
   "id": "9a3dc5d1-cad3-4bec-8b13-4cde4ea52d1a",
   "metadata": {},
   "source": [
    "## Hyperparameter Tuning with Optuna\n",
    "\n",
    "To further improve model performance, we perform hyperparameter tuning using **Optuna**, a powerful optimization framework. Instead of manually selecting parameters, Optuna uses intelligent search techniques to automatically find the best combination of hyperparameters that maximize our chosen evaluation metric. In this case, we aim to **maximize the F1-score**, which balances precision and recall — especially important in phishing detection where both false positives and false negatives have serious consequences. We'll tune both the **Random Forest** and **XGBoost** classifiers using cross-validation."
   ]
  },
  {
   "cell_type": "markdown",
   "id": "ee51ebc7-3624-4ea9-8d56-aee42d48fbd2",
   "metadata": {},
   "source": [
    "**Random Forest Classifier**"
   ]
  },
  {
   "cell_type": "markdown",
   "id": "4aec437f-9282-4e3d-bcee-026094f23bf8",
   "metadata": {},
   "source": [
    "# Define Objective Function for Random Forest\n",
    "def objective_rf(trial):\n",
    "    params = {\n",
    "        'n_estimators': trial.suggest_int('n_estimators', 100, 300),\n",
    "        'max_depth': trial.suggest_int('max_depth', 5, 30),\n",
    "        'min_samples_split': trial.suggest_int('min_samples_split', 2, 10),\n",
    "        'min_samples_leaf': trial.suggest_int('min_samples_leaf', 1, 5),\n",
    "        'max_features': trial.suggest_categorical('max_features', ['sqrt', 'log2'])\n",
    "    }\n",
    "    model = RandomForestClassifier(**params, random_state=42)\n",
    "    score = cross_val_score(model, X_train, y_train, cv=3, scoring='f1').mean()\n",
    "    return score"
   ]
  },
  {
   "cell_type": "markdown",
   "id": "56860ce1-fce2-403f-a496-455365aa3f86",
   "metadata": {},
   "source": [
    "# Run Optuna Study\n",
    "study_rf = optuna.create_study(direction='maximize')\n",
    "study_rf.optimize(objective_rf, n_trials=30)\n",
    "\n",
    "# Best Parameters\n",
    "print(\"Best Hyperparameters for Random Forest:\")\n",
    "print(study_rf.best_params)"
   ]
  },
  {
   "cell_type": "markdown",
   "id": "34b6596c-d9d4-4e35-bc15-9b5365d58f1f",
   "metadata": {},
   "source": [
    "# Train the Final Tuned Model\n",
    "rf_model = RandomForestClassifier(**study_rf.best_params, random_state=42)\n",
    "rf_model.fit(X_train, y_train)\n",
    "\n",
    "# Print the Score\n",
    "rf_score = rf_model.score(X_test, y_test)\n",
    "print(f\"Random Forest Classifier Tuned Model's Score: {rf_score}\")\n",
    "\n",
    "# Get the Predictions\n",
    "y_pred_rf = rf_model.predict(X_test)"
   ]
  },
  {
   "cell_type": "markdown",
   "id": "aac30f38-9f69-4c52-9446-032b8abd0176",
   "metadata": {},
   "source": [
    "# Accuracy\n",
    "print(\"Accuracy:\", accuracy_score(y_test, y_pred_rf))\n",
    "\n",
    "# Detailed Report\n",
    "print(\"\\nClassification Report:\\n\", classification_report(y_test, y_pred_rf))\n",
    "\n",
    "# Confusion Matrix\n",
    "sns.heatmap(confusion_matrix(y_test, y_pred_rf), annot=True, fmt='d', cmap='Blues')\n",
    "plt.title('URL Confusion Matrix - Tuned Random Forest Classifier')\n",
    "plt.xlabel('Predicted')\n",
    "plt.ylabel('Actual')\n",
    "\n",
    "# Save the Plot\n",
    "plt.savefig(fname='../images/URL_Tuned_Random_Forest_Confusion_Matrix.png')\n",
    "plt.show()"
   ]
  },
  {
   "cell_type": "markdown",
   "id": "decb1aa6-27d5-409f-b53a-af7292cacd5f",
   "metadata": {},
   "source": [
    "After hyperparameter tuning with Optuna, the Random Forest model reached an accuracy of **95.10%**, with strong precision (**94%**) and recall (**91%**) on malicious URLs. While the overall accuracy slightly improved over the base model, the real benefit came from reducing false positives and slightly improving consistency. The model now shows excellent balance, making it a highly reliable candidate for deployment."
   ]
  },
  {
   "cell_type": "markdown",
   "id": "fe543d70-3d9e-447c-a3ce-ee34dbfb7008",
   "metadata": {},
   "source": [
    "**XGBoost**"
   ]
  },
  {
   "cell_type": "markdown",
   "id": "f8adc8c0-6353-474a-9064-eae6ce2b08eb",
   "metadata": {},
   "source": [
    "# Define Objective Function for XGBoost\n",
    "def objective_xgb(trial):\n",
    "    params = {\n",
    "        'n_estimators': trial.suggest_int('n_estimators', 100, 300),\n",
    "        'max_depth': trial.suggest_int('max_depth', 3, 20),\n",
    "        'learning_rate': trial.suggest_float('learning_rate', 0.01, 0.3),\n",
    "        'subsample': trial.suggest_float('subsample', 0.6, 1.0),\n",
    "        'colsample_bytree': trial.suggest_float('colsample_bytree', 0.6, 1.0),\n",
    "        'gamma': trial.suggest_float('gamma', 0, 5),\n",
    "        'reg_lambda': trial.suggest_float('reg_lambda', 1e-3, 10.0),\n",
    "        'tree_method': 'hist',\n",
    "        'device': 'cuda',\n",
    "        'eval_metric': 'logloss'\n",
    "    }\n",
    "    model = XGBClassifier(**params, random_state=42)\n",
    "    score = cross_val_score(model, X_train, y_train, cv=3, scoring='f1').mean()\n",
    "    return score"
   ]
  },
  {
   "cell_type": "markdown",
   "id": "2aaef73f-0f2d-466e-9966-3f724b52fc66",
   "metadata": {},
   "source": [
    "# Run Optuna Study\n",
    "study_xgb = optuna.create_study(direction='maximize')\n",
    "study_xgb.optimize(objective_xgb, n_trials=30)\n",
    "\n",
    "# Print Best Params\n",
    "print(\"Best Hyperparameters for XGBoost:\")\n",
    "print(study_xgb.best_params)"
   ]
  },
  {
   "cell_type": "markdown",
   "id": "cfd73091-77de-459f-b70a-fe3f1ba6bef8",
   "metadata": {},
   "source": [
    "# Train the Final Tuned Model\n",
    "xgb_model = XGBClassifier(**study_xgb.best_params, random_state=42)\n",
    "xgb_model.fit(X_train, y_train)\n",
    "\n",
    "# Print the Score\n",
    "xgb_score = xgb_model.score(X_test, y_test)\n",
    "print(f\"XGBoost Classifier Tuned Model's Score: {xgb_score}\")\n",
    "\n",
    "# Get the Predictions\n",
    "y_pred_xgb = xgb_model.predict(X_test)"
   ]
  },
  {
   "cell_type": "markdown",
   "id": "5c77729f-dcb2-44c8-9e27-dbd1977d1582",
   "metadata": {},
   "source": [
    "# Accuracy\n",
    "print(\"Accuracy:\", accuracy_score(y_test, y_pred_xgb))\n",
    "\n",
    "# Detailed Report\n",
    "print(\"\\nClassification Report:\\n\", classification_report(y_test, y_pred_xgb))\n",
    "\n",
    "# Confusion Matrix\n",
    "sns.heatmap(confusion_matrix(y_test, y_pred_xgb), annot=True, fmt='d', cmap='Blues')\n",
    "plt.title('URL Confusion Matrix - Tuned XGBoost Classifier')\n",
    "plt.xlabel('Predicted')\n",
    "plt.ylabel('Actual')\n",
    "\n",
    "# Save the Plot\n",
    "plt.savefig(fname='../images/URL_Tuned_XGBoost_Confusion_Matrix.png')\n",
    "plt.show()"
   ]
  },
  {
   "cell_type": "markdown",
   "id": "f3de5e06-8f8c-45f1-9289-546b730890dd",
   "metadata": {},
   "source": [
    "After tuning with Optuna and enabling GPU acceleration, the XGBoost model achieved an impressive accuracy of **95.14%**, slightly outperforming the tuned Random Forest. It showed excellent balance between precision (**94%**) and recall (**91%**) for detecting malicious URLs. With fewer false negatives and solid generalization, this model demonstrates high reliability and efficiency, making it a strong candidate for deployment in real-time phishing URL detection systems."
   ]
  },
  {
   "cell_type": "markdown",
   "id": "c9272692-c0bb-4b32-b188-87a6bc8fc3af",
   "metadata": {},
   "source": [
    "## Save the Models"
   ]
  },
  {
   "cell_type": "code",
   "execution_count": 41,
   "id": "a138b5ba-d691-40eb-888a-a64ee6dad4d7",
   "metadata": {},
   "outputs": [
    {
     "data": {
      "text/plain": [
       "['../models/url_path_tfidf_vectorizer.joblib']"
      ]
     },
     "execution_count": 41,
     "metadata": {},
     "output_type": "execute_result"
    }
   ],
   "source": [
    "# Save Random Forest Classifier\n",
    "joblib.dump(rf_model, '../models/url_rf_tuned_model.joblib')\n",
    "\n",
    "# Save XBGoost\n",
    "joblib.dump(xgb_model, '../models/url_xgb_tuned_model.joblib')\n",
    "\n",
    "# Save TF-IDF\n",
    "joblib.dump(tfidf, '../models/url_path_tfidf_vectorizer.joblib')"
   ]
  }
 ],
 "metadata": {
  "kernelspec": {
   "display_name": "Python 3 (ipykernel)",
   "language": "python",
   "name": "python3"
  },
  "language_info": {
   "codemirror_mode": {
    "name": "ipython",
    "version": 3
   },
   "file_extension": ".py",
   "mimetype": "text/x-python",
   "name": "python",
   "nbconvert_exporter": "python",
   "pygments_lexer": "ipython3",
   "version": "3.10.0"
  }
 },
 "nbformat": 4,
 "nbformat_minor": 5
}
